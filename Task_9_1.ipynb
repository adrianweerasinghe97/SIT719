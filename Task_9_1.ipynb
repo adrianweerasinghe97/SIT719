{
  "cells": [
    {
      "cell_type": "markdown",
      "metadata": {
        "id": "view-in-github",
        "colab_type": "text"
      },
      "source": [
        "<a href=\"https://colab.research.google.com/github/adrianweerasinghe97/SIT719/blob/master/Task_9_1.ipynb\" target=\"_parent\"><img src=\"https://colab.research.google.com/assets/colab-badge.svg\" alt=\"Open In Colab\"/></a>"
      ]
    },
    {
      "cell_type": "markdown",
      "metadata": {
        "id": "LpAeX-mFz7nV"
      },
      "source": [
        "# Random Forest Model for Predicting Indoor Locations"
      ]
    },
    {
      "cell_type": "markdown",
      "metadata": {
        "id": "pCVYfgCcz7nY"
      },
      "source": [
        "**Datasets**:    UJIIndoorLoc_trainingData.csv (training/validation set), UNJIndoorLoc_validationData.csv (test set)\n",
        "\n",
        "**Scenario**:    Determine the feasbility of using Wi-Fi fingerprints indoor smartphone locationing.\n",
        "             \n",
        "**Goal**:        Benchmark 3 indoor locationing solutions using the UJIIndoorLoc dataset from http://archive.ics.uci.edu/ml/datasets/UJIIndoorLoc. In this script, we'll use a random forest classifier.\n",
        " \n",
        "             \n",
        "- Tuned random forest: \"RandomForestClassifier_model.sav\"\n",
        "  - criterion: gini\n",
        "  - max_depth: not limited\n",
        "  - max_features: sqrt (The number of features to consider when \n",
        "  - looking for the best split)\n",
        "  - n_estimators: 60 (number of trees in the forest)\n",
        "  \n",
        "             \n",
        "- Tuning insights: See \"tuning_rf.csv\" for results of all hyperparameter combinations tried. For this dataset, the Gini splitting criterion generally performed better. Limiting the maximum depth of trees hindered performance. Using the square root of the number of features as the number of features to consider at each split was better than log2 and any percentage between 30 to 90% of the total number of features. More trees generally reduced overfitting, but increased memory usage during training considerably. Due to limited PC memory, the number of trees was limited to 60 trees in the best model.\n",
        "             \n",
        "             \n",
        "- Reason: gives good cross-validation scores. There's slight overfitting, suggested by the 11% gap between the cross-validation scores and the average training fold scores, which can be improved if not limited by PC ram.\n",
        "\n",
        "             \n",
        "- Training set performance (average of k-folds): accuracy 0.968 kappa 0.968  \n",
        "\n",
        "             \n",
        "- Cross validation performance: accuracy 0.856 kappa 0.8554\n",
        "\n",
        "  \n",
        "- Test set performance: \n",
        "\n",
        "  - mean positional error 8.579 m\n",
        "  - 25th percentile       1.466 m\n",
        "  - 50th percentile       5.551 m\n",
        "  - 75th percentile       11.218 m\n",
        "  - 95th percentile       28.303 m\n",
        "  - 100th percentile      94.208 m\n",
        "  - Building hitrate      100%\n",
        "  - Floor hitrate         90.4%"
      ]
    },
    {
      "cell_type": "markdown",
      "metadata": {
        "id": "n4drr-I8z7na"
      },
      "source": [
        "# Imports"
      ]
    },
    {
      "cell_type": "code",
      "execution_count": 119,
      "metadata": {
        "id": "_mP-YAm3z7nb"
      },
      "outputs": [],
      "source": [
        "import numpy as np\n",
        "import matplotlib.pyplot as plt\n",
        "import pandas as pd\n",
        "import time\n",
        "import glob\n",
        "import math\n",
        "import pickle"
      ]
    },
    {
      "cell_type": "markdown",
      "metadata": {
        "id": "sIUsqir9z7nc"
      },
      "source": [
        "# Import Data"
      ]
    },
    {
      "cell_type": "markdown",
      "source": [
        "**5-anonymity**"
      ],
      "metadata": {
        "id": "ZM-lHT9b35Uf"
      }
    },
    {
      "cell_type": "code",
      "execution_count": 55,
      "metadata": {
        "id": "P4aXbIAtz7nc"
      },
      "outputs": [],
      "source": [
        "# training/validation set\n",
        "train_set = pd.read_csv(\"/content/5-anonymity.csv\")\n",
        "\n",
        "# test set\n",
        "test_set = pd.read_csv(\"/content/ValidationData.csv\")"
      ]
    },
    {
      "cell_type": "markdown",
      "source": [
        "**differential-privacy**"
      ],
      "metadata": {
        "id": "MD_g6tZ73893"
      }
    },
    {
      "cell_type": "code",
      "source": [
        "# training/validation set\n",
        "train_set = pd.read_csv(\"/content/differential_privacy.csv\")\n",
        "\n",
        "# test set\n",
        "test_set = pd.read_csv(\"/content/ValidationData.csv\")"
      ],
      "metadata": {
        "id": "LOEy7a324DWS"
      },
      "execution_count": 86,
      "outputs": []
    },
    {
      "cell_type": "markdown",
      "source": [
        "**delta-presence**"
      ],
      "metadata": {
        "id": "HPP4MRSv4MFH"
      }
    },
    {
      "cell_type": "code",
      "source": [
        "# training/validation set\n",
        "train_set = pd.read_csv(\"/content/delta-presence.csv\")\n",
        "\n",
        "# test set\n",
        "test_set = pd.read_csv(\"/content/ValidationData.csv\")"
      ],
      "metadata": {
        "id": "lrV5uzd34gm4"
      },
      "execution_count": 121,
      "outputs": []
    },
    {
      "cell_type": "markdown",
      "metadata": {
        "id": "GagdnIH3z7nc"
      },
      "source": [
        "# Evaluate Data"
      ]
    },
    {
      "cell_type": "markdown",
      "metadata": {
        "id": "iCeTOQtdz7nd"
      },
      "source": [
        "Training/validation Set"
      ]
    },
    {
      "cell_type": "code",
      "execution_count": 122,
      "metadata": {
        "id": "1UdSR_Isz7nd",
        "outputId": "096aa72b-d0a8-401e-94e8-9ecac5f3d433",
        "colab": {
          "base_uri": "https://localhost:8080/"
        }
      },
      "outputs": [
        {
          "output_type": "execute_result",
          "data": {
            "text/plain": [
              "array([0, 2, 1, 3])"
            ]
          },
          "metadata": {},
          "execution_count": 122
        }
      ],
      "source": [
        "train_set.loc[train_set[\"BUILDINGID\"] == 0][\"FLOOR\"].unique() # building 0 has 4 floors\n"
      ]
    },
    {
      "cell_type": "code",
      "execution_count": 123,
      "metadata": {
        "id": "xLAcof6Vz7ne",
        "outputId": "b9a3e738-903b-412e-9aef-3afca4df506b",
        "colab": {
          "base_uri": "https://localhost:8080/"
        }
      },
      "outputs": [
        {
          "output_type": "execute_result",
          "data": {
            "text/plain": [
              "array([2, 0, 1, 3])"
            ]
          },
          "metadata": {},
          "execution_count": 123
        }
      ],
      "source": [
        "train_set.loc[train_set[\"BUILDINGID\"] == 1][\"FLOOR\"].unique() # building 1 has 4 floors"
      ]
    },
    {
      "cell_type": "code",
      "execution_count": 124,
      "metadata": {
        "id": "pO2QPIfjz7nf",
        "outputId": "43cf9141-1aab-4dfd-b508-e6cbf7f2befc",
        "colab": {
          "base_uri": "https://localhost:8080/"
        }
      },
      "outputs": [
        {
          "output_type": "execute_result",
          "data": {
            "text/plain": [
              "array([3, 2, 4, 1, 0])"
            ]
          },
          "metadata": {},
          "execution_count": 124
        }
      ],
      "source": [
        "train_set.loc[train_set[\"BUILDINGID\"] == 2][\"FLOOR\"].unique() # building 2 has 5 floors"
      ]
    },
    {
      "cell_type": "code",
      "execution_count": 125,
      "metadata": {
        "id": "Xd0P1UIvz7nf",
        "outputId": "a6b284dd-bbfb-49fb-cf69-8cdc1ad888f4",
        "colab": {
          "base_uri": "https://localhost:8080/"
        }
      },
      "outputs": [
        {
          "output_type": "execute_result",
          "data": {
            "text/plain": [
              "array(['WAP001', 'WAP002', 'WAP003', 'WAP004', 'WAP005', 'WAP006',\n",
              "       'WAP007', 'WAP008', 'WAP009', 'WAP010', 'WAP011', 'WAP012',\n",
              "       'WAP013', 'WAP014', 'WAP015', 'WAP016', 'WAP017', 'WAP018',\n",
              "       'WAP019', 'WAP020', 'WAP021', 'WAP022', 'WAP023', 'WAP024',\n",
              "       'WAP025', 'WAP026', 'WAP027', 'WAP028', 'WAP029', 'WAP030',\n",
              "       'WAP031', 'WAP032', 'WAP033', 'WAP034', 'WAP035', 'WAP036',\n",
              "       'WAP037', 'WAP038', 'WAP039', 'WAP040', 'WAP041', 'WAP042',\n",
              "       'WAP043', 'WAP044', 'WAP045', 'WAP046', 'WAP047', 'WAP048',\n",
              "       'WAP049', 'WAP050', 'WAP051', 'WAP052', 'WAP053', 'WAP054',\n",
              "       'WAP055', 'WAP056', 'WAP057', 'WAP058', 'WAP059', 'WAP060',\n",
              "       'WAP061', 'WAP062', 'WAP063', 'WAP064', 'WAP065', 'WAP066',\n",
              "       'WAP067', 'WAP068', 'WAP069', 'WAP070', 'WAP071', 'WAP072',\n",
              "       'WAP073', 'WAP074', 'WAP075', 'WAP076', 'WAP077', 'WAP078',\n",
              "       'WAP079', 'WAP080', 'WAP081', 'WAP082', 'WAP083', 'WAP084',\n",
              "       'WAP085', 'WAP086', 'WAP087', 'WAP088', 'WAP089', 'WAP090',\n",
              "       'WAP091', 'WAP092', 'WAP093', 'WAP094', 'WAP095', 'WAP096',\n",
              "       'WAP097', 'WAP098', 'WAP099', 'WAP100', 'WAP101', 'WAP102',\n",
              "       'WAP103', 'WAP104', 'WAP105', 'WAP106', 'WAP107', 'WAP108',\n",
              "       'WAP109', 'WAP110', 'WAP111', 'WAP112', 'WAP113', 'WAP114',\n",
              "       'WAP115', 'WAP116', 'WAP117', 'WAP118', 'WAP119', 'WAP120',\n",
              "       'WAP121', 'WAP122', 'WAP123', 'WAP124', 'WAP125', 'WAP126',\n",
              "       'WAP127', 'WAP128', 'WAP129', 'WAP130', 'WAP131', 'WAP132',\n",
              "       'WAP133', 'WAP134', 'WAP135', 'WAP136', 'WAP137', 'WAP138',\n",
              "       'WAP139', 'WAP140', 'WAP141', 'WAP142', 'WAP143', 'WAP144',\n",
              "       'WAP145', 'WAP146', 'WAP147', 'WAP148', 'WAP149', 'WAP150',\n",
              "       'WAP151', 'WAP152', 'WAP153', 'WAP154', 'WAP155', 'WAP156',\n",
              "       'WAP157', 'WAP158', 'WAP159', 'WAP160', 'WAP161', 'WAP162',\n",
              "       'WAP163', 'WAP164', 'WAP165', 'WAP166', 'WAP167', 'WAP168',\n",
              "       'WAP169', 'WAP170', 'WAP171', 'WAP172', 'WAP173', 'WAP174',\n",
              "       'WAP175', 'WAP176', 'WAP177', 'WAP178', 'WAP179', 'WAP180',\n",
              "       'WAP181', 'WAP182', 'WAP183', 'WAP184', 'WAP185', 'WAP186',\n",
              "       'WAP187', 'WAP188', 'WAP189', 'WAP190', 'WAP191', 'WAP192',\n",
              "       'WAP193', 'WAP194', 'WAP195', 'WAP196', 'WAP197', 'WAP198',\n",
              "       'WAP199', 'WAP200', 'WAP201', 'WAP202', 'WAP203', 'WAP204',\n",
              "       'WAP205', 'WAP206', 'WAP207', 'WAP208', 'WAP209', 'WAP210',\n",
              "       'WAP211', 'WAP212', 'WAP213', 'WAP214', 'WAP215', 'WAP216',\n",
              "       'WAP217', 'WAP218', 'WAP219', 'WAP220', 'WAP221', 'WAP222',\n",
              "       'WAP223', 'WAP224', 'WAP225', 'WAP226', 'WAP227', 'WAP228',\n",
              "       'WAP229', 'WAP230', 'WAP231', 'WAP232', 'WAP233', 'WAP234',\n",
              "       'WAP235', 'WAP236', 'WAP237', 'WAP238', 'WAP239', 'WAP240',\n",
              "       'WAP241', 'WAP242', 'WAP243', 'WAP244', 'WAP245', 'WAP246',\n",
              "       'WAP247', 'WAP248', 'WAP249', 'WAP250', 'WAP251', 'WAP252',\n",
              "       'WAP253', 'WAP254', 'WAP255', 'WAP256', 'WAP257', 'WAP258',\n",
              "       'WAP259', 'WAP260', 'WAP261', 'WAP262', 'WAP263', 'WAP264',\n",
              "       'WAP265', 'WAP266', 'WAP267', 'WAP268', 'WAP269', 'WAP270',\n",
              "       'WAP271', 'WAP272', 'WAP273', 'WAP274', 'WAP275', 'WAP276',\n",
              "       'WAP277', 'WAP278', 'WAP279', 'WAP280', 'WAP281', 'WAP282',\n",
              "       'WAP283', 'WAP284', 'WAP285', 'WAP286', 'WAP287', 'WAP288',\n",
              "       'WAP289', 'WAP290', 'WAP291', 'WAP292', 'WAP293', 'WAP294',\n",
              "       'WAP295', 'WAP296', 'WAP297', 'WAP298', 'WAP299', 'WAP300',\n",
              "       'WAP301', 'WAP302', 'WAP303', 'WAP304', 'WAP305', 'WAP306',\n",
              "       'WAP307', 'WAP308', 'WAP309', 'WAP310', 'WAP311', 'WAP312',\n",
              "       'WAP313', 'WAP314', 'WAP315', 'WAP316', 'WAP317', 'WAP318',\n",
              "       'WAP319', 'WAP320', 'WAP321', 'WAP322', 'WAP323', 'WAP324',\n",
              "       'WAP325', 'WAP326', 'WAP327', 'WAP328', 'WAP329', 'WAP330',\n",
              "       'WAP331', 'WAP332', 'WAP333', 'WAP334', 'WAP335', 'WAP336',\n",
              "       'WAP337', 'WAP338', 'WAP339', 'WAP340', 'WAP341', 'WAP342',\n",
              "       'WAP343', 'WAP344', 'WAP345', 'WAP346', 'WAP347', 'WAP348',\n",
              "       'WAP349', 'WAP350', 'WAP351', 'WAP352', 'WAP353', 'WAP354',\n",
              "       'WAP355', 'WAP356', 'WAP357', 'WAP358', 'WAP359', 'WAP360',\n",
              "       'WAP361', 'WAP362', 'WAP363', 'WAP364', 'WAP365', 'WAP366',\n",
              "       'WAP367', 'WAP368', 'WAP369', 'WAP370', 'WAP371', 'WAP372',\n",
              "       'WAP373', 'WAP374', 'WAP375', 'WAP376', 'WAP377', 'WAP378',\n",
              "       'WAP379', 'WAP380', 'WAP381', 'WAP382', 'WAP383', 'WAP384',\n",
              "       'WAP385', 'WAP386', 'WAP387', 'WAP388', 'WAP389', 'WAP390',\n",
              "       'WAP391', 'WAP392', 'WAP393', 'WAP394', 'WAP395', 'WAP396',\n",
              "       'WAP397', 'WAP398', 'WAP399', 'WAP400', 'WAP401', 'WAP402',\n",
              "       'WAP403', 'WAP404', 'WAP405', 'WAP406', 'WAP407', 'WAP408',\n",
              "       'WAP409', 'WAP410', 'WAP411', 'WAP412', 'WAP413', 'WAP414',\n",
              "       'WAP415', 'WAP416', 'WAP417', 'WAP418', 'WAP419', 'WAP420',\n",
              "       'WAP421', 'WAP422', 'WAP423', 'WAP424', 'WAP425', 'WAP426',\n",
              "       'WAP427', 'WAP428', 'WAP429', 'WAP430', 'WAP431', 'WAP432',\n",
              "       'WAP433', 'WAP434', 'WAP435', 'WAP436', 'WAP437', 'WAP438',\n",
              "       'WAP439', 'WAP440', 'WAP441', 'WAP442', 'WAP443', 'WAP444',\n",
              "       'WAP445', 'WAP446', 'WAP447', 'WAP448', 'WAP449', 'WAP450',\n",
              "       'WAP451', 'WAP452', 'WAP453', 'WAP454', 'WAP455', 'WAP456',\n",
              "       'WAP457', 'WAP458', 'WAP459', 'WAP460', 'WAP461', 'WAP462',\n",
              "       'WAP463', 'WAP464', 'WAP465', 'WAP466', 'WAP467', 'WAP468',\n",
              "       'WAP469', 'WAP470', 'WAP471', 'WAP472', 'WAP473', 'WAP474',\n",
              "       'WAP475', 'WAP476', 'WAP477', 'WAP478', 'WAP479', 'WAP480',\n",
              "       'WAP481', 'WAP482', 'WAP483', 'WAP484', 'WAP485', 'WAP486',\n",
              "       'WAP487', 'WAP488', 'WAP489', 'WAP490', 'WAP491', 'WAP492',\n",
              "       'WAP493', 'WAP494', 'WAP495', 'WAP496', 'WAP497', 'WAP498',\n",
              "       'WAP499', 'WAP500', 'WAP501', 'WAP502', 'WAP503', 'WAP504',\n",
              "       'WAP505', 'WAP506', 'WAP507', 'WAP508', 'WAP509', 'WAP510',\n",
              "       'WAP511', 'WAP512', 'WAP513', 'WAP514', 'WAP515', 'WAP516',\n",
              "       'WAP517', 'WAP518', 'WAP519', 'WAP520', 'LONGITUDE', 'LATITUDE',\n",
              "       'FLOOR', 'BUILDINGID', 'SPACEID', 'RELATIVEPOSITION', 'USERID',\n",
              "       'PHONEID', 'TIMESTAMP'], dtype=object)"
            ]
          },
          "metadata": {},
          "execution_count": 125
        }
      ],
      "source": [
        "train_set.columns.values"
      ]
    },
    {
      "cell_type": "code",
      "execution_count": 126,
      "metadata": {
        "id": "jtFT-E6vz7ng",
        "outputId": "48938929-b7e3-4a62-86f0-8762de9398e3",
        "scrolled": true,
        "colab": {
          "base_uri": "https://localhost:8080/",
          "height": 265
        }
      },
      "outputs": [
        {
          "output_type": "display_data",
          "data": {
            "text/plain": [
              "<Figure size 432x288 with 1 Axes>"
            ],
            "image/png": "[encoded data removed]"
          },
          "metadata": {
            "needs_background": "light"
          }
        }
      ],
      "source": [
        "plt.hist(train_set.loc[train_set[\"BUILDINGID\"] == 0][\"LONGITUDE\"])\n",
        "plt.show()\n"
      ]
    },
    {
      "cell_type": "code",
      "execution_count": 127,
      "metadata": {
        "id": "GGLLmb4yz7ng",
        "outputId": "6cf29f96-4073-4909-b40b-23811992941b",
        "colab": {
          "base_uri": "https://localhost:8080/",
          "height": 265
        }
      },
      "outputs": [
        {
          "output_type": "display_data",
          "data": {
            "text/plain": [
              "<Figure size 432x288 with 1 Axes>"
            ],
            "image/png": "[encoded data removed]"
          },
          "metadata": {
            "needs_background": "light"
          }
        }
      ],
      "source": [
        "plt.hist(train_set.loc[train_set[\"BUILDINGID\"] == 1][\"LONGITUDE\"])\n",
        "plt.show()\n"
      ]
    },
    {
      "cell_type": "code",
      "execution_count": 128,
      "metadata": {
        "id": "OkoPVGikz7nh",
        "outputId": "d256228f-5940-4f3c-ddf2-73c42ec4b65d",
        "colab": {
          "base_uri": "https://localhost:8080/",
          "height": 265
        }
      },
      "outputs": [
        {
          "output_type": "display_data",
          "data": {
            "text/plain": [
              "<Figure size 432x288 with 1 Axes>"
            ],
            "image/png": "[encoded data removed]"
          },
          "metadata": {
            "needs_background": "light"
          }
        }
      ],
      "source": [
        "plt.hist(train_set.loc[train_set[\"BUILDINGID\"] == 2][\"LONGITUDE\"])\n",
        "plt.show()\n"
      ]
    },
    {
      "cell_type": "code",
      "execution_count": 129,
      "metadata": {
        "id": "TrO4yhrKz7ni",
        "outputId": "c1cfe15b-2398-4ca3-b50c-76afe060fd80",
        "colab": {
          "base_uri": "https://localhost:8080/",
          "height": 265
        }
      },
      "outputs": [
        {
          "output_type": "display_data",
          "data": {
            "text/plain": [
              "<Figure size 432x288 with 1 Axes>"
            ],
            "image/png": "[encoded data removed]"
          },
          "metadata": {
            "needs_background": "light"
          }
        }
      ],
      "source": [
        "plt.hist(train_set[\"LONGITUDE\"])\n",
        "plt.show()\n"
      ]
    },
    {
      "cell_type": "code",
      "execution_count": 130,
      "metadata": {
        "id": "kZPn3CUkz7ni",
        "outputId": "223dfd95-2507-4d07-af3a-dd3328feb4ec",
        "colab": {
          "base_uri": "https://localhost:8080/"
        }
      },
      "outputs": [
        {
          "output_type": "execute_result",
          "data": {
            "text/plain": [
              "False"
            ]
          },
          "metadata": {},
          "execution_count": 130
        }
      ],
      "source": [
        "# check for missing values\n",
        "pd.isnull(train_set)\n",
        "pd.isnull(train_set).values.any()\n",
        "# No missing values "
      ]
    },
    {
      "cell_type": "markdown",
      "metadata": {
        "id": "tcSHn6cuz7nj"
      },
      "source": [
        "Test Set"
      ]
    },
    {
      "cell_type": "code",
      "execution_count": 131,
      "metadata": {
        "id": "mbPrdL2Xz7nj",
        "outputId": "a897c17c-9cb8-4f5b-ab71-bb696886eb7c",
        "colab": {
          "base_uri": "https://localhost:8080/"
        }
      },
      "outputs": [
        {
          "output_type": "execute_result",
          "data": {
            "text/plain": [
              "array([2, 1, 0, 3])"
            ]
          },
          "metadata": {},
          "execution_count": 131
        }
      ],
      "source": [
        "test_set.loc[test_set[\"BUILDINGID\"] == 0][\"FLOOR\"].unique() # building 0 has 4 floors"
      ]
    },
    {
      "cell_type": "code",
      "execution_count": 132,
      "metadata": {
        "id": "BZNMw1a1z7nk",
        "outputId": "3fbf7051-52f2-4ac3-efae-2be6ecc92b53",
        "colab": {
          "base_uri": "https://localhost:8080/"
        }
      },
      "outputs": [
        {
          "output_type": "execute_result",
          "data": {
            "text/plain": [
              "array([1, 3, 2, 0])"
            ]
          },
          "metadata": {},
          "execution_count": 132
        }
      ],
      "source": [
        "test_set.loc[test_set[\"BUILDINGID\"] == 1][\"FLOOR\"].unique() # building 1 has 4 floors"
      ]
    },
    {
      "cell_type": "code",
      "execution_count": 133,
      "metadata": {
        "id": "aDUVgaOiz7nk",
        "outputId": "41e038df-1eea-4f71-a384-55fd509ff7cf",
        "colab": {
          "base_uri": "https://localhost:8080/"
        }
      },
      "outputs": [
        {
          "output_type": "execute_result",
          "data": {
            "text/plain": [
              "array([4, 2, 3, 0, 1])"
            ]
          },
          "metadata": {},
          "execution_count": 133
        }
      ],
      "source": [
        "test_set.loc[test_set[\"BUILDINGID\"] == 2][\"FLOOR\"].unique() # building 2 has 5 floors"
      ]
    },
    {
      "cell_type": "code",
      "execution_count": 134,
      "metadata": {
        "id": "1-oG-9QJz7nk",
        "outputId": "52b36944-febe-498d-b9fe-47e8d7db14d0",
        "colab": {
          "base_uri": "https://localhost:8080/"
        }
      },
      "outputs": [
        {
          "output_type": "execute_result",
          "data": {
            "text/plain": [
              "array(['WAP001', 'WAP002', 'WAP003', 'WAP004', 'WAP005', 'WAP006',\n",
              "       'WAP007', 'WAP008', 'WAP009', 'WAP010', 'WAP011', 'WAP012',\n",
              "       'WAP013', 'WAP014', 'WAP015', 'WAP016', 'WAP017', 'WAP018',\n",
              "       'WAP019', 'WAP020', 'WAP021', 'WAP022', 'WAP023', 'WAP024',\n",
              "       'WAP025', 'WAP026', 'WAP027', 'WAP028', 'WAP029', 'WAP030',\n",
              "       'WAP031', 'WAP032', 'WAP033', 'WAP034', 'WAP035', 'WAP036',\n",
              "       'WAP037', 'WAP038', 'WAP039', 'WAP040', 'WAP041', 'WAP042',\n",
              "       'WAP043', 'WAP044', 'WAP045', 'WAP046', 'WAP047', 'WAP048',\n",
              "       'WAP049', 'WAP050', 'WAP051', 'WAP052', 'WAP053', 'WAP054',\n",
              "       'WAP055', 'WAP056', 'WAP057', 'WAP058', 'WAP059', 'WAP060',\n",
              "       'WAP061', 'WAP062', 'WAP063', 'WAP064', 'WAP065', 'WAP066',\n",
              "       'WAP067', 'WAP068', 'WAP069', 'WAP070', 'WAP071', 'WAP072',\n",
              "       'WAP073', 'WAP074', 'WAP075', 'WAP076', 'WAP077', 'WAP078',\n",
              "       'WAP079', 'WAP080', 'WAP081', 'WAP082', 'WAP083', 'WAP084',\n",
              "       'WAP085', 'WAP086', 'WAP087', 'WAP088', 'WAP089', 'WAP090',\n",
              "       'WAP091', 'WAP092', 'WAP093', 'WAP094', 'WAP095', 'WAP096',\n",
              "       'WAP097', 'WAP098', 'WAP099', 'WAP100', 'WAP101', 'WAP102',\n",
              "       'WAP103', 'WAP104', 'WAP105', 'WAP106', 'WAP107', 'WAP108',\n",
              "       'WAP109', 'WAP110', 'WAP111', 'WAP112', 'WAP113', 'WAP114',\n",
              "       'WAP115', 'WAP116', 'WAP117', 'WAP118', 'WAP119', 'WAP120',\n",
              "       'WAP121', 'WAP122', 'WAP123', 'WAP124', 'WAP125', 'WAP126',\n",
              "       'WAP127', 'WAP128', 'WAP129', 'WAP130', 'WAP131', 'WAP132',\n",
              "       'WAP133', 'WAP134', 'WAP135', 'WAP136', 'WAP137', 'WAP138',\n",
              "       'WAP139', 'WAP140', 'WAP141', 'WAP142', 'WAP143', 'WAP144',\n",
              "       'WAP145', 'WAP146', 'WAP147', 'WAP148', 'WAP149', 'WAP150',\n",
              "       'WAP151', 'WAP152', 'WAP153', 'WAP154', 'WAP155', 'WAP156',\n",
              "       'WAP157', 'WAP158', 'WAP159', 'WAP160', 'WAP161', 'WAP162',\n",
              "       'WAP163', 'WAP164', 'WAP165', 'WAP166', 'WAP167', 'WAP168',\n",
              "       'WAP169', 'WAP170', 'WAP171', 'WAP172', 'WAP173', 'WAP174',\n",
              "       'WAP175', 'WAP176', 'WAP177', 'WAP178', 'WAP179', 'WAP180',\n",
              "       'WAP181', 'WAP182', 'WAP183', 'WAP184', 'WAP185', 'WAP186',\n",
              "       'WAP187', 'WAP188', 'WAP189', 'WAP190', 'WAP191', 'WAP192',\n",
              "       'WAP193', 'WAP194', 'WAP195', 'WAP196', 'WAP197', 'WAP198',\n",
              "       'WAP199', 'WAP200', 'WAP201', 'WAP202', 'WAP203', 'WAP204',\n",
              "       'WAP205', 'WAP206', 'WAP207', 'WAP208', 'WAP209', 'WAP210',\n",
              "       'WAP211', 'WAP212', 'WAP213', 'WAP214', 'WAP215', 'WAP216',\n",
              "       'WAP217', 'WAP218', 'WAP219', 'WAP220', 'WAP221', 'WAP222',\n",
              "       'WAP223', 'WAP224', 'WAP225', 'WAP226', 'WAP227', 'WAP228',\n",
              "       'WAP229', 'WAP230', 'WAP231', 'WAP232', 'WAP233', 'WAP234',\n",
              "       'WAP235', 'WAP236', 'WAP237', 'WAP238', 'WAP239', 'WAP240',\n",
              "       'WAP241', 'WAP242', 'WAP243', 'WAP244', 'WAP245', 'WAP246',\n",
              "       'WAP247', 'WAP248', 'WAP249', 'WAP250', 'WAP251', 'WAP252',\n",
              "       'WAP253', 'WAP254', 'WAP255', 'WAP256', 'WAP257', 'WAP258',\n",
              "       'WAP259', 'WAP260', 'WAP261', 'WAP262', 'WAP263', 'WAP264',\n",
              "       'WAP265', 'WAP266', 'WAP267', 'WAP268', 'WAP269', 'WAP270',\n",
              "       'WAP271', 'WAP272', 'WAP273', 'WAP274', 'WAP275', 'WAP276',\n",
              "       'WAP277', 'WAP278', 'WAP279', 'WAP280', 'WAP281', 'WAP282',\n",
              "       'WAP283', 'WAP284', 'WAP285', 'WAP286', 'WAP287', 'WAP288',\n",
              "       'WAP289', 'WAP290', 'WAP291', 'WAP292', 'WAP293', 'WAP294',\n",
              "       'WAP295', 'WAP296', 'WAP297', 'WAP298', 'WAP299', 'WAP300',\n",
              "       'WAP301', 'WAP302', 'WAP303', 'WAP304', 'WAP305', 'WAP306',\n",
              "       'WAP307', 'WAP308', 'WAP309', 'WAP310', 'WAP311', 'WAP312',\n",
              "       'WAP313', 'WAP314', 'WAP315', 'WAP316', 'WAP317', 'WAP318',\n",
              "       'WAP319', 'WAP320', 'WAP321', 'WAP322', 'WAP323', 'WAP324',\n",
              "       'WAP325', 'WAP326', 'WAP327', 'WAP328', 'WAP329', 'WAP330',\n",
              "       'WAP331', 'WAP332', 'WAP333', 'WAP334', 'WAP335', 'WAP336',\n",
              "       'WAP337', 'WAP338', 'WAP339', 'WAP340', 'WAP341', 'WAP342',\n",
              "       'WAP343', 'WAP344', 'WAP345', 'WAP346', 'WAP347', 'WAP348',\n",
              "       'WAP349', 'WAP350', 'WAP351', 'WAP352', 'WAP353', 'WAP354',\n",
              "       'WAP355', 'WAP356', 'WAP357', 'WAP358', 'WAP359', 'WAP360',\n",
              "       'WAP361', 'WAP362', 'WAP363', 'WAP364', 'WAP365', 'WAP366',\n",
              "       'WAP367', 'WAP368', 'WAP369', 'WAP370', 'WAP371', 'WAP372',\n",
              "       'WAP373', 'WAP374', 'WAP375', 'WAP376', 'WAP377', 'WAP378',\n",
              "       'WAP379', 'WAP380', 'WAP381', 'WAP382', 'WAP383', 'WAP384',\n",
              "       'WAP385', 'WAP386', 'WAP387', 'WAP388', 'WAP389', 'WAP390',\n",
              "       'WAP391', 'WAP392', 'WAP393', 'WAP394', 'WAP395', 'WAP396',\n",
              "       'WAP397', 'WAP398', 'WAP399', 'WAP400', 'WAP401', 'WAP402',\n",
              "       'WAP403', 'WAP404', 'WAP405', 'WAP406', 'WAP407', 'WAP408',\n",
              "       'WAP409', 'WAP410', 'WAP411', 'WAP412', 'WAP413', 'WAP414',\n",
              "       'WAP415', 'WAP416', 'WAP417', 'WAP418', 'WAP419', 'WAP420',\n",
              "       'WAP421', 'WAP422', 'WAP423', 'WAP424', 'WAP425', 'WAP426',\n",
              "       'WAP427', 'WAP428', 'WAP429', 'WAP430', 'WAP431', 'WAP432',\n",
              "       'WAP433', 'WAP434', 'WAP435', 'WAP436', 'WAP437', 'WAP438',\n",
              "       'WAP439', 'WAP440', 'WAP441', 'WAP442', 'WAP443', 'WAP444',\n",
              "       'WAP445', 'WAP446', 'WAP447', 'WAP448', 'WAP449', 'WAP450',\n",
              "       'WAP451', 'WAP452', 'WAP453', 'WAP454', 'WAP455', 'WAP456',\n",
              "       'WAP457', 'WAP458', 'WAP459', 'WAP460', 'WAP461', 'WAP462',\n",
              "       'WAP463', 'WAP464', 'WAP465', 'WAP466', 'WAP467', 'WAP468',\n",
              "       'WAP469', 'WAP470', 'WAP471', 'WAP472', 'WAP473', 'WAP474',\n",
              "       'WAP475', 'WAP476', 'WAP477', 'WAP478', 'WAP479', 'WAP480',\n",
              "       'WAP481', 'WAP482', 'WAP483', 'WAP484', 'WAP485', 'WAP486',\n",
              "       'WAP487', 'WAP488', 'WAP489', 'WAP490', 'WAP491', 'WAP492',\n",
              "       'WAP493', 'WAP494', 'WAP495', 'WAP496', 'WAP497', 'WAP498',\n",
              "       'WAP499', 'WAP500', 'WAP501', 'WAP502', 'WAP503', 'WAP504',\n",
              "       'WAP505', 'WAP506', 'WAP507', 'WAP508', 'WAP509', 'WAP510',\n",
              "       'WAP511', 'WAP512', 'WAP513', 'WAP514', 'WAP515', 'WAP516',\n",
              "       'WAP517', 'WAP518', 'WAP519', 'WAP520', 'LONGITUDE', 'LATITUDE',\n",
              "       'FLOOR', 'BUILDINGID', 'SPACEID', 'RELATIVEPOSITION', 'USERID',\n",
              "       'PHONEID', 'TIMESTAMP'], dtype=object)"
            ]
          },
          "metadata": {},
          "execution_count": 134
        }
      ],
      "source": [
        "test_set.columns.values"
      ]
    },
    {
      "cell_type": "code",
      "execution_count": 135,
      "metadata": {
        "id": "26-qPx8nz7nl",
        "outputId": "4c03cd7f-62c1-4770-f14b-09644b417ce9",
        "colab": {
          "base_uri": "https://localhost:8080/",
          "height": 265
        }
      },
      "outputs": [
        {
          "output_type": "display_data",
          "data": {
            "text/plain": [
              "<Figure size 432x288 with 1 Axes>"
            ],
            "image/png": "[encoded data removed]"
          },
          "metadata": {
            "needs_background": "light"
          }
        }
      ],
      "source": [
        "plt.hist(test_set.loc[test_set[\"BUILDINGID\"] == 0][\"LONGITUDE\"])\n",
        "plt.show()"
      ]
    },
    {
      "cell_type": "code",
      "execution_count": 136,
      "metadata": {
        "id": "OvFmX8H5z7nl",
        "outputId": "b71736eb-abcc-4fad-e064-25fa3ae281ce",
        "colab": {
          "base_uri": "https://localhost:8080/",
          "height": 265
        }
      },
      "outputs": [
        {
          "output_type": "display_data",
          "data": {
            "text/plain": [
              "<Figure size 432x288 with 1 Axes>"
            ],
            "image/png": "[encoded data removed]"
          },
          "metadata": {
            "needs_background": "light"
          }
        }
      ],
      "source": [
        "plt.hist(test_set.loc[test_set[\"BUILDINGID\"] == 1][\"LONGITUDE\"])\n",
        "plt.show()"
      ]
    },
    {
      "cell_type": "code",
      "execution_count": 137,
      "metadata": {
        "id": "_kU6mxWFz7nm",
        "outputId": "183b9ce2-9246-4bfa-aadc-50bb7fd73c00",
        "colab": {
          "base_uri": "https://localhost:8080/",
          "height": 265
        }
      },
      "outputs": [
        {
          "output_type": "display_data",
          "data": {
            "text/plain": [
              "<Figure size 432x288 with 1 Axes>"
            ],
            "image/png": "[encoded data removed]"
          },
          "metadata": {
            "needs_background": "light"
          }
        }
      ],
      "source": [
        "plt.hist(test_set.loc[test_set[\"BUILDINGID\"] == 2][\"LONGITUDE\"])\n",
        "plt.show()"
      ]
    },
    {
      "cell_type": "code",
      "execution_count": 138,
      "metadata": {
        "id": "Oz_elxp5z7nm",
        "outputId": "f596eae0-f990-4be4-c5ae-e16c30dc5ed3",
        "colab": {
          "base_uri": "https://localhost:8080/",
          "height": 265
        }
      },
      "outputs": [
        {
          "output_type": "display_data",
          "data": {
            "text/plain": [
              "<Figure size 432x288 with 1 Axes>"
            ],
            "image/png": "[encoded data removed]"
          },
          "metadata": {
            "needs_background": "light"
          }
        }
      ],
      "source": [
        "plt.hist(test_set[\"LONGITUDE\"])\n",
        "plt.show()"
      ]
    },
    {
      "cell_type": "code",
      "execution_count": 104,
      "metadata": {
        "id": "LqLkY8FCz7nn",
        "outputId": "c83b3c6c-3d33-40ea-c1dd-7343c0af15ed",
        "colab": {
          "base_uri": "https://localhost:8080/"
        }
      },
      "outputs": [
        {
          "output_type": "execute_result",
          "data": {
            "text/plain": [
              "False"
            ]
          },
          "metadata": {},
          "execution_count": 104
        }
      ],
      "source": [
        "# check for missing values\n",
        "pd.isnull(test_set)\n",
        "pd.isnull(test_set).values.any()\n",
        "# No missing values"
      ]
    },
    {
      "cell_type": "markdown",
      "metadata": {
        "id": "exgwoXLZz7nn"
      },
      "source": [
        "# Preprocess Data and Feature Engineering"
      ]
    },
    {
      "cell_type": "markdown",
      "metadata": {
        "id": "B7NRU_8Cz7nn"
      },
      "source": [
        "Training/validation Set"
      ]
    },
    {
      "cell_type": "code",
      "source": [
        "# Fingerprint data representation: positive-value representation for all WAPs.\n",
        "# Original representation: -104 to 0 (weak to strong), 100 for no signal.\n",
        "# New represenation: 1 to 105 (weak to strong), 0 for no signal.\n",
        "train_set.iloc[:, 0:520].min().min() # minimum WAP is -104 dBm\n",
        "train_set_P = train_set.copy()\n",
        "train_set_P.iloc[:, 0:520] = np.where(train_set_P.iloc[:, 0:520] <= 0, \n",
        "                train_set_P.iloc[:, 0:520] + 105, \n",
        "                train_set_P.iloc[:, 0:520] - 100) "
      ],
      "metadata": {
        "id": "T52rwjGoCptW"
      },
      "execution_count": null,
      "outputs": []
    },
    {
      "cell_type": "code",
      "execution_count": 107,
      "metadata": {
        "id": "NQBWoFFnz7no",
        "outputId": "af11240d-4416-4eac-cbce-ea4c95bf1b54",
        "colab": {
          "base_uri": "https://localhost:8080/"
        }
      },
      "outputs": [
        {
          "output_type": "execute_result",
          "data": {
            "text/plain": [
              "1997"
            ]
          },
          "metadata": {},
          "execution_count": 107
        }
      ],
      "source": [
        "\n",
        "combined = pd.concat([train_set_P, test_set]) \n",
        "combined = combined.assign(UNIQUELOCATION = (combined['LONGITUDE'].astype(str) + '_' + combined['LATITUDE'].astype(str) + '_' + combined['FLOOR'].astype(str) + '_' + combined['BUILDINGID'].astype(str)).astype('category').cat.codes)\n",
        "len(combined[\"UNIQUELOCATION\"].unique()) # 1995 unique locations"
      ]
    },
    {
      "cell_type": "code",
      "execution_count": 108,
      "metadata": {
        "id": "SgU4afnnz7no"
      },
      "outputs": [],
      "source": [
        "# split again\n",
        "train_set_PU = combined.iloc[0:19937, :]\n",
        "test_set_U = combined.iloc[19937:21048, :]"
      ]
    },
    {
      "cell_type": "code",
      "execution_count": 109,
      "metadata": {
        "id": "xNWKTNmyz7np",
        "colab": {
          "base_uri": "https://localhost:8080/"
        },
        "outputId": "538cb2aa-80cd-42ff-9015-3740aad6bbde"
      },
      "outputs": [
        {
          "output_type": "execute_result",
          "data": {
            "text/plain": [
              "WAP001                object\n",
              "WAP002                 int64\n",
              "WAP003                 int64\n",
              "WAP004                 int64\n",
              "WAP005                 int64\n",
              "                      ...   \n",
              "RELATIVEPOSITION       int64\n",
              "USERID                 int64\n",
              "PHONEID                int64\n",
              "TIMESTAMP              int64\n",
              "UNIQUELOCATION      category\n",
              "Length: 530, dtype: object"
            ]
          },
          "metadata": {},
          "execution_count": 109
        }
      ],
      "source": [
        "# Change variable types\n",
        "train_set_PU[\"UNIQUELOCATION\"] = train_set_PU[\"UNIQUELOCATION\"].astype(\"category\")\n",
        "train_set_PU.dtypes"
      ]
    },
    {
      "cell_type": "code",
      "execution_count": 110,
      "metadata": {
        "id": "i8DFNArWz7np"
      },
      "outputs": [],
      "source": [
        "X_train = train_set_PU.iloc[:, 0:520]\n",
        "y_train = train_set_PU.iloc[:, 520:530]"
      ]
    },
    {
      "cell_type": "markdown",
      "metadata": {
        "id": "_vhMVT75z7nq"
      },
      "source": [
        "Test Set"
      ]
    },
    {
      "cell_type": "code",
      "execution_count": 111,
      "metadata": {
        "id": "7zzBKH0yz7nq"
      },
      "outputs": [],
      "source": [
        "# Fingerprint data representation\n",
        "test_set_PU = test_set_U.copy()\n",
        "test_set_PU.iloc[:, 0:520] = np.where(test_set_PU.iloc[:, 0:520] <= 0, test_set_PU.iloc[:, 0:520] + 105, test_set_PU.iloc[:, 0:520] - 100) "
      ]
    },
    {
      "cell_type": "code",
      "execution_count": 112,
      "metadata": {
        "id": "e0QIpSDzz7nr",
        "outputId": "e3beb7e9-31d1-4324-e029-94d51109bc66",
        "colab": {
          "base_uri": "https://localhost:8080/"
        }
      },
      "outputs": [
        {
          "output_type": "execute_result",
          "data": {
            "text/plain": [
              "WAP001               float64\n",
              "WAP002               float64\n",
              "WAP003               float64\n",
              "WAP004               float64\n",
              "WAP005               float64\n",
              "                      ...   \n",
              "RELATIVEPOSITION       int64\n",
              "USERID                 int64\n",
              "PHONEID                int64\n",
              "TIMESTAMP              int64\n",
              "UNIQUELOCATION      category\n",
              "Length: 530, dtype: object"
            ]
          },
          "metadata": {},
          "execution_count": 112
        }
      ],
      "source": [
        "test_set_PU[\"UNIQUELOCATION\"] = test_set_PU[\"UNIQUELOCATION\"].astype(\"category\")\n",
        "test_set_PU.dtypes"
      ]
    },
    {
      "cell_type": "code",
      "execution_count": 113,
      "metadata": {
        "id": "BOD-yG9cz7nr"
      },
      "outputs": [],
      "source": [
        "X_test = test_set_PU.iloc[:, 0:520]\n",
        "y_test = test_set_PU.iloc[:, 520:530]"
      ]
    },
    {
      "cell_type": "code",
      "execution_count": 114,
      "metadata": {
        "id": "npUw-KSXz7nr"
      },
      "outputs": [],
      "source": [
        "# Create a reference table for looking up the LONGITUDE, LATITUDE, FLOOR, and \n",
        "# BUILDINGID associated with each UNIQUELOCATION value.\n",
        "ref_table = pd.concat([y_train.iloc[:, [0,1,2,3,9]], y_test.iloc[:, [0,1,2,3,9]]])\n",
        "ref_table = ref_table.drop_duplicates()"
      ]
    },
    {
      "cell_type": "code",
      "execution_count": 115,
      "metadata": {
        "id": "F0Tfj2JWz7nr"
      },
      "outputs": [],
      "source": [
        "#--- save data ---#\n",
        "def save_data(dataframe, filename):\n",
        "    file_present = glob.glob(filename) # boolean, file already present?\n",
        "    if not file_present:\n",
        "        dataframe.to_csv(filename)\n",
        "    else:\n",
        "        print('WARNING: This file already exists.')"
      ]
    },
    {
      "cell_type": "markdown",
      "source": [
        "5-anonymity"
      ],
      "metadata": {
        "id": "47JM6PIj48SR"
      }
    },
    {
      "cell_type": "code",
      "execution_count": 32,
      "metadata": {
        "id": "uNCIA-60z7ns"
      },
      "outputs": [],
      "source": [
        "save_data(X_train, 'X_train_rf(5-anonymity).csv')\n",
        "save_data(y_train, 'y_train_rf(5-anonymity).csv')\n",
        "save_data(X_test, 'X_test_rf(5-anonymity).csv')\n",
        "save_data(y_test, 'y_test_rf(5-anonymity).csv')"
      ]
    },
    {
      "cell_type": "markdown",
      "source": [
        "**differential-privacy**"
      ],
      "metadata": {
        "id": "KBdcPOnS4-5R"
      }
    },
    {
      "cell_type": "code",
      "source": [
        "save_data(X_train, 'X_train_rf(differential-privacy).csv')\n",
        "save_data(y_train, 'y_train_rf(differential-privacy).csv')\n",
        "save_data(X_test, 'X_test_rf(differential-privacy).csv')\n",
        "save_data(y_test, 'y_test_rf(differential-privacy).csv')"
      ],
      "metadata": {
        "id": "bzm6EJIx5CYh"
      },
      "execution_count": 116,
      "outputs": []
    },
    {
      "cell_type": "markdown",
      "source": [
        "**delta-presence**"
      ],
      "metadata": {
        "id": "7M5xHi7D5Cqq"
      }
    },
    {
      "cell_type": "code",
      "source": [
        "save_data(X_train, 'X_train_rf(delta-presence).csv')\n",
        "save_data(y_train, 'y_train_rf(delta-presence).csv')\n",
        "save_data(X_test, 'X_test_rf(delta-presence).csv')\n",
        "save_data(y_test, 'y_test_rf(delta-presence).csv')"
      ],
      "metadata": {
        "id": "Zx_cZiFU5FC5"
      },
      "execution_count": null,
      "outputs": []
    },
    {
      "cell_type": "markdown",
      "source": [
        "**5-anonymity**"
      ],
      "metadata": {
        "id": "B4DK3MVO5IpN"
      }
    },
    {
      "cell_type": "code",
      "execution_count": 33,
      "metadata": {
        "id": "K2cdvzupz7ns"
      },
      "outputs": [],
      "source": [
        "# --- load data ---\n",
        "X_train = pd.read_csv('/content/X_train_rf(5-anonymity).csv', index_col = 0)\n",
        "y_train = pd.read_csv('/content/y_train_rf(5-anonymity).csv', index_col = 0)\n",
        "X_test = pd.read_csv('/content/X_test_rf(5-anonymity).csv', index_col = 0)\n",
        "y_test = pd.read_csv('/content/y_test_rf(5-anonymity).csv', index_col = 0)"
      ]
    },
    {
      "cell_type": "markdown",
      "source": [
        "**differential-privacy**"
      ],
      "metadata": {
        "id": "ANETmo4M5Md6"
      }
    },
    {
      "cell_type": "code",
      "source": [
        "# --- load data ---\n",
        "X_train = pd.read_csv('/content/X_train_rf(differential-privacy).csv', index_col = 0)\n",
        "y_train = pd.read_csv('/content/y_train_rf(differential-privacy).csv', index_col = 0)\n",
        "X_test = pd.read_csv('/content/X_test_rf(differential-privacy).csv', index_col = 0)\n",
        "y_test = pd.read_csv('/content/y_test_rf(differential-privacy).csv', index_col = 0)"
      ],
      "metadata": {
        "colab": {
          "base_uri": "https://localhost:8080/"
        },
        "id": "WFrKsrBH5PHt",
        "outputId": "1f05b51f-5a3c-425c-ecce-65bbdff72dec"
      },
      "execution_count": 117,
      "outputs": [
        {
          "output_type": "stream",
          "name": "stderr",
          "text": [
            "/usr/local/lib/python3.7/dist-packages/IPython/core/interactiveshell.py:3326: DtypeWarning: Columns (1) have mixed types.Specify dtype option on import or set low_memory=False.\n",
            "  exec(code_obj, self.user_global_ns, self.user_ns)\n"
          ]
        }
      ]
    },
    {
      "cell_type": "markdown",
      "source": [
        "**delta-presence**"
      ],
      "metadata": {
        "id": "Ia1W7OaH5Pah"
      }
    },
    {
      "cell_type": "code",
      "source": [
        "# --- load data ---\n",
        "X_train = pd.read_csv('/content/X_train_rf(5-anonymity).csv', index_col = 0)\n",
        "y_train = pd.read_csv('/content/y_train_rf(5-anonymity).csv', index_col = 0)\n",
        "X_test = pd.read_csv('/content/X_test_rf(5-anonymity).csv', index_col = 0)\n",
        "y_test = pd.read_csv('/content/y_test_rf(5-anonymity).csv', index_col = 0)"
      ],
      "metadata": {
        "id": "bV0Vfvam5R1l"
      },
      "execution_count": null,
      "outputs": []
    },
    {
      "cell_type": "code",
      "execution_count": 118,
      "metadata": {
        "id": "qg4wKgVCz7nt"
      },
      "outputs": [],
      "source": [
        "#-- delete unneeded datasets created during preprocessing to free up memory --#\n",
        "del train_set, train_set_P, train_set_PU, test_set, test_set_U, test_set_PU, combined"
      ]
    },
    {
      "cell_type": "markdown",
      "metadata": {
        "id": "r1o-spBNz7nt"
      },
      "source": [
        "# Train Model(s)"
      ]
    },
    {
      "cell_type": "markdown",
      "metadata": {
        "id": "JCSCBH3hz7nt"
      },
      "source": [
        "1. Random Forest"
      ]
    },
    {
      "cell_type": "code",
      "execution_count": null,
      "metadata": {
        "id": "aH5g9sAYz7nt"
      },
      "outputs": [],
      "source": [
        "if __name__ == '__main__':\n",
        "    \n",
        "\n",
        "    from sklearn.ensemble import RandomForestClassifier\n",
        "    classifier = RandomForestClassifier(random_state = 0)\n",
        "    \n",
        "\n",
        "    from sklearn.model_selection import GridSearchCV\n",
        "    \n",
        "    # hyperparameters: http://scikit-learn.org/stable/modules/generated/sklearn.ensemble.RandomForestClassifier.html\n",
        "    \n",
        "    hyperparameters = {'criterion': ['gini'], \n",
        "                  'max_depth': [None], \n",
        "                  'max_features': ['sqrt'],\n",
        "                  'n_estimators': [60]}\n",
        "    \n",
        "    from sklearn.metrics import cohen_kappa_score\n",
        "    from sklearn.metrics import make_scorer\n",
        "    scoring = {'accuracy': 'accuracy',\n",
        "               'kappa': make_scorer(cohen_kappa_score)}\n",
        "    \n",
        "    grid = GridSearchCV(estimator = classifier, param_grid = hyperparameters, scoring = scoring, cv = 2, refit = 'accuracy', return_train_score = True, n_jobs = -1) \n",
        "    \n",
        "    tic = time.time()\n",
        "    grid_result = grid.fit(X_train, y_train.iloc[:, 9].squeeze()) \n",
        "    toc = time.time()\n",
        "    run_time = (toc - tic)/60\n",
        "    import winsound; winsound.Beep(frequency = 1500, duration = 2000) "
      ]
    },
    {
      "cell_type": "code",
      "execution_count": null,
      "metadata": {
        "id": "JrpPiZrCz7nu"
      },
      "outputs": [],
      "source": [
        "#--- cross validation metrics and training set metrics (average of folds) ----#\n",
        "cv_results_ = pd.DataFrame.from_dict(grid_result.cv_results_) \n",
        "cv_results_.insert(loc = 0, column = 'Model', \n",
        "                   value = ['RandomForestClassifier']*cv_results_.shape[0])\n",
        "cv_results_.insert(loc = 28, column = 'mean train - cross_val accuracy',  # loc = 60 if you use cv=10\n",
        "                   value = cv_results_['mean_train_accuracy'] - cv_results_['mean_test_accuracy'])\n",
        "cv_results_.insert(loc = 29, column = 'mean train - cross_val kappa',   # loc = 61 if you use cv=10\n",
        "                   value = cv_results_['mean_train_kappa'] - cv_results_['mean_test_kappa'])\n",
        "with open('tuning_rf.csv', 'a') as f:\n",
        "    cv_results_.to_csv(f, header = True)"
      ]
    },
    {
      "cell_type": "code",
      "execution_count": null,
      "metadata": {
        "id": "1xafEf7iz7nv"
      },
      "outputs": [],
      "source": [
        "grid_result.best_estimator_\n",
        "grid_result.best_score_\n",
        "grid_result.best_params_"
      ]
    },
    {
      "cell_type": "code",
      "execution_count": null,
      "metadata": {
        "id": "ZBNrVZ5Tz7nv"
      },
      "outputs": [],
      "source": [
        "#--- save best model ---#\n",
        "\n",
        "def save_model(model, model_name):\n",
        "   model_name_present = glob.glob(model_name) # boolean\n",
        "   if not model_name_present:\n",
        "       pickle.dump(grid_result, open(model_name, 'wb'))\n",
        "   else:\n",
        "       print('WARNING: This file already exists.')"
      ]
    },
    {
      "cell_type": "markdown",
      "source": [
        "**save model for 5-anonymity**"
      ],
      "metadata": {
        "id": "vf9IzfBI9S5i"
      }
    },
    {
      "cell_type": "code",
      "execution_count": null,
      "metadata": {
        "id": "yCeSvgF1z7nw"
      },
      "outputs": [],
      "source": [
        "save_model(grid_result, 'RandomForestClassifier_model(5-anonymity).sav')"
      ]
    },
    {
      "cell_type": "markdown",
      "source": [
        "**save model for differential-privacy**"
      ],
      "metadata": {
        "id": "h7gQuOtO9Xap"
      }
    },
    {
      "cell_type": "code",
      "source": [
        "save_model(grid_result, 'RandomForestClassifier_model(differential-privacy).sav')"
      ],
      "metadata": {
        "id": "b3tyS6H39b8O"
      },
      "execution_count": null,
      "outputs": []
    },
    {
      "cell_type": "markdown",
      "source": [
        "**save model for delta-presence**"
      ],
      "metadata": {
        "id": "gL0-G4Io9eZx"
      }
    },
    {
      "cell_type": "code",
      "source": [
        "save_model(grid_result, 'RandomForestClassifier_model(delta-presence).sav')"
      ],
      "metadata": {
        "id": "hrLb5vns-bua"
      },
      "execution_count": null,
      "outputs": []
    },
    {
      "cell_type": "markdown",
      "source": [
        "**Load model for 5-anonymity**"
      ],
      "metadata": {
        "id": "z3Ny0YpH-npw"
      }
    },
    {
      "cell_type": "code",
      "execution_count": null,
      "metadata": {
        "id": "6y5uO1OOz7nw"
      },
      "outputs": [],
      "source": [
        "#--- load model ---#\n",
        "grid_result = pickle.load(open('RandomForestClassifier_model.sav(5-anonymity)', 'rb'))"
      ]
    },
    {
      "cell_type": "markdown",
      "source": [
        "**Load model for differential-privacy**"
      ],
      "metadata": {
        "id": "gtSqoKQX-1iR"
      }
    },
    {
      "cell_type": "code",
      "source": [
        "#--- load model ---#\n",
        "grid_result = pickle.load(open('RandomForestClassifier_model.sav(differential-privacy)', 'rb'))"
      ],
      "metadata": {
        "id": "IBXon5QW-_F5"
      },
      "execution_count": null,
      "outputs": []
    },
    {
      "cell_type": "markdown",
      "source": [
        "**Load model for delta-presence**"
      ],
      "metadata": {
        "id": "OzRxwa5o-_vV"
      }
    },
    {
      "cell_type": "code",
      "source": [
        "#--- load model ---#\n",
        "grid_result = pickle.load(open('RandomForestClassifier_model.sav(delta-presence)', 'rb'))"
      ],
      "metadata": {
        "id": "MRZhUjY7_EZc"
      },
      "execution_count": null,
      "outputs": []
    },
    {
      "cell_type": "code",
      "execution_count": null,
      "metadata": {
        "id": "ZYQw3K-4z7nw"
      },
      "outputs": [],
      "source": [
        "#--- test set metrics ---#\n",
        "y_pred = grid_result.predict(X_test)\n",
        "np.mean(y_pred == y_test.iloc[:, 9])\n"
      ]
    },
    {
      "cell_type": "code",
      "execution_count": null,
      "metadata": {
        "id": "XUpb6oGoz7nx"
      },
      "outputs": [],
      "source": [
        "y_test_pos = y_test.iloc[:, 0:2].values \n",
        "y_test_floor = y_test.iloc[:, 2].values\n",
        "y_test_building = y_test.iloc[:, 3].values\n",
        "\n",
        "dict_loc = {}\n",
        "m_total = ref_table.shape[0]\n",
        "for i in range(m_total):\n",
        "    key = int(ref_table.iloc[i]['UNIQUELOCATION'])\n",
        "    value = ref_table.iloc[i, 0:4].values\n",
        "    dict_loc[key] = value\n",
        "\n",
        "y_pred_pos = np.asarray([dict_loc[i] for i in y_pred])[:, 0:2] \n",
        "y_pred_floor = np.asarray([dict_loc[i] for i in y_pred])[:, 2]\n",
        "y_pred_building = np.asarray([dict_loc[i] for i in y_pred])[:, 3]"
      ]
    },
    {
      "cell_type": "code",
      "execution_count": null,
      "metadata": {
        "id": "ZWP4xapdz7nx"
      },
      "outputs": [],
      "source": [
        "def euclidean(y_test_pos, y_pred_pos):\n",
        "    \n",
        "    m_test = y_test_pos.shape[0]\n",
        "    D_error = np.sum((y_test_pos - y_pred_pos)**2, axis = 1)**0.5\n",
        "    \n",
        "    return D_error"
      ]
    },
    {
      "cell_type": "code",
      "execution_count": null,
      "metadata": {
        "id": "RBHJFjYIz7ny"
      },
      "outputs": [],
      "source": [
        "D_error = euclidean(y_test_pos, y_pred_pos)\n",
        "# sorted   \n",
        "sorted_D_error = sorted(D_error)\n",
        "\n",
        "m_test = y_test.shape[0]\n",
        "mean_error = np.mean(D_error) \n",
        "percentile_25th = sorted_D_error[math.ceil(m_test*0.25) - 1] # -1 since 0-indexed. meters\n",
        "percentile_50th = sorted_D_error[math.ceil(m_test*0.50) - 1] # meters\n",
        "percentile_75th = sorted_D_error[math.ceil(m_test*0.75) - 1] # meters\n",
        "percentile_95th = sorted_D_error[math.ceil(m_test*0.95) - 1] # meters\n",
        "percentile_100th = sorted_D_error[math.ceil(m_test*1.00) - 1] # meters\n",
        "building_hitrate = np.mean(y_test_building == y_pred_building)\n",
        "floor_hitrate = np.mean(y_test_floor == y_pred_floor)"
      ]
    },
    {
      "cell_type": "code",
      "execution_count": null,
      "metadata": {
        "id": "3OCDIO224OB-"
      },
      "outputs": [],
      "source": [
        "mean_error = np.mean(D_error) "
      ]
    },
    {
      "cell_type": "markdown",
      "source": [
        "**2. Decision Tree**"
      ],
      "metadata": {
        "id": "iVcgVCZH0_P3"
      }
    },
    {
      "cell_type": "code",
      "source": [
        "if __name__ == '__main__':\n",
        "    \n",
        "    from sklearn.tree import DecisionTreeClassifier\n",
        "\n",
        "    classifier = DecisionTreeClassifier(random_state = 0)\n",
        "    \n",
        "\n",
        "    from sklearn.model_selection import GridSearchCV\n",
        "        \n",
        "    hyperparameters = {'criterion': ['gini'], \n",
        "                  'max_depth': [None], \n",
        "                  'max_features': ['sqrt'],\n",
        "                  'n_estimators': [60]}\n",
        "    \n",
        "    from sklearn.metrics import cohen_kappa_score\n",
        "    from sklearn.metrics import make_scorer\n",
        "    scoring = {'accuracy': 'accuracy',\n",
        "               'kappa': make_scorer(cohen_kappa_score)}\n",
        "    \n",
        "    grid = GridSearchCV(estimator = classifier, param_grid = hyperparameters, scoring = scoring, cv = 2, refit = 'accuracy', return_train_score = True, n_jobs = -1) \n",
        "    \n",
        "    tic = time.time()\n",
        "    grid_result = grid.fit(X_train, y_train.iloc[:, 9].squeeze()) \n",
        "    toc = time.time()\n",
        "    run_time = (toc - tic)/60\n",
        "    import winsound; winsound.Beep(frequency = 1500, duration = 2000) "
      ],
      "metadata": {
        "id": "a1UeL2Zh1C4w"
      },
      "execution_count": null,
      "outputs": []
    },
    {
      "cell_type": "code",
      "source": [
        "#--- cross validation metrics and training set metrics (average of folds) ----#\n",
        "cv_results_ = pd.DataFrame.from_dict(grid_result.cv_results_) \n",
        "cv_results_.insert(loc = 0, column = 'Model', \n",
        "                   value = ['DecisionTreeClassifier']*cv_results_.shape[0])\n",
        "cv_results_.insert(loc = 28, column = 'mean train - cross_val accuracy',  # loc = 60 if you use cv=10\n",
        "                   value = cv_results_['mean_train_accuracy'] - cv_results_['mean_test_accuracy'])\n",
        "cv_results_.insert(loc = 29, column = 'mean train - cross_val kappa',   # loc = 61 if you use cv=10\n",
        "                   value = cv_results_['mean_train_kappa'] - cv_results_['mean_test_kappa'])\n",
        "with open('tuning_rf.csv', 'a') as f:\n",
        "    cv_results_.to_csv(f, header = True)"
      ],
      "metadata": {
        "id": "-b2JJwMQ1v-S"
      },
      "execution_count": null,
      "outputs": []
    },
    {
      "cell_type": "code",
      "source": [
        "grid_result.best_estimator_\n",
        "grid_result.best_score_\n",
        "grid_result.best_params_"
      ],
      "metadata": {
        "id": "ESVgKEF41wor"
      },
      "execution_count": null,
      "outputs": []
    },
    {
      "cell_type": "code",
      "source": [
        "#--- save best model ---#\n",
        "\n",
        "def save_model(model, model_name):\n",
        "   model_name_present = glob.glob(model_name) # boolean\n",
        "   if not model_name_present:\n",
        "       pickle.dump(grid_result, open(model_name, 'wb'))\n",
        "   else:\n",
        "       print('WARNING: This file already exists.')"
      ],
      "metadata": {
        "id": "DJxn0who1zKf"
      },
      "execution_count": null,
      "outputs": []
    },
    {
      "cell_type": "markdown",
      "source": [
        "**save model for 5-anonymity**"
      ],
      "metadata": {
        "id": "7OnemWe__Zl_"
      }
    },
    {
      "cell_type": "code",
      "execution_count": null,
      "metadata": {
        "id": "XVvHTgxk_ZmA"
      },
      "outputs": [],
      "source": [
        "save_model(grid_result, 'DecisionTreeClassifier_model(5-anonymity).sav')"
      ]
    },
    {
      "cell_type": "markdown",
      "source": [
        "**save model for differential-privacy**"
      ],
      "metadata": {
        "id": "-Ygbh4MF_ZmA"
      }
    },
    {
      "cell_type": "code",
      "source": [
        "save_model(grid_result, 'DecisionTreeClassifier_model(differential-privacy).sav')"
      ],
      "metadata": {
        "id": "J11NdFER_ZmA"
      },
      "execution_count": null,
      "outputs": []
    },
    {
      "cell_type": "markdown",
      "source": [
        "**save model for delta-presence**"
      ],
      "metadata": {
        "id": "pBdCwEH4_ZmA"
      }
    },
    {
      "cell_type": "code",
      "source": [
        "save_model(grid_result, 'RDecisionTreeClassifier_model(delta-presence).sav')"
      ],
      "metadata": {
        "id": "TPrkdhNk_ZmA"
      },
      "execution_count": null,
      "outputs": []
    },
    {
      "cell_type": "markdown",
      "source": [
        "**Load model for 5-anonymity**"
      ],
      "metadata": {
        "id": "ZLzSwWWU_ZmA"
      }
    },
    {
      "cell_type": "code",
      "execution_count": null,
      "metadata": {
        "id": "Ayn9qF8Q_ZmA"
      },
      "outputs": [],
      "source": [
        "#--- load model ---#\n",
        "grid_result = pickle.load(open('DecisionTreeClassifier_model.sav(5-anonymity)', 'rb'))"
      ]
    },
    {
      "cell_type": "markdown",
      "source": [
        "**Load model for differential-privacy**"
      ],
      "metadata": {
        "id": "VZSo-4A__ZmA"
      }
    },
    {
      "cell_type": "code",
      "source": [
        "#--- load model ---#\n",
        "grid_result = pickle.load(open('DecisionTreeClassifier_model.sav(differential-privacy)', 'rb'))"
      ],
      "metadata": {
        "id": "hW8dbk8c_ZmB"
      },
      "execution_count": null,
      "outputs": []
    },
    {
      "cell_type": "markdown",
      "source": [
        "**Load model for delta-presence**"
      ],
      "metadata": {
        "id": "CIE1hII1_ZmB"
      }
    },
    {
      "cell_type": "code",
      "source": [
        "#--- load model ---#\n",
        "grid_result = pickle.load(open('DecisionTreeClassifier_model.sav(delta-presence)', 'rb'))"
      ],
      "metadata": {
        "id": "NSIScr1b_ZmB"
      },
      "execution_count": null,
      "outputs": []
    },
    {
      "cell_type": "code",
      "execution_count": null,
      "metadata": {
        "id": "Uwm0htSE1_R3"
      },
      "outputs": [],
      "source": [
        "#--- test set metrics ---#\n",
        "y_pred = grid_result.predict(X_test)\n",
        "np.mean(y_pred == y_test.iloc[:, 9])\n"
      ]
    },
    {
      "cell_type": "code",
      "execution_count": null,
      "metadata": {
        "id": "P4XhkqJa1_R3"
      },
      "outputs": [],
      "source": [
        "y_test_pos = y_test.iloc[:, 0:2].values \n",
        "y_test_floor = y_test.iloc[:, 2].values\n",
        "y_test_building = y_test.iloc[:, 3].values\n",
        "\n",
        "dict_loc = {}\n",
        "m_total = ref_table.shape[0]\n",
        "for i in range(m_total):\n",
        "    key = int(ref_table.iloc[i]['UNIQUELOCATION'])\n",
        "    value = ref_table.iloc[i, 0:4].values\n",
        "    dict_loc[key] = value\n",
        "\n",
        "y_pred_pos = np.asarray([dict_loc[i] for i in y_pred])[:, 0:2] \n",
        "y_pred_floor = np.asarray([dict_loc[i] for i in y_pred])[:, 2]\n",
        "y_pred_building = np.asarray([dict_loc[i] for i in y_pred])[:, 3]"
      ]
    },
    {
      "cell_type": "code",
      "execution_count": null,
      "metadata": {
        "id": "Wnsd0F7G1_R3"
      },
      "outputs": [],
      "source": [
        "def euclidean(y_test_pos, y_pred_pos):\n",
        "    \n",
        "    m_test = y_test_pos.shape[0]\n",
        "    D_error = np.sum((y_test_pos - y_pred_pos)**2, axis = 1)**0.5\n",
        "    \n",
        "    return D_error"
      ]
    },
    {
      "cell_type": "code",
      "execution_count": null,
      "metadata": {
        "id": "a0Makqbn1_R3"
      },
      "outputs": [],
      "source": [
        "D_error = euclidean(y_test_pos, y_pred_pos)\n",
        "# sorted   \n",
        "sorted_D_error = sorted(D_error)\n",
        "\n",
        "m_test = y_test.shape[0]\n",
        "mean_error = np.mean(D_error) \n",
        "percentile_25th = sorted_D_error[math.ceil(m_test*0.25) - 1] # -1 since 0-indexed. meters\n",
        "percentile_50th = sorted_D_error[math.ceil(m_test*0.50) - 1] # meters\n",
        "percentile_75th = sorted_D_error[math.ceil(m_test*0.75) - 1] # meters\n",
        "percentile_95th = sorted_D_error[math.ceil(m_test*0.95) - 1] # meters\n",
        "percentile_100th = sorted_D_error[math.ceil(m_test*1.00) - 1] # meters\n",
        "building_hitrate = np.mean(y_test_building == y_pred_building)\n",
        "floor_hitrate = np.mean(y_test_floor == y_pred_floor)"
      ]
    },
    {
      "cell_type": "code",
      "execution_count": null,
      "metadata": {
        "id": "2OFJubx11_R3"
      },
      "outputs": [],
      "source": [
        "mean_error = np.mean(D_error) "
      ]
    },
    {
      "cell_type": "markdown",
      "source": [
        "**3. Naive Bayes**"
      ],
      "metadata": {
        "id": "mWG5kox12HHI"
      }
    },
    {
      "cell_type": "code",
      "source": [
        "if __name__ == '__main__':\n",
        "    \n",
        "    from sklearn.naive_bayes import GaussianNB\n",
        "    from sklearn.model_selection import GridSearchCV\n",
        "\n",
        "    param_grid_nb = {\n",
        "    'var_smoothing': np.logspace(0,-9, num=100)\n",
        "}\n",
        "\n",
        "    classifier = GridSearchCV(estimator=GaussianNB(), param_grid=param_grid_nb, verbose=1, cv=10, n_jobs=-1)\n",
        "    \n",
        "\n",
        "    from sklearn.model_selection import GridSearchCV\n",
        "        \n",
        "    hyperparameters = {'criterion': ['gini'], \n",
        "                  'max_depth': [None], \n",
        "                  'max_features': ['sqrt'],\n",
        "                  'n_estimators': [60]}\n",
        "    \n",
        "    from sklearn.metrics import cohen_kappa_score\n",
        "    from sklearn.metrics import make_scorer\n",
        "    scoring = {'accuracy': 'accuracy',\n",
        "               'kappa': make_scorer(cohen_kappa_score)}\n",
        "    \n",
        "    grid = GridSearchCV(estimator = classifier, param_grid = hyperparameters, scoring = scoring, cv = 2, refit = 'accuracy', return_train_score = True, n_jobs = -1) \n",
        "    \n",
        "    tic = time.time()\n",
        "    grid_result = grid.fit(X_train, y_train.iloc[:, 9].squeeze()) \n",
        "    toc = time.time()\n",
        "    run_time = (toc - tic)/60\n",
        "    import winsound; winsound.Beep(frequency = 1500, duration = 2000) "
      ],
      "metadata": {
        "id": "aOo7E-OY2Slj"
      },
      "execution_count": null,
      "outputs": []
    },
    {
      "cell_type": "code",
      "source": [
        "#--- cross validation metrics and training set metrics (average of folds) ----#\n",
        "cv_results_ = pd.DataFrame.from_dict(grid_result.cv_results_) \n",
        "cv_results_.insert(loc = 0, column = 'Model', \n",
        "                   value = ['GaussianNB']*cv_results_.shape[0])\n",
        "cv_results_.insert(loc = 28, column = 'mean train - cross_val accuracy',  # loc = 60 if you use cv=10\n",
        "                   value = cv_results_['mean_train_accuracy'] - cv_results_['mean_test_accuracy'])\n",
        "cv_results_.insert(loc = 29, column = 'mean train - cross_val kappa',   # loc = 61 if you use cv=10\n",
        "                   value = cv_results_['mean_train_kappa'] - cv_results_['mean_test_kappa'])\n",
        "with open('tuning_rf.csv', 'a') as f:\n",
        "    cv_results_.to_csv(f, header = True)"
      ],
      "metadata": {
        "id": "u66A3unV2Slk"
      },
      "execution_count": null,
      "outputs": []
    },
    {
      "cell_type": "code",
      "source": [
        "grid_result.best_estimator_\n",
        "grid_result.best_score_\n",
        "grid_result.best_params_"
      ],
      "metadata": {
        "id": "2k51DYV82Slk"
      },
      "execution_count": null,
      "outputs": []
    },
    {
      "cell_type": "code",
      "source": [
        "#--- save best model ---#\n",
        "\n",
        "def save_model(model, model_name):\n",
        "   model_name_present = glob.glob(model_name) # boolean\n",
        "   if not model_name_present:\n",
        "       pickle.dump(grid_result, open(model_name, 'wb'))\n",
        "   else:\n",
        "       print('WARNING: This file already exists.')"
      ],
      "metadata": {
        "id": "soU9g5qJ2Slk"
      },
      "execution_count": null,
      "outputs": []
    },
    {
      "cell_type": "markdown",
      "source": [
        "**save model for 5-anonymity**"
      ],
      "metadata": {
        "id": "OQv-ZjK0_rJe"
      }
    },
    {
      "cell_type": "code",
      "execution_count": null,
      "metadata": {
        "id": "X_QV6Q4I_rJf"
      },
      "outputs": [],
      "source": [
        "save_model(grid_result, 'NaiveBayes_model(5-anonymity).sav')"
      ]
    },
    {
      "cell_type": "markdown",
      "source": [
        "**save model for differential-privacy**"
      ],
      "metadata": {
        "id": "fMTbZo3o_rJf"
      }
    },
    {
      "cell_type": "code",
      "source": [
        "save_model(grid_result, 'NaiveBayes_model(differential-privacy).sav')"
      ],
      "metadata": {
        "id": "AOE86nVL_rJf"
      },
      "execution_count": null,
      "outputs": []
    },
    {
      "cell_type": "markdown",
      "source": [
        "**save model for delta-presence**"
      ],
      "metadata": {
        "id": "ENxE--39_rJf"
      }
    },
    {
      "cell_type": "code",
      "source": [
        "save_model(grid_result, 'NaiveBayes_model(delta-presence).sav')"
      ],
      "metadata": {
        "id": "Hf-_V0Eg_rJf"
      },
      "execution_count": null,
      "outputs": []
    },
    {
      "cell_type": "markdown",
      "source": [
        "**Load model for 5-anonymity**"
      ],
      "metadata": {
        "id": "LsOrdi8h_rJf"
      }
    },
    {
      "cell_type": "code",
      "execution_count": null,
      "metadata": {
        "id": "Q1mcLgrS_rJf"
      },
      "outputs": [],
      "source": [
        "#--- load model ---#\n",
        "grid_result = pickle.load(open('NaiveBayes_model.sav(5-anonymity)', 'rb'))"
      ]
    },
    {
      "cell_type": "markdown",
      "source": [
        "**Load model for differential-privacy**"
      ],
      "metadata": {
        "id": "pZXk_qoc_rJf"
      }
    },
    {
      "cell_type": "code",
      "source": [
        "#--- load model ---#\n",
        "grid_result = pickle.load(open('NaiveBayes_model.sav(differential-privacy)', 'rb'))"
      ],
      "metadata": {
        "id": "SYbHBFtO_rJf"
      },
      "execution_count": null,
      "outputs": []
    },
    {
      "cell_type": "markdown",
      "source": [
        "**Load model for delta-presence**"
      ],
      "metadata": {
        "id": "BXcXuEFQ_rJg"
      }
    },
    {
      "cell_type": "code",
      "source": [
        "#--- load model ---#\n",
        "grid_result = pickle.load(open('NaiveBayes_model.sav(delta-presence)', 'rb'))"
      ],
      "metadata": {
        "id": "RxE-c6ML_rJg"
      },
      "execution_count": null,
      "outputs": []
    },
    {
      "cell_type": "code",
      "execution_count": null,
      "metadata": {
        "id": "2yqy08mB2Slk"
      },
      "outputs": [],
      "source": [
        "#--- test set metrics ---#\n",
        "y_pred = grid_result.predict(X_test)\n",
        "np.mean(y_pred == y_test.iloc[:, 9])\n"
      ]
    },
    {
      "cell_type": "code",
      "execution_count": null,
      "metadata": {
        "id": "LDVZN2Ej2Slk"
      },
      "outputs": [],
      "source": [
        "y_test_pos = y_test.iloc[:, 0:2].values \n",
        "y_test_floor = y_test.iloc[:, 2].values\n",
        "y_test_building = y_test.iloc[:, 3].values\n",
        "\n",
        "dict_loc = {}\n",
        "m_total = ref_table.shape[0]\n",
        "for i in range(m_total):\n",
        "    key = int(ref_table.iloc[i]['UNIQUELOCATION'])\n",
        "    value = ref_table.iloc[i, 0:4].values\n",
        "    dict_loc[key] = value\n",
        "\n",
        "y_pred_pos = np.asarray([dict_loc[i] for i in y_pred])[:, 0:2] \n",
        "y_pred_floor = np.asarray([dict_loc[i] for i in y_pred])[:, 2]\n",
        "y_pred_building = np.asarray([dict_loc[i] for i in y_pred])[:, 3]"
      ]
    },
    {
      "cell_type": "code",
      "execution_count": null,
      "metadata": {
        "id": "az59YOHz2Slk"
      },
      "outputs": [],
      "source": [
        "def euclidean(y_test_pos, y_pred_pos):\n",
        "    \n",
        "    m_test = y_test_pos.shape[0]\n",
        "    D_error = np.sum((y_test_pos - y_pred_pos)**2, axis = 1)**0.5\n",
        "    \n",
        "    return D_error"
      ]
    },
    {
      "cell_type": "code",
      "execution_count": null,
      "metadata": {
        "id": "iT3kqrtC2Slk"
      },
      "outputs": [],
      "source": [
        "D_error = euclidean(y_test_pos, y_pred_pos)\n",
        "# sorted   \n",
        "sorted_D_error = sorted(D_error)\n",
        "\n",
        "m_test = y_test.shape[0]\n",
        "mean_error = np.mean(D_error) \n",
        "percentile_25th = sorted_D_error[math.ceil(m_test*0.25) - 1] # -1 since 0-indexed. meters\n",
        "percentile_50th = sorted_D_error[math.ceil(m_test*0.50) - 1] # meters\n",
        "percentile_75th = sorted_D_error[math.ceil(m_test*0.75) - 1] # meters\n",
        "percentile_95th = sorted_D_error[math.ceil(m_test*0.95) - 1] # meters\n",
        "percentile_100th = sorted_D_error[math.ceil(m_test*1.00) - 1] # meters\n",
        "building_hitrate = np.mean(y_test_building == y_pred_building)\n",
        "floor_hitrate = np.mean(y_test_floor == y_pred_floor)"
      ]
    },
    {
      "cell_type": "code",
      "execution_count": null,
      "metadata": {
        "id": "TSU0PQlz2Sll"
      },
      "outputs": [],
      "source": [
        "mean_error = np.mean(D_error) "
      ]
    },
    {
      "cell_type": "markdown",
      "source": [
        "**4. Logistic Regression**"
      ],
      "metadata": {
        "id": "6zPh_09F2Vlz"
      }
    },
    {
      "cell_type": "code",
      "source": [
        "if __name__ == '__main__':\n",
        "    \n",
        "    from sklearn.linear_model import LogisticRegression\n",
        "    from sklearn.model_selection import GridSearchCV\n",
        "\n",
        "    param_grid_lr = {\n",
        "    'max_iter': [20, 50, 100, 200, 500, 1000],                      \n",
        "    'solver': ['newton-cg', 'lbfgs', 'liblinear', 'sag', 'saga'],   \n",
        "    'class_weight': ['balanced']   \n",
        "}\n",
        "\n",
        "    classifier = GridSearchCV(estimator=LogisticRegression(random_state=1000), param_grid=param_grid_lr, verbose=1, cv=5, n_jobs=-1)\n",
        "    \n",
        "\n",
        "    from sklearn.model_selection import GridSearchCV\n",
        "        \n",
        "    hyperparameters = {'criterion': ['gini'], \n",
        "                  'max_depth': [None], \n",
        "                  'max_features': ['sqrt'],\n",
        "                  'n_estimators': [60]}\n",
        "    \n",
        "    from sklearn.metrics import cohen_kappa_score\n",
        "    from sklearn.metrics import make_scorer\n",
        "    scoring = {'accuracy': 'accuracy',\n",
        "               'kappa': make_scorer(cohen_kappa_score)}\n",
        "    \n",
        "    grid = GridSearchCV(estimator = classifier, param_grid = hyperparameters, scoring = scoring, cv = 2, refit = 'accuracy', return_train_score = True, n_jobs = -1) \n",
        "    \n",
        "    tic = time.time()\n",
        "    grid_result = grid.fit(X_train, y_train.iloc[:, 9].squeeze()) \n",
        "    toc = time.time()\n",
        "    run_time = (toc - tic)/60\n",
        "    import winsound; winsound.Beep(frequency = 1500, duration = 2000) "
      ],
      "metadata": {
        "id": "T7y5DDLV2bGd"
      },
      "execution_count": null,
      "outputs": []
    },
    {
      "cell_type": "code",
      "source": [
        "#--- cross validation metrics and training set metrics (average of folds) ----#\n",
        "cv_results_ = pd.DataFrame.from_dict(grid_result.cv_results_) \n",
        "cv_results_.insert(loc = 0, column = 'Model', \n",
        "                   value = ['LogisticRegression']*cv_results_.shape[0])\n",
        "cv_results_.insert(loc = 28, column = 'mean train - cross_val accuracy',  # loc = 60 if you use cv=10\n",
        "                   value = cv_results_['mean_train_accuracy'] - cv_results_['mean_test_accuracy'])\n",
        "cv_results_.insert(loc = 29, column = 'mean train - cross_val kappa',   # loc = 61 if you use cv=10\n",
        "                   value = cv_results_['mean_train_kappa'] - cv_results_['mean_test_kappa'])\n",
        "with open('tuning_rf.csv', 'a') as f:\n",
        "    cv_results_.to_csv(f, header = True)"
      ],
      "metadata": {
        "id": "_zG18acj2bGd"
      },
      "execution_count": null,
      "outputs": []
    },
    {
      "cell_type": "code",
      "source": [
        "grid_result.best_estimator_\n",
        "grid_result.best_score_\n",
        "grid_result.best_params_"
      ],
      "metadata": {
        "id": "ia83C0DI2bGd"
      },
      "execution_count": null,
      "outputs": []
    },
    {
      "cell_type": "code",
      "source": [
        "#--- save best model ---#\n",
        "\n",
        "def save_model(model, model_name):\n",
        "   model_name_present = glob.glob(model_name) # boolean\n",
        "   if not model_name_present:\n",
        "       pickle.dump(grid_result, open(model_name, 'wb'))\n",
        "   else:\n",
        "       print('WARNING: This file already exists.')"
      ],
      "metadata": {
        "id": "30wGlrHn2bGd"
      },
      "execution_count": null,
      "outputs": []
    },
    {
      "cell_type": "markdown",
      "source": [
        "**save model for 5-anonymity**"
      ],
      "metadata": {
        "id": "sDSFudGC_9Rb"
      }
    },
    {
      "cell_type": "code",
      "execution_count": null,
      "metadata": {
        "id": "1_nGGIGy_9Rb"
      },
      "outputs": [],
      "source": [
        "save_model(grid_result, 'LogisticRegression_model(5-anonymity).sav')"
      ]
    },
    {
      "cell_type": "markdown",
      "source": [
        "**save model for differential-privacy**"
      ],
      "metadata": {
        "id": "_W4BXFdQ_9Rb"
      }
    },
    {
      "cell_type": "code",
      "source": [
        "save_model(grid_result, 'LogisticRegression_model(differential-privacy).sav')"
      ],
      "metadata": {
        "id": "BIA84BBE_9Rc"
      },
      "execution_count": null,
      "outputs": []
    },
    {
      "cell_type": "markdown",
      "source": [
        "**save model for delta-presence**"
      ],
      "metadata": {
        "id": "E4zDYTTD_9Rc"
      }
    },
    {
      "cell_type": "code",
      "source": [
        "save_model(grid_result, 'LogisticRegression_model(delta-presence).sav')"
      ],
      "metadata": {
        "id": "fAV1XLpw_9Rc"
      },
      "execution_count": null,
      "outputs": []
    },
    {
      "cell_type": "markdown",
      "source": [
        "**Load model for 5-anonymity**"
      ],
      "metadata": {
        "id": "n2IM5OMT_9Rc"
      }
    },
    {
      "cell_type": "code",
      "execution_count": null,
      "metadata": {
        "id": "eNbS6zwH_9Rc"
      },
      "outputs": [],
      "source": [
        "#--- load model ---#\n",
        "grid_result = pickle.load(open('LogisticRegression_model.sav(5-anonymity)', 'rb'))"
      ]
    },
    {
      "cell_type": "markdown",
      "source": [
        "**Load model for differential-privacy**"
      ],
      "metadata": {
        "id": "4zn5OGhh_9Rc"
      }
    },
    {
      "cell_type": "code",
      "source": [
        "#--- load model ---#\n",
        "grid_result = pickle.load(open('LogisticRegression_model.sav(differential-privacy)', 'rb'))"
      ],
      "metadata": {
        "id": "ga2XtvIR_9Rc"
      },
      "execution_count": null,
      "outputs": []
    },
    {
      "cell_type": "markdown",
      "source": [
        "**Load model for delta-presence**"
      ],
      "metadata": {
        "id": "zhbdhNLt_9Rc"
      }
    },
    {
      "cell_type": "code",
      "source": [
        "#--- load model ---#\n",
        "grid_result = pickle.load(open('LogisticRegression_model.sav(delta-presence)', 'rb'))"
      ],
      "metadata": {
        "id": "014iKoGg_9Rc"
      },
      "execution_count": null,
      "outputs": []
    },
    {
      "cell_type": "code",
      "execution_count": null,
      "metadata": {
        "id": "EVv33P0W2bGd"
      },
      "outputs": [],
      "source": [
        "#--- test set metrics ---#\n",
        "y_pred = grid_result.predict(X_test)\n",
        "np.mean(y_pred == y_test.iloc[:, 9])\n"
      ]
    },
    {
      "cell_type": "code",
      "execution_count": null,
      "metadata": {
        "id": "HJhN-91f2bGe"
      },
      "outputs": [],
      "source": [
        "y_test_pos = y_test.iloc[:, 0:2].values \n",
        "y_test_floor = y_test.iloc[:, 2].values\n",
        "y_test_building = y_test.iloc[:, 3].values\n",
        "\n",
        "dict_loc = {}\n",
        "m_total = ref_table.shape[0]\n",
        "for i in range(m_total):\n",
        "    key = int(ref_table.iloc[i]['UNIQUELOCATION'])\n",
        "    value = ref_table.iloc[i, 0:4].values\n",
        "    dict_loc[key] = value\n",
        "\n",
        "y_pred_pos = np.asarray([dict_loc[i] for i in y_pred])[:, 0:2] \n",
        "y_pred_floor = np.asarray([dict_loc[i] for i in y_pred])[:, 2]\n",
        "y_pred_building = np.asarray([dict_loc[i] for i in y_pred])[:, 3]"
      ]
    },
    {
      "cell_type": "code",
      "execution_count": null,
      "metadata": {
        "id": "8n_ymuc42bGe"
      },
      "outputs": [],
      "source": [
        "def euclidean(y_test_pos, y_pred_pos):\n",
        "    \n",
        "    m_test = y_test_pos.shape[0]\n",
        "    D_error = np.sum((y_test_pos - y_pred_pos)**2, axis = 1)**0.5\n",
        "    \n",
        "    return D_error"
      ]
    },
    {
      "cell_type": "code",
      "execution_count": null,
      "metadata": {
        "id": "wYq9eO_u2bGe"
      },
      "outputs": [],
      "source": [
        "D_error = euclidean(y_test_pos, y_pred_pos)\n",
        "# sorted   \n",
        "sorted_D_error = sorted(D_error)\n",
        "\n",
        "m_test = y_test.shape[0]\n",
        "mean_error = np.mean(D_error) \n",
        "percentile_25th = sorted_D_error[math.ceil(m_test*0.25) - 1] # -1 since 0-indexed. meters\n",
        "percentile_50th = sorted_D_error[math.ceil(m_test*0.50) - 1] # meters\n",
        "percentile_75th = sorted_D_error[math.ceil(m_test*0.75) - 1] # meters\n",
        "percentile_95th = sorted_D_error[math.ceil(m_test*0.95) - 1] # meters\n",
        "percentile_100th = sorted_D_error[math.ceil(m_test*1.00) - 1] # meters\n",
        "building_hitrate = np.mean(y_test_building == y_pred_building)\n",
        "floor_hitrate = np.mean(y_test_floor == y_pred_floor)"
      ]
    },
    {
      "cell_type": "code",
      "execution_count": null,
      "metadata": {
        "id": "4I84T4QA2bGe"
      },
      "outputs": [],
      "source": [
        "mean_error = np.mean(D_error) "
      ]
    },
    {
      "cell_type": "markdown",
      "source": [
        "**5. Multi-Layer Perceptron**"
      ],
      "metadata": {
        "id": "4r9Bab5H2dh9"
      }
    },
    {
      "cell_type": "code",
      "source": [
        "if __name__ == '__main__':\n",
        "    \n",
        "    from sklearn.neural_network import MLPClassifier\n",
        "\n",
        "\n",
        "    classifier = MLPClassifier(random_state = 17)\n",
        "    \n",
        "\n",
        "    from sklearn.model_selection import GridSearchCV\n",
        "        \n",
        "    hyperparameters = {'criterion': ['gini'], \n",
        "                  'max_depth': [None], \n",
        "                  'max_features': ['sqrt'],\n",
        "                  'n_estimators': [60]}\n",
        "    \n",
        "    from sklearn.metrics import cohen_kappa_score\n",
        "    from sklearn.metrics import make_scorer\n",
        "    scoring = {'accuracy': 'accuracy',\n",
        "               'kappa': make_scorer(cohen_kappa_score)}\n",
        "    \n",
        "    grid = GridSearchCV(estimator = classifier, param_grid = hyperparameters, scoring = scoring, cv = 2, refit = 'accuracy', return_train_score = True, n_jobs = -1) \n",
        "    \n",
        "    tic = time.time()\n",
        "    grid_result = grid.fit(X_train, y_train.iloc[:, 9].squeeze()) \n",
        "    toc = time.time()\n",
        "    run_time = (toc - tic)/60\n",
        "    import winsound; winsound.Beep(frequency = 1500, duration = 2000) "
      ],
      "metadata": {
        "id": "N-9D-C8r2hmW"
      },
      "execution_count": null,
      "outputs": []
    },
    {
      "cell_type": "code",
      "source": [
        "#--- cross validation metrics and training set metrics (average of folds) ----#\n",
        "cv_results_ = pd.DataFrame.from_dict(grid_result.cv_results_) \n",
        "cv_results_.insert(loc = 0, column = 'Model', \n",
        "                   value = ['MLPClassifier']*cv_results_.shape[0])\n",
        "cv_results_.insert(loc = 28, column = 'mean train - cross_val accuracy',  # loc = 60 if you use cv=10\n",
        "                   value = cv_results_['mean_train_accuracy'] - cv_results_['mean_test_accuracy'])\n",
        "cv_results_.insert(loc = 29, column = 'mean train - cross_val kappa',   # loc = 61 if you use cv=10\n",
        "                   value = cv_results_['mean_train_kappa'] - cv_results_['mean_test_kappa'])\n",
        "with open('tuning_rf.csv', 'a') as f:\n",
        "    cv_results_.to_csv(f, header = True)"
      ],
      "metadata": {
        "id": "gCwcClX72hmX"
      },
      "execution_count": null,
      "outputs": []
    },
    {
      "cell_type": "code",
      "source": [
        "grid_result.best_estimator_\n",
        "grid_result.best_score_\n",
        "grid_result.best_params_"
      ],
      "metadata": {
        "id": "5Xa0Tba_2hmX"
      },
      "execution_count": null,
      "outputs": []
    },
    {
      "cell_type": "code",
      "source": [
        "#--- save best model ---#\n",
        "\n",
        "def save_model(model, model_name):\n",
        "   model_name_present = glob.glob(model_name) # boolean\n",
        "   if not model_name_present:\n",
        "       pickle.dump(grid_result, open(model_name, 'wb'))\n",
        "   else:\n",
        "       print('WARNING: This file already exists.')"
      ],
      "metadata": {
        "id": "jh15BzN42hmX"
      },
      "execution_count": null,
      "outputs": []
    },
    {
      "cell_type": "markdown",
      "source": [
        "**save model for 5-anonymity**"
      ],
      "metadata": {
        "id": "v-cG0dkmANVI"
      }
    },
    {
      "cell_type": "code",
      "execution_count": null,
      "metadata": {
        "id": "-O2UEjQyANVI"
      },
      "outputs": [],
      "source": [
        "save_model(grid_result, 'MLPClassifier_model(5-anonymity).sav')"
      ]
    },
    {
      "cell_type": "markdown",
      "source": [
        "**save model for differential-privacy**"
      ],
      "metadata": {
        "id": "7eGhBjXRANVJ"
      }
    },
    {
      "cell_type": "code",
      "source": [
        "save_model(grid_result, 'MLPClassifier_model(differential-privacy).sav')"
      ],
      "metadata": {
        "id": "UUutpHwOANVJ"
      },
      "execution_count": null,
      "outputs": []
    },
    {
      "cell_type": "markdown",
      "source": [
        "**save model for delta-presence**"
      ],
      "metadata": {
        "id": "0EExnhx1ANVJ"
      }
    },
    {
      "cell_type": "code",
      "source": [
        "save_model(grid_result, 'MLPClassifier_model(delta-presence).sav')"
      ],
      "metadata": {
        "id": "RthyYSghANVJ"
      },
      "execution_count": null,
      "outputs": []
    },
    {
      "cell_type": "markdown",
      "source": [
        "**Load model for 5-anonymity**"
      ],
      "metadata": {
        "id": "lukeIyxJANVJ"
      }
    },
    {
      "cell_type": "code",
      "execution_count": null,
      "metadata": {
        "id": "6UAMCvKFANVJ"
      },
      "outputs": [],
      "source": [
        "#--- load model ---#\n",
        "grid_result = pickle.load(open('MLPClassifier_model.sav(5-anonymity)', 'rb'))"
      ]
    },
    {
      "cell_type": "markdown",
      "source": [
        "**Load model for differential-privacy**"
      ],
      "metadata": {
        "id": "znQAo6u7ANVJ"
      }
    },
    {
      "cell_type": "code",
      "source": [
        "#--- load model ---#\n",
        "grid_result = pickle.load(open('MLPClassifier_model.sav(differential-privacy)', 'rb'))"
      ],
      "metadata": {
        "id": "5bDLEqfrANVJ"
      },
      "execution_count": null,
      "outputs": []
    },
    {
      "cell_type": "markdown",
      "source": [
        "**Load model for delta-presence**"
      ],
      "metadata": {
        "id": "fP_RSnyDANVJ"
      }
    },
    {
      "cell_type": "code",
      "source": [
        "#--- load model ---#\n",
        "grid_result = pickle.load(open('MLPClassifier_model.sav(delta-presence)', 'rb'))"
      ],
      "metadata": {
        "id": "k1aYW3ZxANVJ"
      },
      "execution_count": null,
      "outputs": []
    },
    {
      "cell_type": "code",
      "execution_count": null,
      "metadata": {
        "id": "mFejyFyM2hmX"
      },
      "outputs": [],
      "source": [
        "#--- test set metrics ---#\n",
        "y_pred = grid_result.predict(X_test)\n",
        "np.mean(y_pred == y_test.iloc[:, 9])\n"
      ]
    },
    {
      "cell_type": "code",
      "execution_count": null,
      "metadata": {
        "id": "us5LA0J72hmX"
      },
      "outputs": [],
      "source": [
        "y_test_pos = y_test.iloc[:, 0:2].values \n",
        "y_test_floor = y_test.iloc[:, 2].values\n",
        "y_test_building = y_test.iloc[:, 3].values\n",
        "\n",
        "dict_loc = {}\n",
        "m_total = ref_table.shape[0]\n",
        "for i in range(m_total):\n",
        "    key = int(ref_table.iloc[i]['UNIQUELOCATION'])\n",
        "    value = ref_table.iloc[i, 0:4].values\n",
        "    dict_loc[key] = value\n",
        "\n",
        "y_pred_pos = np.asarray([dict_loc[i] for i in y_pred])[:, 0:2] \n",
        "y_pred_floor = np.asarray([dict_loc[i] for i in y_pred])[:, 2]\n",
        "y_pred_building = np.asarray([dict_loc[i] for i in y_pred])[:, 3]"
      ]
    },
    {
      "cell_type": "code",
      "execution_count": null,
      "metadata": {
        "id": "qDn-uGol2hmX"
      },
      "outputs": [],
      "source": [
        "def euclidean(y_test_pos, y_pred_pos):\n",
        "    \n",
        "    m_test = y_test_pos.shape[0]\n",
        "    D_error = np.sum((y_test_pos - y_pred_pos)**2, axis = 1)**0.5\n",
        "    \n",
        "    return D_error"
      ]
    },
    {
      "cell_type": "code",
      "execution_count": null,
      "metadata": {
        "id": "xleiMozm2hmX"
      },
      "outputs": [],
      "source": [
        "D_error = euclidean(y_test_pos, y_pred_pos)\n",
        "# sorted   \n",
        "sorted_D_error = sorted(D_error)\n",
        "\n",
        "m_test = y_test.shape[0]\n",
        "mean_error = np.mean(D_error) \n",
        "percentile_25th = sorted_D_error[math.ceil(m_test*0.25) - 1] # -1 since 0-indexed. meters\n",
        "percentile_50th = sorted_D_error[math.ceil(m_test*0.50) - 1] # meters\n",
        "percentile_75th = sorted_D_error[math.ceil(m_test*0.75) - 1] # meters\n",
        "percentile_95th = sorted_D_error[math.ceil(m_test*0.95) - 1] # meters\n",
        "percentile_100th = sorted_D_error[math.ceil(m_test*1.00) - 1] # meters\n",
        "building_hitrate = np.mean(y_test_building == y_pred_building)\n",
        "floor_hitrate = np.mean(y_test_floor == y_pred_floor)"
      ]
    },
    {
      "cell_type": "code",
      "execution_count": null,
      "metadata": {
        "id": "jvkuZkS02hmY"
      },
      "outputs": [],
      "source": [
        "mean_error = np.mean(D_error) "
      ]
    }
  ],
  "metadata": {
    "colab": {
      "collapsed_sections": [],
      "provenance": [],
      "include_colab_link": true
    },
    "kernelspec": {
      "display_name": "Python 3",
      "language": "python",
      "name": "python3"
    },
    "language_info": {
      "codemirror_mode": {
        "name": "ipython",
        "version": 3
      },
      "file_extension": ".py",
      "mimetype": "text/x-python",
      "name": "python",
      "nbconvert_exporter": "python",
      "pygments_lexer": "ipython3",
      "version": "3.6.5"
    }
  },
  "nbformat": 4,
  "nbformat_minor": 0
}