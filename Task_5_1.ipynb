{
  "nbformat": 4,
  "nbformat_minor": 0,
  "metadata": {
    "colab": {
      "provenance": [],
      "collapsed_sections": [],
      "mount_file_id": "1eAUyIH_G-tUNuS7RRtbCRZBYRR2KxHxV",
      "authorship_tag": "ABX9TyOy4UTWasMq9Yqe/scsgfYr",
      "include_colab_link": true
    },
    "kernelspec": {
      "name": "python3",
      "display_name": "Python 3"
    },
    "language_info": {
      "name": "python"
    }
  },
  "cells": [
    {
      "cell_type": "markdown",
      "metadata": {
        "id": "view-in-github",
        "colab_type": "text"
      },
      "source": [
        "<a href=\"https://colab.research.google.com/github/adrianweerasinghe97/SIT719/blob/master/Task_5_1.ipynb\" target=\"_parent\"><img src=\"https://colab.research.google.com/assets/colab-badge.svg\" alt=\"Open In Colab\"/></a>"
      ]
    },
    {
      "cell_type": "markdown",
      "source": [
        "**DataSet 1**"
      ],
      "metadata": {
        "id": "3OXO2CsbCkBK"
      }
    },
    {
      "cell_type": "code",
      "execution_count": 36,
      "metadata": {
        "id": "AGms0cRosnkD"
      },
      "outputs": [],
      "source": [
        "import os\n",
        "from collections import defaultdict\n",
        "import pandas as pd\n",
        "import numpy as np\n",
        "import matplotlib.pyplot as plt\n",
        "from sklearn.metrics import plot_confusion_matrix\n",
        "\n",
        "\n",
        "import warnings\n",
        "warnings.filterwarnings('ignore')\n",
        "\n",
        "\n"
      ]
    },
    {
      "cell_type": "code",
      "source": [
        "!pip install wget\n",
        "import wget\n",
        "    \n",
        "link_to_data = 'https://raw.githubusercontent.com/SIT719/2020-S2/master/data/Week_5_NSL-KDD-Dataset/training_attack_types.txt?raw=true'\n",
        "DataSet = wget.download(link_to_data) \n"
      ],
      "metadata": {
        "colab": {
          "base_uri": "https://localhost:8080/"
        },
        "id": "ijzw-vJf-_-V",
        "outputId": "83c600f7-dc72-4571-e339-544aae2c8dea"
      },
      "execution_count": 3,
      "outputs": [
        {
          "output_type": "stream",
          "name": "stdout",
          "text": [
            "Looking in indexes: https://pypi.org/simple, https://us-python.pkg.dev/colab-wheels/public/simple/\n",
            "Collecting wget\n",
            "  Downloading wget-3.2.zip (10 kB)\n",
            "Building wheels for collected packages: wget\n",
            "  Building wheel for wget (setup.py) ... \u001b[?25l\u001b[?25hdone\n",
            "  Created wheel for wget: filename=wget-3.2-py3-none-any.whl size=9675 sha256=d0412a28f93fe4f6a5bb266dd12c06c1f29108b183cc4c5814d1cdf210649dd0\n",
            "  Stored in directory: /root/.cache/pip/wheels/a1/b6/7c/0e63e34eb06634181c63adacca38b79ff8f35c37e3c13e3c02\n",
            "Successfully built wget\n",
            "Installing collected packages: wget\n",
            "Successfully installed wget-3.2\n"
          ]
        }
      ]
    },
    {
      "cell_type": "code",
      "source": [
        "DataSet"
      ],
      "metadata": {
        "colab": {
          "base_uri": "https://localhost:8080/",
          "height": 36
        },
        "id": "aRwu_dx5BUeo",
        "outputId": "3c3629c5-92f6-4b64-a866-f27e861167d1"
      },
      "execution_count": 4,
      "outputs": [
        {
          "output_type": "execute_result",
          "data": {
            "text/plain": [
              "'training_attack_types.txt'"
            ],
            "application/vnd.google.colaboratory.intrinsic+json": {
              "type": "string"
            }
          },
          "metadata": {},
          "execution_count": 4
        }
      ]
    },
    {
      "cell_type": "code",
      "source": [
        "header_names = ['duration', 'protocol_type', 'service', 'flag', 'src_bytes', 'dst_bytes', 'land', 'wrong_fragment', 'urgent', 'hot', 'num_failed_logins', 'logged_in', 'num_compromised', 'root_shell', 'su_attempted', 'num_root', 'num_file_creations', 'num_shells', 'num_access_files', 'num_outbound_cmds', 'is_host_login', 'is_guest_login', 'count', 'srv_count', 'serror_rate', 'srv_serror_rate', 'rerror_rate', 'srv_rerror_rate', 'same_srv_rate', 'diff_srv_rate', 'srv_diff_host_rate', 'dst_host_count', 'dst_host_srv_count', 'dst_host_same_srv_rate', 'dst_host_diff_srv_rate', 'dst_host_same_src_port_rate', 'dst_host_srv_diff_host_rate', 'dst_host_serror_rate', 'dst_host_srv_serror_rate', 'dst_host_rerror_rate', 'dst_host_srv_rerror_rate', 'attack_type', 'success_pred']\n",
        "\n",
        "\n",
        "# Differentiating between nominal, binary, and numeric features\n",
        "\n",
        "# root_shell is marked as a continuous feature in the kddcup.names \n",
        "# file, but it is supposed to be a binary feature according to the \n",
        "# dataset documentation\n",
        "\n",
        "# training_attack_types.txt maps each of the 22 different attacks to 1 of 4 categories\n",
        "# file obtained from http://kdd.ics.uci.edu/databases/kddcup99/training_attack_types\n",
        "\n",
        "col_names = np.array(header_names)\n",
        "\n",
        "nominal_idx = [1, 2, 3]\n",
        "binary_idx = [6, 11, 13, 14, 20, 21]\n",
        "numeric_idx = list(set(range(41)).difference(nominal_idx).difference(binary_idx))\n",
        "\n",
        "nominal_cols = col_names[nominal_idx].tolist()\n",
        "binary_cols = col_names[binary_idx].tolist()\n",
        "numeric_cols = col_names[numeric_idx].tolist()"
      ],
      "metadata": {
        "id": "8TMXo128Bh3k"
      },
      "execution_count": 5,
      "outputs": []
    },
    {
      "cell_type": "code",
      "source": [
        "# training_attack_types.txt maps each of the 22 different attacks to 1 of 4 categories\n",
        "# file obtained from http://kdd.ics.uci.edu/databases/kddcup99/training_attack_types\n",
        "\n",
        "category = defaultdict(list)\n",
        "category['benign'].append('normal')\n",
        "\n",
        "with open(DataSet, 'r') as f:\n",
        "    for line in f.readlines():\n",
        "        attack, cat = line.strip().split(' ')\n",
        "        category[cat].append(attack)\n",
        "\n",
        "attack_mapping = dict((v,k) for k in category for v in category[k])"
      ],
      "metadata": {
        "id": "F9uGnJLzBjKk"
      },
      "execution_count": 6,
      "outputs": []
    },
    {
      "cell_type": "code",
      "source": [
        "attack_mapping"
      ],
      "metadata": {
        "colab": {
          "base_uri": "https://localhost:8080/"
        },
        "id": "c8y3KhmyBlfH",
        "outputId": "7f010a67-7338-43a4-8599-184bcbf38c4c"
      },
      "execution_count": 7,
      "outputs": [
        {
          "output_type": "execute_result",
          "data": {
            "text/plain": [
              "{'normal': 'benign',\n",
              " 'apache2': 'dos',\n",
              " 'back': 'dos',\n",
              " 'mailbomb': 'dos',\n",
              " 'processtable': 'dos',\n",
              " 'snmpgetattack': 'dos',\n",
              " 'teardrop': 'dos',\n",
              " 'smurf': 'dos',\n",
              " 'land': 'dos',\n",
              " 'neptune': 'dos',\n",
              " 'pod': 'dos',\n",
              " 'udpstorm': 'dos',\n",
              " 'ps': 'u2r',\n",
              " 'buffer_overflow': 'u2r',\n",
              " 'perl': 'u2r',\n",
              " 'rootkit': 'u2r',\n",
              " 'loadmodule': 'u2r',\n",
              " 'xterm': 'u2r',\n",
              " 'sqlattack': 'u2r',\n",
              " 'httptunnel': 'u2r',\n",
              " 'ftp_write': 'r2l',\n",
              " 'guess_passwd': 'r2l',\n",
              " 'snmpguess': 'r2l',\n",
              " 'imap': 'r2l',\n",
              " 'spy': 'r2l',\n",
              " 'warezclient': 'r2l',\n",
              " 'warezmaster': 'r2l',\n",
              " 'multihop': 'r2l',\n",
              " 'phf': 'r2l',\n",
              " 'named': 'r2l',\n",
              " 'sendmail': 'r2l',\n",
              " 'xlock': 'r2l',\n",
              " 'xsnoop': 'r2l',\n",
              " 'worm': 'probe',\n",
              " 'nmap': 'probe',\n",
              " 'ipsweep': 'probe',\n",
              " 'portsweep': 'probe',\n",
              " 'satan': 'probe',\n",
              " 'mscan': 'probe',\n",
              " 'saint': 'probe'}"
            ]
          },
          "metadata": {},
          "execution_count": 7
        }
      ]
    },
    {
      "cell_type": "code",
      "source": [
        "#Processing Training Data\n",
        "\n",
        "train_file='https://raw.githubusercontent.com/SIT719/2020-S2/master/data/Week_5_NSL-KDD-Dataset/KDDTrain%2B.txt'\n",
        "\n",
        "\n",
        "\n",
        "train_df = pd.read_csv(train_file, names=header_names)\n",
        "\n",
        "train_df['attack_category'] = train_df['attack_type'] \\\n",
        "                                .map(lambda x: attack_mapping[x])\n",
        "\n",
        "train_df.drop(['success_pred'], axis=1, inplace=True)\n",
        "\n",
        "\n",
        "\n",
        "\n"
      ],
      "metadata": {
        "id": "ksG09dApBoGA"
      },
      "execution_count": 8,
      "outputs": []
    },
    {
      "cell_type": "code",
      "source": [
        "#Processing test Data\n",
        "test_file='https://raw.githubusercontent.com/SIT719/2020-S2/master/data/Week_5_NSL-KDD-Dataset/KDDTest%2B.txt'\n",
        "\n",
        "test_df = pd.read_csv(test_file, names=header_names)\n",
        "test_df['attack_category'] = test_df['attack_type'] \\\n",
        "                                .map(lambda x: attack_mapping[x])\n",
        "test_df.drop(['success_pred'], axis=1, inplace=True)"
      ],
      "metadata": {
        "id": "18wUaJLWBsOU"
      },
      "execution_count": 9,
      "outputs": []
    },
    {
      "cell_type": "code",
      "source": [
        "train_attack_types = train_df['attack_type'].value_counts()\n",
        "train_attack_cats = train_df['attack_category'].value_counts()\n",
        "\n",
        "test_attack_types = test_df['attack_type'].value_counts()\n",
        "test_attack_cats = test_df['attack_category'].value_counts()\n",
        "\n",
        "train_attack_types.plot(kind='barh', figsize=(20,10), fontsize=20)\n",
        "\n",
        "train_attack_cats.plot(kind='barh', figsize=(20,10), fontsize=30)\n",
        "\n",
        "train_df[binary_cols].describe().transpose()\n",
        "train_df.groupby(['su_attempted']).size()\n",
        "train_df['su_attempted'].replace(2, 0, inplace=True)\n",
        "test_df['su_attempted'].replace(2, 0, inplace=True)\n",
        "train_df.groupby(['su_attempted']).size()\n",
        "train_df.groupby(['num_outbound_cmds']).size()\n",
        "\n",
        "#Now, that's not a very useful feature - let's drop it from the dataset\n",
        "\n",
        "train_df.drop('num_outbound_cmds', axis = 1, inplace=True)\n",
        "test_df.drop('num_outbound_cmds', axis = 1, inplace=True)\n",
        "numeric_cols.remove('num_outbound_cmds')\n",
        "\n",
        "\n",
        "\n",
        "#Data Preparation\n",
        "\n",
        "train_Y = train_df['attack_category']\n",
        "train_x_raw = train_df.drop(['attack_category','attack_type'], axis=1)\n",
        "test_Y = test_df['attack_category']\n",
        "test_x_raw = test_df.drop(['attack_category','attack_type'], axis=1)\n",
        "\n",
        "\n",
        "combined_df_raw = pd.concat([train_x_raw, test_x_raw])\n",
        "combined_df = pd.get_dummies(combined_df_raw, columns=nominal_cols, drop_first=True)\n",
        "\n",
        "train_x = combined_df[:len(train_x_raw)]\n",
        "test_x = combined_df[len(train_x_raw):]\n",
        "\n",
        "# Store dummy variable feature names\n",
        "dummy_variables = list(set(train_x)-set(combined_df_raw))\n",
        "\n",
        "#execute the commands in console\n",
        "train_x.describe()\n",
        "train_x['duration'].describe()\n",
        "# Experimenting with StandardScaler on the single 'duration' feature\n",
        "from sklearn.preprocessing import StandardScaler\n",
        "\n",
        "durations = train_x['duration'].values.reshape(-1, 1)\n",
        "standard_scaler = StandardScaler().fit(durations)\n",
        "scaled_durations = standard_scaler.transform(durations)\n",
        "pd.Series(scaled_durations.flatten()).describe()\n",
        "\n",
        "# Experimenting with MinMaxScaler on the single 'duration' feature\n",
        "from sklearn.preprocessing import MinMaxScaler\n",
        "\n",
        "min_max_scaler = MinMaxScaler().fit(durations)\n",
        "min_max_scaled_durations = min_max_scaler.transform(durations)\n",
        "pd.Series(min_max_scaled_durations.flatten()).describe()\n",
        "\n",
        "# Experimenting with RobustScaler on the single 'duration' feature\n",
        "from sklearn.preprocessing import RobustScaler\n",
        "\n",
        "min_max_scaler = RobustScaler().fit(durations)\n",
        "robust_scaled_durations = min_max_scaler.transform(durations)\n",
        "pd.Series(robust_scaled_durations.flatten()).describe()\n",
        "\n",
        "# Experimenting with MaxAbsScaler on the single 'duration' feature\n",
        "from sklearn.preprocessing import MaxAbsScaler\n",
        "\n",
        "max_Abs_scaler = MaxAbsScaler().fit(durations)\n",
        "robust_scaled_durations = max_Abs_scaler.transform(durations)\n",
        "pd.Series(robust_scaled_durations.flatten()).describe()\n",
        "\n",
        "# Let's proceed with StandardScaler- Apply to all the numeric columns\n",
        "\n",
        "standard_scaler = StandardScaler().fit(train_x[numeric_cols])\n",
        "\n",
        "train_x[numeric_cols] = \\\n",
        "    standard_scaler.transform(train_x[numeric_cols])\n",
        "\n",
        "test_x[numeric_cols] = \\\n",
        "    standard_scaler.transform(test_x[numeric_cols])\n",
        "    \n",
        "train_x.describe()\n",
        "\n",
        "\n",
        "\n",
        "train_Y_bin = train_Y.apply(lambda x: 0 if x is 'benign' else 1)\n",
        "test_Y_bin = test_Y.apply(lambda x: 0 if x is 'benign' else 1)\n"
      ],
      "metadata": {
        "colab": {
          "base_uri": "https://localhost:8080/",
          "height": 611
        },
        "id": "LqYjVx_yB0d3",
        "outputId": "9797b46a-5cd8-4cfb-c21b-fddf5ad8c260"
      },
      "execution_count": 10,
      "outputs": [
        {
          "output_type": "display_data",
          "data": {
            "text/plain": [
              "<Figure size 1440x720 with 1 Axes>"
            ],
            "image/png": "[encoded data removed]"
          },
          "metadata": {
            "needs_background": "light"
          }
        }
      ]
    },
    {
      "cell_type": "markdown",
      "source": [
        "**1. Decision Tree**"
      ],
      "metadata": {
        "id": "_r3qgkgBCuy0"
      }
    },
    {
      "cell_type": "code",
      "source": [
        "from sklearn.tree import DecisionTreeClassifier\n",
        "from sklearn.metrics import confusion_matrix, zero_one_loss, classification_report\n",
        "from sklearn.metrics import accuracy_score\n",
        "\n",
        "classifier = DecisionTreeClassifier(random_state=17)\n",
        "classifier.fit(train_x, train_Y)\n",
        "\n",
        "pred_y = classifier.predict(test_x)\n",
        "\n",
        "results = confusion_matrix(test_Y, pred_y)\n",
        "error = zero_one_loss(test_Y, pred_y)\n",
        "\n",
        "print(results)\n",
        "print(error)\n",
        "\n",
        "# \n",
        "\n",
        "print(accuracy_score(pred_y, test_Y))\n",
        "print(confusion_matrix(test_Y, pred_y))\n",
        "\n",
        "plot_confusion_matrix(classifier, test_x, test_Y)  \n",
        "plt.show()"
      ],
      "metadata": {
        "colab": {
          "base_uri": "https://localhost:8080/",
          "height": 498
        },
        "id": "i6Wzy8IBB3A0",
        "outputId": "f194292c-17bb-4a84-e5e0-7a70d6fc704d"
      },
      "execution_count": 37,
      "outputs": [
        {
          "output_type": "stream",
          "name": "stdout",
          "text": [
            "[[9365   56  289    1    0]\n",
            " [1541 5998   97    0    0]\n",
            " [ 677  220 1526    0    0]\n",
            " [2278    1   14  277    4]\n",
            " [ 175    0    5    5   15]]\n",
            "0.2378903477643719\n",
            "0.7621096522356281\n",
            "[[9365   56  289    1    0]\n",
            " [1541 5998   97    0    0]\n",
            " [ 677  220 1526    0    0]\n",
            " [2278    1   14  277    4]\n",
            " [ 175    0    5    5   15]]\n"
          ]
        },
        {
          "output_type": "display_data",
          "data": {
            "text/plain": [
              "<Figure size 432x288 with 2 Axes>"
            ],
            "image/png": "[encoded data removed]"
          },
          "metadata": {
            "needs_background": "light"
          }
        }
      ]
    },
    {
      "cell_type": "markdown",
      "source": [
        "**2. Logistic Regression**"
      ],
      "metadata": {
        "id": "NpGIRWkkCsd1"
      }
    },
    {
      "cell_type": "code",
      "source": [
        "from sklearn.linear_model import LogisticRegression\n",
        "from sklearn.metrics import confusion_matrix, zero_one_loss\n",
        "from sklearn.metrics import accuracy_score\n",
        "\n",
        "\n",
        "classifier = LogisticRegression(random_state=17)\n",
        "classifier.fit(train_x, train_Y)\n",
        "\n",
        "pred_y = classifier.predict(test_x)\n",
        "\n",
        "results = confusion_matrix(test_Y, pred_y)\n",
        "error = zero_one_loss(test_Y, pred_y)\n",
        "\n",
        "print(results)\n",
        "print(error)\n",
        "\n",
        "\n",
        "print(accuracy_score(pred_y, test_Y))\n",
        "print(confusion_matrix(test_Y, pred_y))\n",
        "\n",
        "plot_confusion_matrix(classifier, test_x, test_Y)  \n",
        "plt.show()"
      ],
      "metadata": {
        "colab": {
          "base_uri": "https://localhost:8080/",
          "height": 498
        },
        "id": "fHQj4a9bCCSY",
        "outputId": "86f42685-f5d7-4660-b173-9aa4af52184c"
      },
      "execution_count": 38,
      "outputs": [
        {
          "output_type": "stream",
          "name": "stdout",
          "text": [
            "[[8993   90  624    2    2]\n",
            " [1560 6052   24    0    0]\n",
            " [ 496   99 1825    3    0]\n",
            " [2471    2    2   99    0]\n",
            " [ 184    3    0    5    8]]\n",
            "0.2469393186657204\n",
            "0.7530606813342796\n",
            "[[8993   90  624    2    2]\n",
            " [1560 6052   24    0    0]\n",
            " [ 496   99 1825    3    0]\n",
            " [2471    2    2   99    0]\n",
            " [ 184    3    0    5    8]]\n"
          ]
        },
        {
          "output_type": "display_data",
          "data": {
            "text/plain": [
              "<Figure size 432x288 with 2 Axes>"
            ],
            "image/png": "[encoded data removed]"
          },
          "metadata": {
            "needs_background": "light"
          }
        }
      ]
    },
    {
      "cell_type": "markdown",
      "source": [
        "**3. Naive Bayes**"
      ],
      "metadata": {
        "id": "3Wu48Qq1C5Mk"
      }
    },
    {
      "cell_type": "code",
      "source": [
        "from sklearn.naive_bayes import GaussianNB\n",
        "from sklearn.metrics import confusion_matrix, zero_one_loss\n",
        "from sklearn.metrics import accuracy_score\n",
        "\n",
        "classifier = GaussianNB()\n",
        "classifier.fit(train_x, train_Y)\n",
        "\n",
        "pred_y = classifier.predict(test_x)\n",
        "\n",
        "results = confusion_matrix(test_Y, pred_y)\n",
        "error = zero_one_loss(test_Y, pred_y)\n",
        "\n",
        "print(results)\n",
        "print(error)\n",
        "\n",
        "print(accuracy_score(pred_y, test_Y))\n",
        "print(confusion_matrix(test_Y, pred_y))\n",
        "\n",
        "\n",
        "plot_confusion_matrix(classifier, test_x, test_Y)  \n",
        "plt.show()"
      ],
      "metadata": {
        "colab": {
          "base_uri": "https://localhost:8080/",
          "height": 498
        },
        "id": "jut_6c5CDCJE",
        "outputId": "8c0d3765-87d3-4999-8f39-b4bfda2fcb33"
      },
      "execution_count": 39,
      "outputs": [
        {
          "output_type": "stream",
          "name": "stdout",
          "text": [
            "[[6756   62   10 2599  284]\n",
            " [3400 3162    4 1041   29]\n",
            " [1382  345  237  323  136]\n",
            " [1113    3    6  933  519]\n",
            " [ 115    0    0   22   63]]\n",
            "0.5053672817601136\n",
            "0.49463271823988647\n",
            "[[6756   62   10 2599  284]\n",
            " [3400 3162    4 1041   29]\n",
            " [1382  345  237  323  136]\n",
            " [1113    3    6  933  519]\n",
            " [ 115    0    0   22   63]]\n"
          ]
        },
        {
          "output_type": "display_data",
          "data": {
            "text/plain": [
              "<Figure size 432x288 with 2 Axes>"
            ],
            "image/png": "[encoded data removed]"
          },
          "metadata": {
            "needs_background": "light"
          }
        }
      ]
    },
    {
      "cell_type": "markdown",
      "source": [
        "4. SVM-SVC"
      ],
      "metadata": {
        "id": "f2T2cg1lEpZB"
      }
    },
    {
      "cell_type": "code",
      "source": [
        "from sklearn.svm import SVC \n",
        "from sklearn.metrics import confusion_matrix, zero_one_loss\n",
        "from sklearn.metrics import accuracy_score\n",
        "\n",
        "classifier = SVC(kernel='linear') \n",
        "classifier.fit(train_x, train_Y)\n",
        "\n",
        "pred_y = classifier.predict(test_x)\n",
        "\n",
        "print(results)\n",
        "print(error)\n",
        "\n",
        "\n",
        "\n",
        "print(accuracy_score(pred_y, test_Y))\n",
        "print(confusion_matrix(test_Y, pred_y))\n",
        "\n",
        "\n",
        "plot_confusion_matrix(classifier, test_x, test_Y)  \n",
        "plt.show()"
      ],
      "metadata": {
        "colab": {
          "base_uri": "https://localhost:8080/",
          "height": 498
        },
        "id": "pcaidMhOEwYY",
        "outputId": "e5f5d079-1b54-4a41-951b-699c51bdb756"
      },
      "execution_count": 40,
      "outputs": [
        {
          "output_type": "stream",
          "name": "stdout",
          "text": [
            "[[6756   62   10 2599  284]\n",
            " [3400 3162    4 1041   29]\n",
            " [1382  345  237  323  136]\n",
            " [1113    3    6  933  519]\n",
            " [ 115    0    0   22   63]]\n",
            "0.5053672817601136\n",
            "0.7584279630943932\n",
            "[[9040  225  437    4    5]\n",
            " [1445 6179   12    0    0]\n",
            " [ 720  115 1588    0    0]\n",
            " [2291    1    2  275    5]\n",
            " [ 180    1    0    3   16]]\n"
          ]
        },
        {
          "output_type": "display_data",
          "data": {
            "text/plain": [
              "<Figure size 432x288 with 2 Axes>"
            ],
            "image/png": "[encoded data removed]"
          },
          "metadata": {
            "needs_background": "light"
          }
        }
      ]
    },
    {
      "cell_type": "markdown",
      "source": [
        "**5.  Multi-layer Perceptron**"
      ],
      "metadata": {
        "id": "KK__03KehF1H"
      }
    },
    {
      "cell_type": "code",
      "source": [
        "from sklearn.neural_network import MLPClassifier\n",
        "from sklearn.metrics import confusion_matrix, zero_one_loss\n",
        "from sklearn.metrics import accuracy_score\n",
        "\n",
        "\n",
        "\n",
        "classifier = MLPClassifier(random_state=17)\n",
        "classifier.fit(train_x, train_Y)\n",
        "\n",
        "pred_y = classifier.predict(test_x)\n",
        "\n",
        "\n",
        "print(results)\n",
        "print(error)\n",
        "\n",
        "print(accuracy_score(pred_y, test_Y))\n",
        "print(confusion_matrix(test_Y, pred_y))\n",
        "\n",
        "\n",
        "plot_confusion_matrix(classifier, test_x, test_Y)  \n",
        "plt.show()"
      ],
      "metadata": {
        "colab": {
          "base_uri": "https://localhost:8080/",
          "height": 498
        },
        "id": "u5XmnPkbhV6u",
        "outputId": "043ce732-0fd9-4066-99bb-aedcded4a17f"
      },
      "execution_count": 41,
      "outputs": [
        {
          "output_type": "stream",
          "name": "stdout",
          "text": [
            "[[6756   62   10 2599  284]\n",
            " [3400 3162    4 1041   29]\n",
            " [1382  345  237  323  136]\n",
            " [1113    3    6  933  519]\n",
            " [ 115    0    0   22   63]]\n",
            "0.5053672817601136\n",
            "0.767388218594748\n",
            "[[9192   52  459    5    3]\n",
            " [1399 6149   87    1    0]\n",
            " [ 402  447 1565    9    0]\n",
            " [2150    0   18  378   28]\n",
            " [ 101    0   72   11   16]]\n"
          ]
        },
        {
          "output_type": "display_data",
          "data": {
            "text/plain": [
              "<Figure size 432x288 with 2 Axes>"
            ],
            "image/png": "[encoded data removed]"
          },
          "metadata": {
            "needs_background": "light"
          }
        }
      ]
    },
    {
      "cell_type": "markdown",
      "source": [
        "**DataSet 2**"
      ],
      "metadata": {
        "id": "2GO36fStCpbU"
      }
    },
    {
      "cell_type": "code",
      "source": [
        "import timeit\n",
        "import pandas as pd\n",
        "import numpy as np\n",
        "import seaborn as sns\n",
        "import matplotlib.pyplot as plt\n",
        "from sklearn.model_selection import train_test_split\n",
        "from sklearn.ensemble import RandomForestClassifier\n",
        "from sklearn import metrics\n",
        "from sklearn.metrics import classification_report, confusion_matrix\n",
        "from sklearn.metrics import roc_curve\n",
        "from sklearn.metrics import roc_auc_score\n",
        "import warnings\n",
        "%matplotlib inline\n",
        "warnings.filterwarnings('ignore')\n",
        "#warnings.filterwarnings('always') "
      ],
      "metadata": {
        "id": "MuZup6RiCsEC"
      },
      "execution_count": 42,
      "outputs": []
    },
    {
      "cell_type": "code",
      "source": [
        "from google.colab import files\n",
        "uploaded = files.upload()\n",
        "import pandas as pd\n",
        "\n",
        "import io\n",
        "\n",
        "dataset = pd.read_csv(io.BytesIO(uploaded['Processed_Combined_IoT_dataset.csv']))"
      ],
      "metadata": {
        "colab": {
          "base_uri": "https://localhost:8080/",
          "height": 434
        },
        "id": "65Zl95V8Ctac",
        "outputId": "0a2d71bd-dc53-4d66-8c0e-74c754ec6428"
      },
      "execution_count": 44,
      "outputs": [
        {
          "output_type": "display_data",
          "data": {
            "text/plain": [
              "<IPython.core.display.HTML object>"
            ],
            "text/html": [
              "\n",
              "     <input type=\"file\" id=\"files-f2ce5faf-70f7-43b2-a013-26f51a5400c9\" name=\"files[]\" multiple disabled\n",
              "        style=\"border:none\" />\n",
              "     <output id=\"result-f2ce5faf-70f7-43b2-a013-26f51a5400c9\">\n",
              "      Upload widget is only available when the cell has been executed in the\n",
              "      current browser session. Please rerun this cell to enable.\n",
              "      </output>\n",
              "      <script>// Copyright 2017 Google LLC\n",
              "//\n",
              "// Licensed under the Apache License, Version 2.0 (the \"License\");\n",
              "// you may not use this file except in compliance with the License.\n",
              "// You may obtain a copy of the License at\n",
              "//\n",
              "//      http://www.apache.org/licenses/LICENSE-2.0\n",
              "//\n",
              "// Unless required by applicable law or agreed to in writing, software\n",
              "// distributed under the License is distributed on an \"AS IS\" BASIS,\n",
              "// WITHOUT WARRANTIES OR CONDITIONS OF ANY KIND, either express or implied.\n",
              "// See the License for the specific language governing permissions and\n",
              "// limitations under the License.\n",
              "\n",
              "/**\n",
              " * @fileoverview Helpers for google.colab Python module.\n",
              " */\n",
              "(function(scope) {\n",
              "function span(text, styleAttributes = {}) {\n",
              "  const element = document.createElement('span');\n",
              "  element.textContent = text;\n",
              "  for (const key of Object.keys(styleAttributes)) {\n",
              "    element.style[key] = styleAttributes[key];\n",
              "  }\n",
              "  return element;\n",
              "}\n",
              "\n",
              "// Max number of bytes which will be uploaded at a time.\n",
              "const MAX_PAYLOAD_SIZE = 100 * 1024;\n",
              "\n",
              "function _uploadFiles(inputId, outputId) {\n",
              "  const steps = uploadFilesStep(inputId, outputId);\n",
              "  const outputElement = document.getElementById(outputId);\n",
              "  // Cache steps on the outputElement to make it available for the next call\n",
              "  // to uploadFilesContinue from Python.\n",
              "  outputElement.steps = steps;\n",
              "\n",
              "  return _uploadFilesContinue(outputId);\n",
              "}\n",
              "\n",
              "// This is roughly an async generator (not supported in the browser yet),\n",
              "// where there are multiple asynchronous steps and the Python side is going\n",
              "// to poll for completion of each step.\n",
              "// This uses a Promise to block the python side on completion of each step,\n",
              "// then passes the result of the previous step as the input to the next step.\n",
              "function _uploadFilesContinue(outputId) {\n",
              "  const outputElement = document.getElementById(outputId);\n",
              "  const steps = outputElement.steps;\n",
              "\n",
              "  const next = steps.next(outputElement.lastPromiseValue);\n",
              "  return Promise.resolve(next.value.promise).then((value) => {\n",
              "    // Cache the last promise value to make it available to the next\n",
              "    // step of the generator.\n",
              "    outputElement.lastPromiseValue = value;\n",
              "    return next.value.response;\n",
              "  });\n",
              "}\n",
              "\n",
              "/**\n",
              " * Generator function which is called between each async step of the upload\n",
              " * process.\n",
              " * @param {string} inputId Element ID of the input file picker element.\n",
              " * @param {string} outputId Element ID of the output display.\n",
              " * @return {!Iterable<!Object>} Iterable of next steps.\n",
              " */\n",
              "function* uploadFilesStep(inputId, outputId) {\n",
              "  const inputElement = document.getElementById(inputId);\n",
              "  inputElement.disabled = false;\n",
              "\n",
              "  const outputElement = document.getElementById(outputId);\n",
              "  outputElement.innerHTML = '';\n",
              "\n",
              "  const pickedPromise = new Promise((resolve) => {\n",
              "    inputElement.addEventListener('change', (e) => {\n",
              "      resolve(e.target.files);\n",
              "    });\n",
              "  });\n",
              "\n",
              "  const cancel = document.createElement('button');\n",
              "  inputElement.parentElement.appendChild(cancel);\n",
              "  cancel.textContent = 'Cancel upload';\n",
              "  const cancelPromise = new Promise((resolve) => {\n",
              "    cancel.onclick = () => {\n",
              "      resolve(null);\n",
              "    };\n",
              "  });\n",
              "\n",
              "  // Wait for the user to pick the files.\n",
              "  const files = yield {\n",
              "    promise: Promise.race([pickedPromise, cancelPromise]),\n",
              "    response: {\n",
              "      action: 'starting',\n",
              "    }\n",
              "  };\n",
              "\n",
              "  cancel.remove();\n",
              "\n",
              "  // Disable the input element since further picks are not allowed.\n",
              "  inputElement.disabled = true;\n",
              "\n",
              "  if (!files) {\n",
              "    return {\n",
              "      response: {\n",
              "        action: 'complete',\n",
              "      }\n",
              "    };\n",
              "  }\n",
              "\n",
              "  for (const file of files) {\n",
              "    const li = document.createElement('li');\n",
              "    li.append(span(file.name, {fontWeight: 'bold'}));\n",
              "    li.append(span(\n",
              "        `(${file.type || 'n/a'}) - ${file.size} bytes, ` +\n",
              "        `last modified: ${\n",
              "            file.lastModifiedDate ? file.lastModifiedDate.toLocaleDateString() :\n",
              "                                    'n/a'} - `));\n",
              "    const percent = span('0% done');\n",
              "    li.appendChild(percent);\n",
              "\n",
              "    outputElement.appendChild(li);\n",
              "\n",
              "    const fileDataPromise = new Promise((resolve) => {\n",
              "      const reader = new FileReader();\n",
              "      reader.onload = (e) => {\n",
              "        resolve(e.target.result);\n",
              "      };\n",
              "      reader.readAsArrayBuffer(file);\n",
              "    });\n",
              "    // Wait for the data to be ready.\n",
              "    let fileData = yield {\n",
              "      promise: fileDataPromise,\n",
              "      response: {\n",
              "        action: 'continue',\n",
              "      }\n",
              "    };\n",
              "\n",
              "    // Use a chunked sending to avoid message size limits. See b/62115660.\n",
              "    let position = 0;\n",
              "    do {\n",
              "      const length = Math.min(fileData.byteLength - position, MAX_PAYLOAD_SIZE);\n",
              "      const chunk = new Uint8Array(fileData, position, length);\n",
              "      position += length;\n",
              "\n",
              "      const base64 = btoa(String.fromCharCode.apply(null, chunk));\n",
              "      yield {\n",
              "        response: {\n",
              "          action: 'append',\n",
              "          file: file.name,\n",
              "          data: base64,\n",
              "        },\n",
              "      };\n",
              "\n",
              "      let percentDone = fileData.byteLength === 0 ?\n",
              "          100 :\n",
              "          Math.round((position / fileData.byteLength) * 100);\n",
              "      percent.textContent = `${percentDone}% done`;\n",
              "\n",
              "    } while (position < fileData.byteLength);\n",
              "  }\n",
              "\n",
              "  // All done.\n",
              "  yield {\n",
              "    response: {\n",
              "      action: 'complete',\n",
              "    }\n",
              "  };\n",
              "}\n",
              "\n",
              "scope.google = scope.google || {};\n",
              "scope.google.colab = scope.google.colab || {};\n",
              "scope.google.colab._files = {\n",
              "  _uploadFiles,\n",
              "  _uploadFilesContinue,\n",
              "};\n",
              "})(self);\n",
              "</script> "
            ]
          },
          "metadata": {}
        },
        {
          "output_type": "error",
          "ename": "KeyboardInterrupt",
          "evalue": "ignored",
          "traceback": [
            "\u001b[0;31m---------------------------------------------------------------------------\u001b[0m",
            "\u001b[0;31mKeyboardInterrupt\u001b[0m                         Traceback (most recent call last)",
            "\u001b[0;32m<ipython-input-44-a01663560608>\u001b[0m in \u001b[0;36m<module>\u001b[0;34m\u001b[0m\n\u001b[1;32m      1\u001b[0m \u001b[0;32mfrom\u001b[0m \u001b[0mgoogle\u001b[0m\u001b[0;34m.\u001b[0m\u001b[0mcolab\u001b[0m \u001b[0;32mimport\u001b[0m \u001b[0mfiles\u001b[0m\u001b[0;34m\u001b[0m\u001b[0;34m\u001b[0m\u001b[0m\n\u001b[0;32m----> 2\u001b[0;31m \u001b[0muploaded\u001b[0m \u001b[0;34m=\u001b[0m \u001b[0mfiles\u001b[0m\u001b[0;34m.\u001b[0m\u001b[0mupload\u001b[0m\u001b[0;34m(\u001b[0m\u001b[0;34m)\u001b[0m\u001b[0;34m\u001b[0m\u001b[0;34m\u001b[0m\u001b[0m\n\u001b[0m\u001b[1;32m      3\u001b[0m \u001b[0;32mimport\u001b[0m \u001b[0mpandas\u001b[0m \u001b[0;32mas\u001b[0m \u001b[0mpd\u001b[0m\u001b[0;34m\u001b[0m\u001b[0;34m\u001b[0m\u001b[0m\n\u001b[1;32m      4\u001b[0m \u001b[0;34m\u001b[0m\u001b[0m\n\u001b[1;32m      5\u001b[0m \u001b[0;32mimport\u001b[0m \u001b[0mio\u001b[0m\u001b[0;34m\u001b[0m\u001b[0;34m\u001b[0m\u001b[0m\n",
            "\u001b[0;32m/usr/local/lib/python3.7/dist-packages/google/colab/files.py\u001b[0m in \u001b[0;36mupload\u001b[0;34m()\u001b[0m\n\u001b[1;32m     40\u001b[0m   \"\"\"\n\u001b[1;32m     41\u001b[0m \u001b[0;34m\u001b[0m\u001b[0m\n\u001b[0;32m---> 42\u001b[0;31m   \u001b[0muploaded_files\u001b[0m \u001b[0;34m=\u001b[0m \u001b[0m_upload_files\u001b[0m\u001b[0;34m(\u001b[0m\u001b[0mmultiple\u001b[0m\u001b[0;34m=\u001b[0m\u001b[0;32mTrue\u001b[0m\u001b[0;34m)\u001b[0m\u001b[0;34m\u001b[0m\u001b[0;34m\u001b[0m\u001b[0m\n\u001b[0m\u001b[1;32m     43\u001b[0m   \u001b[0;31m# Mapping from original filename to filename as saved locally.\u001b[0m\u001b[0;34m\u001b[0m\u001b[0;34m\u001b[0m\u001b[0;34m\u001b[0m\u001b[0m\n\u001b[1;32m     44\u001b[0m   \u001b[0mlocal_filenames\u001b[0m \u001b[0;34m=\u001b[0m \u001b[0mdict\u001b[0m\u001b[0;34m(\u001b[0m\u001b[0;34m)\u001b[0m\u001b[0;34m\u001b[0m\u001b[0;34m\u001b[0m\u001b[0m\n",
            "\u001b[0;32m/usr/local/lib/python3.7/dist-packages/google/colab/files.py\u001b[0m in \u001b[0;36m_upload_files\u001b[0;34m(multiple)\u001b[0m\n\u001b[1;32m    125\u001b[0m     result = _output.eval_js(\n\u001b[1;32m    126\u001b[0m         'google.colab._files._uploadFilesContinue(\"{output_id}\")'.format(\n\u001b[0;32m--> 127\u001b[0;31m             output_id=output_id))\n\u001b[0m\u001b[1;32m    128\u001b[0m     \u001b[0;32mif\u001b[0m \u001b[0mresult\u001b[0m\u001b[0;34m[\u001b[0m\u001b[0;34m'action'\u001b[0m\u001b[0;34m]\u001b[0m \u001b[0;34m!=\u001b[0m \u001b[0;34m'append'\u001b[0m\u001b[0;34m:\u001b[0m\u001b[0;34m\u001b[0m\u001b[0;34m\u001b[0m\u001b[0m\n\u001b[1;32m    129\u001b[0m       \u001b[0;31m# JS side uses a generator of promises to process all of the files- some\u001b[0m\u001b[0;34m\u001b[0m\u001b[0;34m\u001b[0m\u001b[0;34m\u001b[0m\u001b[0m\n",
            "\u001b[0;32m/usr/local/lib/python3.7/dist-packages/google/colab/output/_js.py\u001b[0m in \u001b[0;36meval_js\u001b[0;34m(script, ignore_result, timeout_sec)\u001b[0m\n\u001b[1;32m     38\u001b[0m   \u001b[0;32mif\u001b[0m \u001b[0mignore_result\u001b[0m\u001b[0;34m:\u001b[0m\u001b[0;34m\u001b[0m\u001b[0;34m\u001b[0m\u001b[0m\n\u001b[1;32m     39\u001b[0m     \u001b[0;32mreturn\u001b[0m\u001b[0;34m\u001b[0m\u001b[0;34m\u001b[0m\u001b[0m\n\u001b[0;32m---> 40\u001b[0;31m   \u001b[0;32mreturn\u001b[0m \u001b[0m_message\u001b[0m\u001b[0;34m.\u001b[0m\u001b[0mread_reply_from_input\u001b[0m\u001b[0;34m(\u001b[0m\u001b[0mrequest_id\u001b[0m\u001b[0;34m,\u001b[0m \u001b[0mtimeout_sec\u001b[0m\u001b[0;34m)\u001b[0m\u001b[0;34m\u001b[0m\u001b[0;34m\u001b[0m\u001b[0m\n\u001b[0m\u001b[1;32m     41\u001b[0m \u001b[0;34m\u001b[0m\u001b[0m\n\u001b[1;32m     42\u001b[0m \u001b[0;34m\u001b[0m\u001b[0m\n",
            "\u001b[0;32m/usr/local/lib/python3.7/dist-packages/google/colab/_message.py\u001b[0m in \u001b[0;36mread_reply_from_input\u001b[0;34m(message_id, timeout_sec)\u001b[0m\n\u001b[1;32m     95\u001b[0m     \u001b[0mreply\u001b[0m \u001b[0;34m=\u001b[0m \u001b[0m_read_next_input_message\u001b[0m\u001b[0;34m(\u001b[0m\u001b[0;34m)\u001b[0m\u001b[0;34m\u001b[0m\u001b[0;34m\u001b[0m\u001b[0m\n\u001b[1;32m     96\u001b[0m     \u001b[0;32mif\u001b[0m \u001b[0mreply\u001b[0m \u001b[0;34m==\u001b[0m \u001b[0m_NOT_READY\u001b[0m \u001b[0;32mor\u001b[0m \u001b[0;32mnot\u001b[0m \u001b[0misinstance\u001b[0m\u001b[0;34m(\u001b[0m\u001b[0mreply\u001b[0m\u001b[0;34m,\u001b[0m \u001b[0mdict\u001b[0m\u001b[0;34m)\u001b[0m\u001b[0;34m:\u001b[0m\u001b[0;34m\u001b[0m\u001b[0;34m\u001b[0m\u001b[0m\n\u001b[0;32m---> 97\u001b[0;31m       \u001b[0mtime\u001b[0m\u001b[0;34m.\u001b[0m\u001b[0msleep\u001b[0m\u001b[0;34m(\u001b[0m\u001b[0;36m0.025\u001b[0m\u001b[0;34m)\u001b[0m\u001b[0;34m\u001b[0m\u001b[0;34m\u001b[0m\u001b[0m\n\u001b[0m\u001b[1;32m     98\u001b[0m       \u001b[0;32mcontinue\u001b[0m\u001b[0;34m\u001b[0m\u001b[0;34m\u001b[0m\u001b[0m\n\u001b[1;32m     99\u001b[0m     if (reply.get('type') == 'colab_reply' and\n",
            "\u001b[0;31mKeyboardInterrupt\u001b[0m: "
          ]
        }
      ]
    },
    {
      "cell_type": "code",
      "source": [
        "classification_report"
      ],
      "metadata": {
        "id": "0-V4nFAMCwKU"
      },
      "execution_count": null,
      "outputs": []
    }
  ]
}