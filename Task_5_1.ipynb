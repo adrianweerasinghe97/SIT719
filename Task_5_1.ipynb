{
  "nbformat": 4,
  "nbformat_minor": 0,
  "metadata": {
    "colab": {
      "provenance": [],
      "collapsed_sections": [],
      "mount_file_id": "1eAUyIH_G-tUNuS7RRtbCRZBYRR2KxHxV",
      "authorship_tag": "ABX9TyP1WlYZOxOtbpyATNA7tx6/",
      "include_colab_link": true
    },
    "kernelspec": {
      "name": "python3",
      "display_name": "Python 3"
    },
    "language_info": {
      "name": "python"
    }
  },
  "cells": [
    {
      "cell_type": "markdown",
      "metadata": {
        "id": "view-in-github",
        "colab_type": "text"
      },
      "source": [
        "<a href=\"https://colab.research.google.com/github/adrianweerasinghe97/SIT719/blob/master/Task_5_1.ipynb\" target=\"_parent\"><img src=\"https://colab.research.google.com/assets/colab-badge.svg\" alt=\"Open In Colab\"/></a>"
      ]
    },
    {
      "cell_type": "markdown",
      "source": [
        "**DataSet 1**"
      ],
      "metadata": {
        "id": "3OXO2CsbCkBK"
      }
    },
    {
      "cell_type": "code",
      "execution_count": 47,
      "metadata": {
        "id": "AGms0cRosnkD"
      },
      "outputs": [],
      "source": [
        "import os\n",
        "from collections import defaultdict\n",
        "import pandas as pd\n",
        "import numpy as np\n",
        "import matplotlib.pyplot as plt\n",
        "from sklearn.metrics import plot_confusion_matrix\n",
        "\n",
        "\n",
        "import warnings\n",
        "warnings.filterwarnings('ignore')\n",
        "\n",
        "\n"
      ]
    },
    {
      "cell_type": "code",
      "source": [
        "!pip install wget\n",
        "import wget\n",
        "    \n",
        "link_to_data = 'https://raw.githubusercontent.com/SIT719/2020-S2/master/data/Week_5_NSL-KDD-Dataset/training_attack_types.txt?raw=true'\n",
        "DataSet = wget.download(link_to_data) \n"
      ],
      "metadata": {
        "colab": {
          "base_uri": "https://localhost:8080/"
        },
        "id": "ijzw-vJf-_-V",
        "outputId": "8e3d1188-3941-419b-966d-5a9a56b81e81"
      },
      "execution_count": 48,
      "outputs": [
        {
          "output_type": "stream",
          "name": "stdout",
          "text": [
            "Looking in indexes: https://pypi.org/simple, https://us-python.pkg.dev/colab-wheels/public/simple/\n",
            "Collecting wget\n",
            "  Downloading wget-3.2.zip (10 kB)\n",
            "Building wheels for collected packages: wget\n",
            "  Building wheel for wget (setup.py) ... \u001b[?25l\u001b[?25hdone\n",
            "  Created wheel for wget: filename=wget-3.2-py3-none-any.whl size=9675 sha256=367915eb8776fb26821759dc8e727523e27282e7638c162884a5059162d77692\n",
            "  Stored in directory: /root/.cache/pip/wheels/a1/b6/7c/0e63e34eb06634181c63adacca38b79ff8f35c37e3c13e3c02\n",
            "Successfully built wget\n",
            "Installing collected packages: wget\n",
            "Successfully installed wget-3.2\n"
          ]
        }
      ]
    },
    {
      "cell_type": "code",
      "source": [
        "DataSet"
      ],
      "metadata": {
        "colab": {
          "base_uri": "https://localhost:8080/",
          "height": 36
        },
        "id": "aRwu_dx5BUeo",
        "outputId": "6c291bad-7650-4366-ac06-7d65efb8cc4c"
      },
      "execution_count": 49,
      "outputs": [
        {
          "output_type": "execute_result",
          "data": {
            "text/plain": [
              "'training_attack_types.txt'"
            ],
            "application/vnd.google.colaboratory.intrinsic+json": {
              "type": "string"
            }
          },
          "metadata": {},
          "execution_count": 49
        }
      ]
    },
    {
      "cell_type": "code",
      "source": [
        "header_names = ['duration', 'protocol_type', 'service', 'flag', 'src_bytes', 'dst_bytes', 'land', 'wrong_fragment', 'urgent', 'hot', 'num_failed_logins', 'logged_in', 'num_compromised', 'root_shell', 'su_attempted', 'num_root', 'num_file_creations', 'num_shells', 'num_access_files', 'num_outbound_cmds', 'is_host_login', 'is_guest_login', 'count', 'srv_count', 'serror_rate', 'srv_serror_rate', 'rerror_rate', 'srv_rerror_rate', 'same_srv_rate', 'diff_srv_rate', 'srv_diff_host_rate', 'dst_host_count', 'dst_host_srv_count', 'dst_host_same_srv_rate', 'dst_host_diff_srv_rate', 'dst_host_same_src_port_rate', 'dst_host_srv_diff_host_rate', 'dst_host_serror_rate', 'dst_host_srv_serror_rate', 'dst_host_rerror_rate', 'dst_host_srv_rerror_rate', 'attack_type', 'success_pred']\n",
        "\n",
        "\n",
        "\n",
        "col_names = np.array(header_names)\n",
        "\n",
        "nominal_idx = [1, 2, 3]\n",
        "binary_idx = [6, 11, 13, 14, 20, 21]\n",
        "numeric_idx = list(set(range(41)).difference(nominal_idx).difference(binary_idx))\n",
        "\n",
        "nominal_cols = col_names[nominal_idx].tolist()\n",
        "binary_cols = col_names[binary_idx].tolist()\n",
        "numeric_cols = col_names[numeric_idx].tolist()"
      ],
      "metadata": {
        "id": "8TMXo128Bh3k"
      },
      "execution_count": 50,
      "outputs": []
    },
    {
      "cell_type": "code",
      "source": [
        "\n",
        "\n",
        "category = defaultdict(list)\n",
        "category['benign'].append('normal')\n",
        "\n",
        "with open(DataSet, 'r') as f:\n",
        "    for line in f.readlines():\n",
        "        attack, cat = line.strip().split(' ')\n",
        "        category[cat].append(attack)\n",
        "\n",
        "attack_mapping = dict((v,k) for k in category for v in category[k])"
      ],
      "metadata": {
        "id": "F9uGnJLzBjKk"
      },
      "execution_count": 51,
      "outputs": []
    },
    {
      "cell_type": "code",
      "source": [
        "attack_mapping"
      ],
      "metadata": {
        "colab": {
          "base_uri": "https://localhost:8080/"
        },
        "id": "c8y3KhmyBlfH",
        "outputId": "eed3a6c7-478b-45b2-d8e0-9713b901ed8a"
      },
      "execution_count": 52,
      "outputs": [
        {
          "output_type": "execute_result",
          "data": {
            "text/plain": [
              "{'normal': 'benign',\n",
              " 'apache2': 'dos',\n",
              " 'back': 'dos',\n",
              " 'mailbomb': 'dos',\n",
              " 'processtable': 'dos',\n",
              " 'snmpgetattack': 'dos',\n",
              " 'teardrop': 'dos',\n",
              " 'smurf': 'dos',\n",
              " 'land': 'dos',\n",
              " 'neptune': 'dos',\n",
              " 'pod': 'dos',\n",
              " 'udpstorm': 'dos',\n",
              " 'ps': 'u2r',\n",
              " 'buffer_overflow': 'u2r',\n",
              " 'perl': 'u2r',\n",
              " 'rootkit': 'u2r',\n",
              " 'loadmodule': 'u2r',\n",
              " 'xterm': 'u2r',\n",
              " 'sqlattack': 'u2r',\n",
              " 'httptunnel': 'u2r',\n",
              " 'ftp_write': 'r2l',\n",
              " 'guess_passwd': 'r2l',\n",
              " 'snmpguess': 'r2l',\n",
              " 'imap': 'r2l',\n",
              " 'spy': 'r2l',\n",
              " 'warezclient': 'r2l',\n",
              " 'warezmaster': 'r2l',\n",
              " 'multihop': 'r2l',\n",
              " 'phf': 'r2l',\n",
              " 'named': 'r2l',\n",
              " 'sendmail': 'r2l',\n",
              " 'xlock': 'r2l',\n",
              " 'xsnoop': 'r2l',\n",
              " 'worm': 'probe',\n",
              " 'nmap': 'probe',\n",
              " 'ipsweep': 'probe',\n",
              " 'portsweep': 'probe',\n",
              " 'satan': 'probe',\n",
              " 'mscan': 'probe',\n",
              " 'saint': 'probe'}"
            ]
          },
          "metadata": {},
          "execution_count": 52
        }
      ]
    },
    {
      "cell_type": "code",
      "source": [
        "\n",
        "\n",
        "train_file='https://raw.githubusercontent.com/SIT719/2020-S2/master/data/Week_5_NSL-KDD-Dataset/KDDTrain%2B.txt'\n",
        "\n",
        "\n",
        "\n",
        "train_df = pd.read_csv(train_file, names=header_names)\n",
        "\n",
        "train_df['attack_category'] = train_df['attack_type'] \\\n",
        "                                .map(lambda x: attack_mapping[x])\n",
        "\n",
        "train_df.drop(['success_pred'], axis=1, inplace=True)\n",
        "\n",
        "\n",
        "\n",
        "\n"
      ],
      "metadata": {
        "id": "ksG09dApBoGA"
      },
      "execution_count": 53,
      "outputs": []
    },
    {
      "cell_type": "code",
      "source": [
        "\n",
        "test_file='https://raw.githubusercontent.com/SIT719/2020-S2/master/data/Week_5_NSL-KDD-Dataset/KDDTest%2B.txt'\n",
        "\n",
        "test_df = pd.read_csv(test_file, names=header_names)\n",
        "test_df['attack_category'] = test_df['attack_type'] \\\n",
        "                                .map(lambda x: attack_mapping[x])\n",
        "test_df.drop(['success_pred'], axis=1, inplace=True)"
      ],
      "metadata": {
        "id": "18wUaJLWBsOU"
      },
      "execution_count": 54,
      "outputs": []
    },
    {
      "cell_type": "code",
      "source": [
        "train_attack_types = train_df['attack_type'].value_counts()\n",
        "train_attack_cats = train_df['attack_category'].value_counts()\n",
        "\n",
        "test_attack_types = test_df['attack_type'].value_counts()\n",
        "test_attack_cats = test_df['attack_category'].value_counts()\n",
        "\n",
        "train_attack_types.plot(kind='barh', figsize=(20,10), fontsize=20)\n",
        "\n",
        "train_attack_cats.plot(kind='barh', figsize=(20,10), fontsize=30)\n",
        "\n",
        "train_df[binary_cols].describe().transpose()\n",
        "train_df.groupby(['su_attempted']).size()\n",
        "train_df['su_attempted'].replace(2, 0, inplace=True)\n",
        "test_df['su_attempted'].replace(2, 0, inplace=True)\n",
        "train_df.groupby(['su_attempted']).size()\n",
        "train_df.groupby(['num_outbound_cmds']).size()\n",
        "\n",
        "\n",
        "\n",
        "train_df.drop('num_outbound_cmds', axis = 1, inplace=True)\n",
        "test_df.drop('num_outbound_cmds', axis = 1, inplace=True)\n",
        "numeric_cols.remove('num_outbound_cmds')\n",
        "\n",
        "\n",
        "\n",
        "\n",
        "train_Y = train_df['attack_category']\n",
        "train_x_raw = train_df.drop(['attack_category','attack_type'], axis=1)\n",
        "test_Y = test_df['attack_category']\n",
        "test_x_raw = test_df.drop(['attack_category','attack_type'], axis=1)\n",
        "\n",
        "\n",
        "combined_df_raw = pd.concat([train_x_raw, test_x_raw])\n",
        "combined_df = pd.get_dummies(combined_df_raw, columns=nominal_cols, drop_first=True)\n",
        "\n",
        "train_x = combined_df[:len(train_x_raw)]\n",
        "test_x = combined_df[len(train_x_raw):]\n",
        "\n",
        "\n",
        "dummy_variables = list(set(train_x)-set(combined_df_raw))\n",
        "\n",
        "\n",
        "train_x.describe()\n",
        "train_x['duration'].describe()\n",
        "\n",
        "from sklearn.preprocessing import StandardScaler\n",
        "\n",
        "durations = train_x['duration'].values.reshape(-1, 1)\n",
        "standard_scaler = StandardScaler().fit(durations)\n",
        "scaled_durations = standard_scaler.transform(durations)\n",
        "pd.Series(scaled_durations.flatten()).describe()\n",
        "\n",
        "\n",
        "from sklearn.preprocessing import MinMaxScaler\n",
        "\n",
        "min_max_scaler = MinMaxScaler().fit(durations)\n",
        "min_max_scaled_durations = min_max_scaler.transform(durations)\n",
        "pd.Series(min_max_scaled_durations.flatten()).describe()\n",
        "\n",
        "\n",
        "from sklearn.preprocessing import RobustScaler\n",
        "\n",
        "min_max_scaler = RobustScaler().fit(durations)\n",
        "robust_scaled_durations = min_max_scaler.transform(durations)\n",
        "pd.Series(robust_scaled_durations.flatten()).describe()\n",
        "\n",
        "\n",
        "from sklearn.preprocessing import MaxAbsScaler\n",
        "\n",
        "max_Abs_scaler = MaxAbsScaler().fit(durations)\n",
        "robust_scaled_durations = max_Abs_scaler.transform(durations)\n",
        "pd.Series(robust_scaled_durations.flatten()).describe()\n",
        "\n",
        "\n",
        "\n",
        "standard_scaler = StandardScaler().fit(train_x[numeric_cols])\n",
        "\n",
        "train_x[numeric_cols] = \\\n",
        "    standard_scaler.transform(train_x[numeric_cols])\n",
        "\n",
        "test_x[numeric_cols] = \\\n",
        "    standard_scaler.transform(test_x[numeric_cols])\n",
        "    \n",
        "train_x.describe()\n",
        "\n",
        "\n",
        "\n",
        "train_Y_bin = train_Y.apply(lambda x: 0 if x is 'benign' else 1)\n",
        "test_Y_bin = test_Y.apply(lambda x: 0 if x is 'benign' else 1)\n"
      ],
      "metadata": {
        "colab": {
          "base_uri": "https://localhost:8080/",
          "height": 611
        },
        "id": "LqYjVx_yB0d3",
        "outputId": "e6a7b585-a027-451f-e45c-fcba168765ed"
      },
      "execution_count": 55,
      "outputs": [
        {
          "output_type": "display_data",
          "data": {
            "text/plain": [
              "<Figure size 1440x720 with 1 Axes>"
            ],
            "image/png": "[encoded data removed]"
          },
          "metadata": {
            "needs_background": "light"
          }
        }
      ]
    },
    {
      "cell_type": "markdown",
      "source": [
        "**1. Decision Tree**"
      ],
      "metadata": {
        "id": "_r3qgkgBCuy0"
      }
    },
    {
      "cell_type": "code",
      "source": [
        "from sklearn.tree import DecisionTreeClassifier\n",
        "from sklearn.metrics import confusion_matrix, zero_one_loss, classification_report\n",
        "from sklearn.metrics import accuracy_score\n",
        "\n",
        "classifier = DecisionTreeClassifier(random_state=17)\n",
        "classifier.fit(train_x, train_Y)\n",
        "\n",
        "pred_y = classifier.predict(test_x)\n",
        "\n",
        "results = confusion_matrix(test_Y, pred_y)\n",
        "error = zero_one_loss(test_Y, pred_y)\n",
        "\n",
        "print(results)\n",
        "print(error)\n",
        "\n",
        "\n",
        "\n",
        "print(accuracy_score(pred_y, test_Y))\n",
        "print(confusion_matrix(test_Y, pred_y))\n",
        "\n",
        "plot_confusion_matrix(classifier, test_x, test_Y)  \n",
        "plt.show()"
      ],
      "metadata": {
        "colab": {
          "base_uri": "https://localhost:8080/",
          "height": 498
        },
        "id": "i6Wzy8IBB3A0",
        "outputId": "f194292c-17bb-4a84-e5e0-7a70d6fc704d"
      },
      "execution_count": null,
      "outputs": [
        {
          "output_type": "stream",
          "name": "stdout",
          "text": [
            "[[9365   56  289    1    0]\n",
            " [1541 5998   97    0    0]\n",
            " [ 677  220 1526    0    0]\n",
            " [2278    1   14  277    4]\n",
            " [ 175    0    5    5   15]]\n",
            "0.2378903477643719\n",
            "0.7621096522356281\n",
            "[[9365   56  289    1    0]\n",
            " [1541 5998   97    0    0]\n",
            " [ 677  220 1526    0    0]\n",
            " [2278    1   14  277    4]\n",
            " [ 175    0    5    5   15]]\n"
          ]
        },
        {
          "output_type": "display_data",
          "data": {
            "text/plain": [
              "<Figure size 432x288 with 2 Axes>"
            ],
            "image/png": "[encoded data removed]"
          },
          "metadata": {
            "needs_background": "light"
          }
        }
      ]
    },
    {
      "cell_type": "markdown",
      "source": [
        "**2. Logistic Regression**"
      ],
      "metadata": {
        "id": "NpGIRWkkCsd1"
      }
    },
    {
      "cell_type": "code",
      "source": [
        "from sklearn.linear_model import LogisticRegression\n",
        "from sklearn.metrics import confusion_matrix, zero_one_loss\n",
        "from sklearn.metrics import accuracy_score\n",
        "\n",
        "\n",
        "classifier = LogisticRegression(random_state=17)\n",
        "classifier.fit(train_x, train_Y)\n",
        "\n",
        "pred_y = classifier.predict(test_x)\n",
        "\n",
        "results = confusion_matrix(test_Y, pred_y)\n",
        "error = zero_one_loss(test_Y, pred_y)\n",
        "\n",
        "print(results)\n",
        "print(error)\n",
        "\n",
        "\n",
        "print(accuracy_score(pred_y, test_Y))\n",
        "print(confusion_matrix(test_Y, pred_y))\n",
        "\n",
        "plot_confusion_matrix(classifier, test_x, test_Y)  \n",
        "plt.show()"
      ],
      "metadata": {
        "colab": {
          "base_uri": "https://localhost:8080/",
          "height": 498
        },
        "id": "fHQj4a9bCCSY",
        "outputId": "86f42685-f5d7-4660-b173-9aa4af52184c"
      },
      "execution_count": null,
      "outputs": [
        {
          "output_type": "stream",
          "name": "stdout",
          "text": [
            "[[8993   90  624    2    2]\n",
            " [1560 6052   24    0    0]\n",
            " [ 496   99 1825    3    0]\n",
            " [2471    2    2   99    0]\n",
            " [ 184    3    0    5    8]]\n",
            "0.2469393186657204\n",
            "0.7530606813342796\n",
            "[[8993   90  624    2    2]\n",
            " [1560 6052   24    0    0]\n",
            " [ 496   99 1825    3    0]\n",
            " [2471    2    2   99    0]\n",
            " [ 184    3    0    5    8]]\n"
          ]
        },
        {
          "output_type": "display_data",
          "data": {
            "text/plain": [
              "<Figure size 432x288 with 2 Axes>"
            ],
            "image/png": "[encoded data removed]"
          },
          "metadata": {
            "needs_background": "light"
          }
        }
      ]
    },
    {
      "cell_type": "markdown",
      "source": [
        "**3. Naive Bayes**"
      ],
      "metadata": {
        "id": "3Wu48Qq1C5Mk"
      }
    },
    {
      "cell_type": "code",
      "source": [
        "from sklearn.naive_bayes import GaussianNB\n",
        "from sklearn.metrics import confusion_matrix, zero_one_loss\n",
        "from sklearn.metrics import accuracy_score\n",
        "from sklearn.model_selection import GridSearchCV\n",
        "\n",
        "param_grid_nb = {\n",
        "    'var_smoothing': np.logspace(0,-9, num=100)\n",
        "}\n",
        "\n",
        "classifier = GridSearchCV(estimator=GaussianNB(), param_grid=param_grid_nb, verbose=1, cv=10, n_jobs=-1)\n",
        "classifier.fit(train_x, train_Y)\n",
        "\n",
        "pred_y = classifier.predict(test_x)\n",
        "\n",
        "results = confusion_matrix(test_Y, pred_y)\n",
        "error = zero_one_loss(test_Y, pred_y)\n",
        "\n",
        "print(results)\n",
        "print(error)\n",
        "\n",
        "print(accuracy_score(pred_y, test_Y))\n",
        "print(confusion_matrix(test_Y, pred_y))\n",
        "\n",
        "\n",
        "plot_confusion_matrix(classifier, test_x, test_Y)  \n",
        "plt.show()"
      ],
      "metadata": {
        "colab": {
          "base_uri": "https://localhost:8080/",
          "height": 516
        },
        "id": "jut_6c5CDCJE",
        "outputId": "974de965-60bb-4b4e-b2b9-4e8b30e7d855"
      },
      "execution_count": 58,
      "outputs": [
        {
          "output_type": "stream",
          "name": "stdout",
          "text": [
            "Fitting 10 folds for each of 100 candidates, totalling 1000 fits\n",
            "[[9051  439  207   13    1]\n",
            " [2208 5340   88    0    0]\n",
            " [ 207  305 1911    0    0]\n",
            " [2041   12   48  469    4]\n",
            " [  60   98   15    3   24]]\n",
            "0.2550124201561391\n",
            "0.7449875798438609\n",
            "[[9051  439  207   13    1]\n",
            " [2208 5340   88    0    0]\n",
            " [ 207  305 1911    0    0]\n",
            " [2041   12   48  469    4]\n",
            " [  60   98   15    3   24]]\n"
          ]
        },
        {
          "output_type": "display_data",
          "data": {
            "text/plain": [
              "<Figure size 432x288 with 2 Axes>"
            ],
            "image/png": "[encoded data removed]"
          },
          "metadata": {
            "needs_background": "light"
          }
        }
      ]
    },
    {
      "cell_type": "markdown",
      "source": [
        "4. SVM-SVC"
      ],
      "metadata": {
        "id": "f2T2cg1lEpZB"
      }
    },
    {
      "cell_type": "code",
      "source": [
        "from sklearn.svm import SVC \n",
        "from sklearn.metrics import confusion_matrix, zero_one_loss\n",
        "from sklearn.metrics import accuracy_score\n",
        "\n",
        "classifier = SVC(kernel='linear') \n",
        "classifier.fit(train_x, train_Y)\n",
        "\n",
        "pred_y = classifier.predict(test_x)\n",
        "\n",
        "print(results)\n",
        "print(error)\n",
        "\n",
        "\n",
        "\n",
        "print(accuracy_score(pred_y, test_Y))\n",
        "print(confusion_matrix(test_Y, pred_y))\n",
        "\n",
        "\n",
        "plot_confusion_matrix(classifier, test_x, test_Y)  \n",
        "plt.show()"
      ],
      "metadata": {
        "colab": {
          "base_uri": "https://localhost:8080/",
          "height": 498
        },
        "id": "pcaidMhOEwYY",
        "outputId": "e5f5d079-1b54-4a41-951b-699c51bdb756"
      },
      "execution_count": null,
      "outputs": [
        {
          "output_type": "stream",
          "name": "stdout",
          "text": [
            "[[6756   62   10 2599  284]\n",
            " [3400 3162    4 1041   29]\n",
            " [1382  345  237  323  136]\n",
            " [1113    3    6  933  519]\n",
            " [ 115    0    0   22   63]]\n",
            "0.5053672817601136\n",
            "0.7584279630943932\n",
            "[[9040  225  437    4    5]\n",
            " [1445 6179   12    0    0]\n",
            " [ 720  115 1588    0    0]\n",
            " [2291    1    2  275    5]\n",
            " [ 180    1    0    3   16]]\n"
          ]
        },
        {
          "output_type": "display_data",
          "data": {
            "text/plain": [
              "<Figure size 432x288 with 2 Axes>"
            ],
            "image/png": "[encoded data removed]"
          },
          "metadata": {
            "needs_background": "light"
          }
        }
      ]
    },
    {
      "cell_type": "markdown",
      "source": [
        "**5.  Multi-layer Perceptron**"
      ],
      "metadata": {
        "id": "KK__03KehF1H"
      }
    },
    {
      "cell_type": "code",
      "source": [
        "from sklearn.neural_network import MLPClassifier\n",
        "from sklearn.metrics import confusion_matrix, zero_one_loss\n",
        "from sklearn.metrics import accuracy_score\n",
        "\n",
        "\n",
        "\n",
        "classifier = MLPClassifier(random_state=17)\n",
        "classifier.fit(train_x, train_Y)\n",
        "\n",
        "pred_y = classifier.predict(test_x)\n",
        "\n",
        "\n",
        "print(results)\n",
        "print(error)\n",
        "\n",
        "print(accuracy_score(pred_y, test_Y))\n",
        "print(confusion_matrix(test_Y, pred_y))\n",
        "\n",
        "\n",
        "plot_confusion_matrix(classifier, test_x, test_Y)  \n",
        "plt.show()"
      ],
      "metadata": {
        "colab": {
          "base_uri": "https://localhost:8080/",
          "height": 498
        },
        "id": "u5XmnPkbhV6u",
        "outputId": "043ce732-0fd9-4066-99bb-aedcded4a17f"
      },
      "execution_count": null,
      "outputs": [
        {
          "output_type": "stream",
          "name": "stdout",
          "text": [
            "[[6756   62   10 2599  284]\n",
            " [3400 3162    4 1041   29]\n",
            " [1382  345  237  323  136]\n",
            " [1113    3    6  933  519]\n",
            " [ 115    0    0   22   63]]\n",
            "0.5053672817601136\n",
            "0.767388218594748\n",
            "[[9192   52  459    5    3]\n",
            " [1399 6149   87    1    0]\n",
            " [ 402  447 1565    9    0]\n",
            " [2150    0   18  378   28]\n",
            " [ 101    0   72   11   16]]\n"
          ]
        },
        {
          "output_type": "display_data",
          "data": {
            "text/plain": [
              "<Figure size 432x288 with 2 Axes>"
            ],
            "image/png": "[encoded data removed]"
          },
          "metadata": {
            "needs_background": "light"
          }
        }
      ]
    },
    {
      "cell_type": "markdown",
      "source": [
        "**DataSet 2**"
      ],
      "metadata": {
        "id": "2GO36fStCpbU"
      }
    },
    {
      "cell_type": "code",
      "source": [
        "import timeit\n",
        "import pandas as pd\n",
        "import numpy as np\n",
        "import seaborn as sns\n",
        "import matplotlib.pyplot as plt\n",
        "from sklearn.model_selection import train_test_split\n",
        "from sklearn.ensemble import RandomForestClassifier\n",
        "from sklearn import metrics\n",
        "from sklearn.metrics import classification_report, confusion_matrix\n",
        "from sklearn.metrics import roc_curve\n",
        "from sklearn.metrics import roc_auc_score\n",
        "import warnings\n",
        "%matplotlib inline\n",
        "warnings.filterwarnings('ignore')\n"
      ],
      "metadata": {
        "id": "MuZup6RiCsEC"
      },
      "execution_count": 20,
      "outputs": []
    },
    {
      "cell_type": "code",
      "source": [
        "from google.colab import files\n",
        "uploaded = files.upload()\n",
        "import pandas as pd\n",
        "\n",
        "import io\n",
        "\n",
        "dataset = pd.read_csv(io.BytesIO(uploaded['Processed_Combined_IoT_dataset.csv']))"
      ],
      "metadata": {
        "colab": {
          "base_uri": "https://localhost:8080/",
          "height": 74
        },
        "id": "65Zl95V8Ctac",
        "outputId": "9a75fb68-5822-4f34-a663-c3d914c34479"
      },
      "execution_count": 21,
      "outputs": [
        {
          "output_type": "display_data",
          "data": {
            "text/plain": [
              "<IPython.core.display.HTML object>"
            ],
            "text/html": [
              "\n",
              "     <input type=\"file\" id=\"files-a98f1f6e-8e4b-427c-8f4a-2cef70511525\" name=\"files[]\" multiple disabled\n",
              "        style=\"border:none\" />\n",
              "     <output id=\"result-a98f1f6e-8e4b-427c-8f4a-2cef70511525\">\n",
              "      Upload widget is only available when the cell has been executed in the\n",
              "      current browser session. Please rerun this cell to enable.\n",
              "      </output>\n",
              "      <script>// Copyright 2017 Google LLC\n",
              "//\n",
              "// Licensed under the Apache License, Version 2.0 (the \"License\");\n",
              "// you may not use this file except in compliance with the License.\n",
              "// You may obtain a copy of the License at\n",
              "//\n",
              "//      http://www.apache.org/licenses/LICENSE-2.0\n",
              "//\n",
              "// Unless required by applicable law or agreed to in writing, software\n",
              "// distributed under the License is distributed on an \"AS IS\" BASIS,\n",
              "// WITHOUT WARRANTIES OR CONDITIONS OF ANY KIND, either express or implied.\n",
              "// See the License for the specific language governing permissions and\n",
              "// limitations under the License.\n",
              "\n",
              "/**\n",
              " * @fileoverview Helpers for google.colab Python module.\n",
              " */\n",
              "(function(scope) {\n",
              "function span(text, styleAttributes = {}) {\n",
              "  const element = document.createElement('span');\n",
              "  element.textContent = text;\n",
              "  for (const key of Object.keys(styleAttributes)) {\n",
              "    element.style[key] = styleAttributes[key];\n",
              "  }\n",
              "  return element;\n",
              "}\n",
              "\n",
              "// Max number of bytes which will be uploaded at a time.\n",
              "const MAX_PAYLOAD_SIZE = 100 * 1024;\n",
              "\n",
              "function _uploadFiles(inputId, outputId) {\n",
              "  const steps = uploadFilesStep(inputId, outputId);\n",
              "  const outputElement = document.getElementById(outputId);\n",
              "  // Cache steps on the outputElement to make it available for the next call\n",
              "  // to uploadFilesContinue from Python.\n",
              "  outputElement.steps = steps;\n",
              "\n",
              "  return _uploadFilesContinue(outputId);\n",
              "}\n",
              "\n",
              "// This is roughly an async generator (not supported in the browser yet),\n",
              "// where there are multiple asynchronous steps and the Python side is going\n",
              "// to poll for completion of each step.\n",
              "// This uses a Promise to block the python side on completion of each step,\n",
              "// then passes the result of the previous step as the input to the next step.\n",
              "function _uploadFilesContinue(outputId) {\n",
              "  const outputElement = document.getElementById(outputId);\n",
              "  const steps = outputElement.steps;\n",
              "\n",
              "  const next = steps.next(outputElement.lastPromiseValue);\n",
              "  return Promise.resolve(next.value.promise).then((value) => {\n",
              "    // Cache the last promise value to make it available to the next\n",
              "    // step of the generator.\n",
              "    outputElement.lastPromiseValue = value;\n",
              "    return next.value.response;\n",
              "  });\n",
              "}\n",
              "\n",
              "/**\n",
              " * Generator function which is called between each async step of the upload\n",
              " * process.\n",
              " * @param {string} inputId Element ID of the input file picker element.\n",
              " * @param {string} outputId Element ID of the output display.\n",
              " * @return {!Iterable<!Object>} Iterable of next steps.\n",
              " */\n",
              "function* uploadFilesStep(inputId, outputId) {\n",
              "  const inputElement = document.getElementById(inputId);\n",
              "  inputElement.disabled = false;\n",
              "\n",
              "  const outputElement = document.getElementById(outputId);\n",
              "  outputElement.innerHTML = '';\n",
              "\n",
              "  const pickedPromise = new Promise((resolve) => {\n",
              "    inputElement.addEventListener('change', (e) => {\n",
              "      resolve(e.target.files);\n",
              "    });\n",
              "  });\n",
              "\n",
              "  const cancel = document.createElement('button');\n",
              "  inputElement.parentElement.appendChild(cancel);\n",
              "  cancel.textContent = 'Cancel upload';\n",
              "  const cancelPromise = new Promise((resolve) => {\n",
              "    cancel.onclick = () => {\n",
              "      resolve(null);\n",
              "    };\n",
              "  });\n",
              "\n",
              "  // Wait for the user to pick the files.\n",
              "  const files = yield {\n",
              "    promise: Promise.race([pickedPromise, cancelPromise]),\n",
              "    response: {\n",
              "      action: 'starting',\n",
              "    }\n",
              "  };\n",
              "\n",
              "  cancel.remove();\n",
              "\n",
              "  // Disable the input element since further picks are not allowed.\n",
              "  inputElement.disabled = true;\n",
              "\n",
              "  if (!files) {\n",
              "    return {\n",
              "      response: {\n",
              "        action: 'complete',\n",
              "      }\n",
              "    };\n",
              "  }\n",
              "\n",
              "  for (const file of files) {\n",
              "    const li = document.createElement('li');\n",
              "    li.append(span(file.name, {fontWeight: 'bold'}));\n",
              "    li.append(span(\n",
              "        `(${file.type || 'n/a'}) - ${file.size} bytes, ` +\n",
              "        `last modified: ${\n",
              "            file.lastModifiedDate ? file.lastModifiedDate.toLocaleDateString() :\n",
              "                                    'n/a'} - `));\n",
              "    const percent = span('0% done');\n",
              "    li.appendChild(percent);\n",
              "\n",
              "    outputElement.appendChild(li);\n",
              "\n",
              "    const fileDataPromise = new Promise((resolve) => {\n",
              "      const reader = new FileReader();\n",
              "      reader.onload = (e) => {\n",
              "        resolve(e.target.result);\n",
              "      };\n",
              "      reader.readAsArrayBuffer(file);\n",
              "    });\n",
              "    // Wait for the data to be ready.\n",
              "    let fileData = yield {\n",
              "      promise: fileDataPromise,\n",
              "      response: {\n",
              "        action: 'continue',\n",
              "      }\n",
              "    };\n",
              "\n",
              "    // Use a chunked sending to avoid message size limits. See b/62115660.\n",
              "    let position = 0;\n",
              "    do {\n",
              "      const length = Math.min(fileData.byteLength - position, MAX_PAYLOAD_SIZE);\n",
              "      const chunk = new Uint8Array(fileData, position, length);\n",
              "      position += length;\n",
              "\n",
              "      const base64 = btoa(String.fromCharCode.apply(null, chunk));\n",
              "      yield {\n",
              "        response: {\n",
              "          action: 'append',\n",
              "          file: file.name,\n",
              "          data: base64,\n",
              "        },\n",
              "      };\n",
              "\n",
              "      let percentDone = fileData.byteLength === 0 ?\n",
              "          100 :\n",
              "          Math.round((position / fileData.byteLength) * 100);\n",
              "      percent.textContent = `${percentDone}% done`;\n",
              "\n",
              "    } while (position < fileData.byteLength);\n",
              "  }\n",
              "\n",
              "  // All done.\n",
              "  yield {\n",
              "    response: {\n",
              "      action: 'complete',\n",
              "    }\n",
              "  };\n",
              "}\n",
              "\n",
              "scope.google = scope.google || {};\n",
              "scope.google.colab = scope.google.colab || {};\n",
              "scope.google.colab._files = {\n",
              "  _uploadFiles,\n",
              "  _uploadFilesContinue,\n",
              "};\n",
              "})(self);\n",
              "</script> "
            ]
          },
          "metadata": {}
        },
        {
          "output_type": "stream",
          "name": "stdout",
          "text": [
            "Saving Processed_Combined_IoT_dataset.csv to Processed_Combined_IoT_dataset (1).csv\n"
          ]
        }
      ]
    },
    {
      "cell_type": "code",
      "source": [
        "classification_report"
      ],
      "metadata": {
        "id": "0-V4nFAMCwKU",
        "colab": {
          "base_uri": "https://localhost:8080/"
        },
        "outputId": "bf5aa17f-30c8-41ea-d7e7-70c0be9c0b6d"
      },
      "execution_count": 22,
      "outputs": [
        {
          "output_type": "execute_result",
          "data": {
            "text/plain": [
              "<function sklearn.metrics._classification.classification_report(y_true, y_pred, *, labels=None, target_names=None, sample_weight=None, digits=2, output_dict=False, zero_division='warn')>"
            ]
          },
          "metadata": {},
          "execution_count": 22
        }
      ]
    },
    {
      "cell_type": "code",
      "source": [
        "dataset.head()"
      ],
      "metadata": {
        "colab": {
          "base_uri": "https://localhost:8080/",
          "height": 270
        },
        "id": "3UnXAQ99gE-V",
        "outputId": "67dcb40c-3830-4719-de1d-fa8542e6df66"
      },
      "execution_count": 23,
      "outputs": [
        {
          "output_type": "execute_result",
          "data": {
            "text/plain": [
              "   FC1_Read_Input_Register  FC2_Read_Discrete_Value  \\\n",
              "0                 0.495216                 0.499092   \n",
              "1                 0.495216                 0.499092   \n",
              "2                 0.495216                 0.499092   \n",
              "3                 0.495216                 0.499092   \n",
              "4                 0.495216                 0.499092   \n",
              "\n",
              "   FC3_Read_Holding_Register  FC4_Read_Coil  current_temperature  door_state  \\\n",
              "0                   0.488897       0.499405             0.344399           0   \n",
              "1                   0.488897       0.499405             0.344399           0   \n",
              "2                   0.488897       0.499405             0.344399           0   \n",
              "3                   0.488897       0.499405             0.344399           0   \n",
              "4                   0.488897       0.499405             0.344399           0   \n",
              "\n",
              "   fridge_temperature  humidity  latitude  light_status  longitude  \\\n",
              "0            0.930769  0.462511  0.008217             0   0.008112   \n",
              "1            0.588462  0.462511  0.008217             0   0.008112   \n",
              "2            0.076923  0.462511  0.008217             0   0.008112   \n",
              "3            0.292308  0.462511  0.008217             0   0.008112   \n",
              "4            0.746154  0.462511  0.008217             0   0.008112   \n",
              "\n",
              "   motion_status  pressure  sphone_signal  temp_condition  temperature  \\\n",
              "0              0  0.533556       0.666667             0.2     0.517307   \n",
              "1              0  0.533556       0.666667             0.2     0.517307   \n",
              "2              0  0.533556       0.666667             0.8     0.517307   \n",
              "3              0  0.533556       0.666667             0.8     0.517307   \n",
              "4              0  0.533556       0.666667             0.2     0.517307   \n",
              "\n",
              "   thermostat_status  label  \n",
              "0                  1      0  \n",
              "1                  1      0  \n",
              "2                  1      0  \n",
              "3                  1      0  \n",
              "4                  1      0  "
            ],
            "text/html": [
              "\n",
              "  <div id=\"df-51b5c467-f0da-45f0-936e-c65ba9fff110\">\n",
              "    <div class=\"colab-df-container\">\n",
              "      <div>\n",
              "<style scoped>\n",
              "    .dataframe tbody tr th:only-of-type {\n",
              "        vertical-align: middle;\n",
              "    }\n",
              "\n",
              "    .dataframe tbody tr th {\n",
              "        vertical-align: top;\n",
              "    }\n",
              "\n",
              "    .dataframe thead th {\n",
              "        text-align: right;\n",
              "    }\n",
              "</style>\n",
              "<table border=\"1\" class=\"dataframe\">\n",
              "  <thead>\n",
              "    <tr style=\"text-align: right;\">\n",
              "      <th></th>\n",
              "      <th>FC1_Read_Input_Register</th>\n",
              "      <th>FC2_Read_Discrete_Value</th>\n",
              "      <th>FC3_Read_Holding_Register</th>\n",
              "      <th>FC4_Read_Coil</th>\n",
              "      <th>current_temperature</th>\n",
              "      <th>door_state</th>\n",
              "      <th>fridge_temperature</th>\n",
              "      <th>humidity</th>\n",
              "      <th>latitude</th>\n",
              "      <th>light_status</th>\n",
              "      <th>longitude</th>\n",
              "      <th>motion_status</th>\n",
              "      <th>pressure</th>\n",
              "      <th>sphone_signal</th>\n",
              "      <th>temp_condition</th>\n",
              "      <th>temperature</th>\n",
              "      <th>thermostat_status</th>\n",
              "      <th>label</th>\n",
              "    </tr>\n",
              "  </thead>\n",
              "  <tbody>\n",
              "    <tr>\n",
              "      <th>0</th>\n",
              "      <td>0.495216</td>\n",
              "      <td>0.499092</td>\n",
              "      <td>0.488897</td>\n",
              "      <td>0.499405</td>\n",
              "      <td>0.344399</td>\n",
              "      <td>0</td>\n",
              "      <td>0.930769</td>\n",
              "      <td>0.462511</td>\n",
              "      <td>0.008217</td>\n",
              "      <td>0</td>\n",
              "      <td>0.008112</td>\n",
              "      <td>0</td>\n",
              "      <td>0.533556</td>\n",
              "      <td>0.666667</td>\n",
              "      <td>0.2</td>\n",
              "      <td>0.517307</td>\n",
              "      <td>1</td>\n",
              "      <td>0</td>\n",
              "    </tr>\n",
              "    <tr>\n",
              "      <th>1</th>\n",
              "      <td>0.495216</td>\n",
              "      <td>0.499092</td>\n",
              "      <td>0.488897</td>\n",
              "      <td>0.499405</td>\n",
              "      <td>0.344399</td>\n",
              "      <td>0</td>\n",
              "      <td>0.588462</td>\n",
              "      <td>0.462511</td>\n",
              "      <td>0.008217</td>\n",
              "      <td>0</td>\n",
              "      <td>0.008112</td>\n",
              "      <td>0</td>\n",
              "      <td>0.533556</td>\n",
              "      <td>0.666667</td>\n",
              "      <td>0.2</td>\n",
              "      <td>0.517307</td>\n",
              "      <td>1</td>\n",
              "      <td>0</td>\n",
              "    </tr>\n",
              "    <tr>\n",
              "      <th>2</th>\n",
              "      <td>0.495216</td>\n",
              "      <td>0.499092</td>\n",
              "      <td>0.488897</td>\n",
              "      <td>0.499405</td>\n",
              "      <td>0.344399</td>\n",
              "      <td>0</td>\n",
              "      <td>0.076923</td>\n",
              "      <td>0.462511</td>\n",
              "      <td>0.008217</td>\n",
              "      <td>0</td>\n",
              "      <td>0.008112</td>\n",
              "      <td>0</td>\n",
              "      <td>0.533556</td>\n",
              "      <td>0.666667</td>\n",
              "      <td>0.8</td>\n",
              "      <td>0.517307</td>\n",
              "      <td>1</td>\n",
              "      <td>0</td>\n",
              "    </tr>\n",
              "    <tr>\n",
              "      <th>3</th>\n",
              "      <td>0.495216</td>\n",
              "      <td>0.499092</td>\n",
              "      <td>0.488897</td>\n",
              "      <td>0.499405</td>\n",
              "      <td>0.344399</td>\n",
              "      <td>0</td>\n",
              "      <td>0.292308</td>\n",
              "      <td>0.462511</td>\n",
              "      <td>0.008217</td>\n",
              "      <td>0</td>\n",
              "      <td>0.008112</td>\n",
              "      <td>0</td>\n",
              "      <td>0.533556</td>\n",
              "      <td>0.666667</td>\n",
              "      <td>0.8</td>\n",
              "      <td>0.517307</td>\n",
              "      <td>1</td>\n",
              "      <td>0</td>\n",
              "    </tr>\n",
              "    <tr>\n",
              "      <th>4</th>\n",
              "      <td>0.495216</td>\n",
              "      <td>0.499092</td>\n",
              "      <td>0.488897</td>\n",
              "      <td>0.499405</td>\n",
              "      <td>0.344399</td>\n",
              "      <td>0</td>\n",
              "      <td>0.746154</td>\n",
              "      <td>0.462511</td>\n",
              "      <td>0.008217</td>\n",
              "      <td>0</td>\n",
              "      <td>0.008112</td>\n",
              "      <td>0</td>\n",
              "      <td>0.533556</td>\n",
              "      <td>0.666667</td>\n",
              "      <td>0.2</td>\n",
              "      <td>0.517307</td>\n",
              "      <td>1</td>\n",
              "      <td>0</td>\n",
              "    </tr>\n",
              "  </tbody>\n",
              "</table>\n",
              "</div>\n",
              "      <button class=\"colab-df-convert\" onclick=\"convertToInteractive('df-51b5c467-f0da-45f0-936e-c65ba9fff110')\"\n",
              "              title=\"Convert this dataframe to an interactive table.\"\n",
              "              style=\"display:none;\">\n",
              "        \n",
              "  <svg xmlns=\"http://www.w3.org/2000/svg\" height=\"24px\"viewBox=\"0 0 24 24\"\n",
              "       width=\"24px\">\n",
              "    <path d=\"M0 0h24v24H0V0z\" fill=\"none\"/>\n",
              "    <path d=\"M18.56 5.44l.94 2.06.94-2.06 2.06-.94-2.06-.94-.94-2.06-.94 2.06-2.06.94zm-11 1L8.5 8.5l.94-2.06 2.06-.94-2.06-.94L8.5 2.5l-.94 2.06-2.06.94zm10 10l.94 2.06.94-2.06 2.06-.94-2.06-.94-.94-2.06-.94 2.06-2.06.94z\"/><path d=\"M17.41 7.96l-1.37-1.37c-.4-.4-.92-.59-1.43-.59-.52 0-1.04.2-1.43.59L10.3 9.45l-7.72 7.72c-.78.78-.78 2.05 0 2.83L4 21.41c.39.39.9.59 1.41.59.51 0 1.02-.2 1.41-.59l7.78-7.78 2.81-2.81c.8-.78.8-2.07 0-2.86zM5.41 20L4 18.59l7.72-7.72 1.47 1.35L5.41 20z\"/>\n",
              "  </svg>\n",
              "      </button>\n",
              "      \n",
              "  <style>\n",
              "    .colab-df-container {\n",
              "      display:flex;\n",
              "      flex-wrap:wrap;\n",
              "      gap: 12px;\n",
              "    }\n",
              "\n",
              "    .colab-df-convert {\n",
              "      background-color: #E8F0FE;\n",
              "      border: none;\n",
              "      border-radius: 50%;\n",
              "      cursor: pointer;\n",
              "      display: none;\n",
              "      fill: #1967D2;\n",
              "      height: 32px;\n",
              "      padding: 0 0 0 0;\n",
              "      width: 32px;\n",
              "    }\n",
              "\n",
              "    .colab-df-convert:hover {\n",
              "      background-color: #E2EBFA;\n",
              "      box-shadow: 0px 1px 2px rgba(60, 64, 67, 0.3), 0px 1px 3px 1px rgba(60, 64, 67, 0.15);\n",
              "      fill: #174EA6;\n",
              "    }\n",
              "\n",
              "    [theme=dark] .colab-df-convert {\n",
              "      background-color: #3B4455;\n",
              "      fill: #D2E3FC;\n",
              "    }\n",
              "\n",
              "    [theme=dark] .colab-df-convert:hover {\n",
              "      background-color: #434B5C;\n",
              "      box-shadow: 0px 1px 3px 1px rgba(0, 0, 0, 0.15);\n",
              "      filter: drop-shadow(0px 1px 2px rgba(0, 0, 0, 0.3));\n",
              "      fill: #FFFFFF;\n",
              "    }\n",
              "  </style>\n",
              "\n",
              "      <script>\n",
              "        const buttonEl =\n",
              "          document.querySelector('#df-51b5c467-f0da-45f0-936e-c65ba9fff110 button.colab-df-convert');\n",
              "        buttonEl.style.display =\n",
              "          google.colab.kernel.accessAllowed ? 'block' : 'none';\n",
              "\n",
              "        async function convertToInteractive(key) {\n",
              "          const element = document.querySelector('#df-51b5c467-f0da-45f0-936e-c65ba9fff110');\n",
              "          const dataTable =\n",
              "            await google.colab.kernel.invokeFunction('convertToInteractive',\n",
              "                                                     [key], {});\n",
              "          if (!dataTable) return;\n",
              "\n",
              "          const docLinkHtml = 'Like what you see? Visit the ' +\n",
              "            '<a target=\"_blank\" href=https://colab.research.google.com/notebooks/data_table.ipynb>data table notebook</a>'\n",
              "            + ' to learn more about interactive tables.';\n",
              "          element.innerHTML = '';\n",
              "          dataTable['output_type'] = 'display_data';\n",
              "          await google.colab.output.renderOutput(dataTable, element);\n",
              "          const docLink = document.createElement('div');\n",
              "          docLink.innerHTML = docLinkHtml;\n",
              "          element.appendChild(docLink);\n",
              "        }\n",
              "      </script>\n",
              "    </div>\n",
              "  </div>\n",
              "  "
            ]
          },
          "metadata": {},
          "execution_count": 23
        }
      ]
    },
    {
      "cell_type": "code",
      "source": [
        "print(dataset.shape)"
      ],
      "metadata": {
        "colab": {
          "base_uri": "https://localhost:8080/"
        },
        "id": "VMgikX_lf_V-",
        "outputId": "0af2e6fb-5888-4318-c561-ec4a37d4467e"
      },
      "execution_count": 24,
      "outputs": [
        {
          "output_type": "stream",
          "name": "stdout",
          "text": [
            "(401119, 18)\n"
          ]
        }
      ]
    },
    {
      "cell_type": "code",
      "source": [
        "print(list(dataset.columns))"
      ],
      "metadata": {
        "colab": {
          "base_uri": "https://localhost:8080/"
        },
        "id": "ofPkIvL2gHfM",
        "outputId": "ce8b5a44-3df3-4984-c141-c3a1a6133201"
      },
      "execution_count": 25,
      "outputs": [
        {
          "output_type": "stream",
          "name": "stdout",
          "text": [
            "['FC1_Read_Input_Register', 'FC2_Read_Discrete_Value', 'FC3_Read_Holding_Register', 'FC4_Read_Coil', 'current_temperature', 'door_state', 'fridge_temperature', 'humidity', 'latitude', 'light_status', 'longitude', 'motion_status', 'pressure', 'sphone_signal', 'temp_condition', 'temperature', 'thermostat_status', 'label']\n"
          ]
        }
      ]
    },
    {
      "cell_type": "code",
      "source": [
        "target_cols=list(dataset.columns[-1:])\n",
        "target_cols"
      ],
      "metadata": {
        "colab": {
          "base_uri": "https://localhost:8080/"
        },
        "id": "27ZRHpkjgLp9",
        "outputId": "e43682e3-299f-47d3-b0ba-06ebdb20425d"
      },
      "execution_count": 26,
      "outputs": [
        {
          "output_type": "execute_result",
          "data": {
            "text/plain": [
              "['label']"
            ]
          },
          "metadata": {},
          "execution_count": 26
        }
      ]
    },
    {
      "cell_type": "code",
      "source": [
        "feature_cols= list(dataset.columns[:-1])\n",
        "feature_cols"
      ],
      "metadata": {
        "colab": {
          "base_uri": "https://localhost:8080/"
        },
        "id": "_pRbB9OMgNxd",
        "outputId": "3d26bc36-bbf1-4485-99d1-bb7743480a5a"
      },
      "execution_count": 27,
      "outputs": [
        {
          "output_type": "execute_result",
          "data": {
            "text/plain": [
              "['FC1_Read_Input_Register',\n",
              " 'FC2_Read_Discrete_Value',\n",
              " 'FC3_Read_Holding_Register',\n",
              " 'FC4_Read_Coil',\n",
              " 'current_temperature',\n",
              " 'door_state',\n",
              " 'fridge_temperature',\n",
              " 'humidity',\n",
              " 'latitude',\n",
              " 'light_status',\n",
              " 'longitude',\n",
              " 'motion_status',\n",
              " 'pressure',\n",
              " 'sphone_signal',\n",
              " 'temp_condition',\n",
              " 'temperature',\n",
              " 'thermostat_status']"
            ]
          },
          "metadata": {},
          "execution_count": 27
        }
      ]
    },
    {
      "cell_type": "code",
      "source": [
        "#split dataset in features and target variable\n",
        "X = dataset.drop('label', axis=1) # Features\n",
        "y = dataset['label'] # Target variable"
      ],
      "metadata": {
        "id": "LiFNWrvvgTGm"
      },
      "execution_count": 28,
      "outputs": []
    },
    {
      "cell_type": "code",
      "source": [
        "X.head()"
      ],
      "metadata": {
        "colab": {
          "base_uri": "https://localhost:8080/",
          "height": 270
        },
        "id": "dYVckT05gXCF",
        "outputId": "b6f85c7d-90fd-4bc5-d402-555684892182"
      },
      "execution_count": 29,
      "outputs": [
        {
          "output_type": "execute_result",
          "data": {
            "text/plain": [
              "   FC1_Read_Input_Register  FC2_Read_Discrete_Value  \\\n",
              "0                 0.495216                 0.499092   \n",
              "1                 0.495216                 0.499092   \n",
              "2                 0.495216                 0.499092   \n",
              "3                 0.495216                 0.499092   \n",
              "4                 0.495216                 0.499092   \n",
              "\n",
              "   FC3_Read_Holding_Register  FC4_Read_Coil  current_temperature  door_state  \\\n",
              "0                   0.488897       0.499405             0.344399           0   \n",
              "1                   0.488897       0.499405             0.344399           0   \n",
              "2                   0.488897       0.499405             0.344399           0   \n",
              "3                   0.488897       0.499405             0.344399           0   \n",
              "4                   0.488897       0.499405             0.344399           0   \n",
              "\n",
              "   fridge_temperature  humidity  latitude  light_status  longitude  \\\n",
              "0            0.930769  0.462511  0.008217             0   0.008112   \n",
              "1            0.588462  0.462511  0.008217             0   0.008112   \n",
              "2            0.076923  0.462511  0.008217             0   0.008112   \n",
              "3            0.292308  0.462511  0.008217             0   0.008112   \n",
              "4            0.746154  0.462511  0.008217             0   0.008112   \n",
              "\n",
              "   motion_status  pressure  sphone_signal  temp_condition  temperature  \\\n",
              "0              0  0.533556       0.666667             0.2     0.517307   \n",
              "1              0  0.533556       0.666667             0.2     0.517307   \n",
              "2              0  0.533556       0.666667             0.8     0.517307   \n",
              "3              0  0.533556       0.666667             0.8     0.517307   \n",
              "4              0  0.533556       0.666667             0.2     0.517307   \n",
              "\n",
              "   thermostat_status  \n",
              "0                  1  \n",
              "1                  1  \n",
              "2                  1  \n",
              "3                  1  \n",
              "4                  1  "
            ],
            "text/html": [
              "\n",
              "  <div id=\"df-2ec09410-776b-40c8-bc40-9e517a3c04f2\">\n",
              "    <div class=\"colab-df-container\">\n",
              "      <div>\n",
              "<style scoped>\n",
              "    .dataframe tbody tr th:only-of-type {\n",
              "        vertical-align: middle;\n",
              "    }\n",
              "\n",
              "    .dataframe tbody tr th {\n",
              "        vertical-align: top;\n",
              "    }\n",
              "\n",
              "    .dataframe thead th {\n",
              "        text-align: right;\n",
              "    }\n",
              "</style>\n",
              "<table border=\"1\" class=\"dataframe\">\n",
              "  <thead>\n",
              "    <tr style=\"text-align: right;\">\n",
              "      <th></th>\n",
              "      <th>FC1_Read_Input_Register</th>\n",
              "      <th>FC2_Read_Discrete_Value</th>\n",
              "      <th>FC3_Read_Holding_Register</th>\n",
              "      <th>FC4_Read_Coil</th>\n",
              "      <th>current_temperature</th>\n",
              "      <th>door_state</th>\n",
              "      <th>fridge_temperature</th>\n",
              "      <th>humidity</th>\n",
              "      <th>latitude</th>\n",
              "      <th>light_status</th>\n",
              "      <th>longitude</th>\n",
              "      <th>motion_status</th>\n",
              "      <th>pressure</th>\n",
              "      <th>sphone_signal</th>\n",
              "      <th>temp_condition</th>\n",
              "      <th>temperature</th>\n",
              "      <th>thermostat_status</th>\n",
              "    </tr>\n",
              "  </thead>\n",
              "  <tbody>\n",
              "    <tr>\n",
              "      <th>0</th>\n",
              "      <td>0.495216</td>\n",
              "      <td>0.499092</td>\n",
              "      <td>0.488897</td>\n",
              "      <td>0.499405</td>\n",
              "      <td>0.344399</td>\n",
              "      <td>0</td>\n",
              "      <td>0.930769</td>\n",
              "      <td>0.462511</td>\n",
              "      <td>0.008217</td>\n",
              "      <td>0</td>\n",
              "      <td>0.008112</td>\n",
              "      <td>0</td>\n",
              "      <td>0.533556</td>\n",
              "      <td>0.666667</td>\n",
              "      <td>0.2</td>\n",
              "      <td>0.517307</td>\n",
              "      <td>1</td>\n",
              "    </tr>\n",
              "    <tr>\n",
              "      <th>1</th>\n",
              "      <td>0.495216</td>\n",
              "      <td>0.499092</td>\n",
              "      <td>0.488897</td>\n",
              "      <td>0.499405</td>\n",
              "      <td>0.344399</td>\n",
              "      <td>0</td>\n",
              "      <td>0.588462</td>\n",
              "      <td>0.462511</td>\n",
              "      <td>0.008217</td>\n",
              "      <td>0</td>\n",
              "      <td>0.008112</td>\n",
              "      <td>0</td>\n",
              "      <td>0.533556</td>\n",
              "      <td>0.666667</td>\n",
              "      <td>0.2</td>\n",
              "      <td>0.517307</td>\n",
              "      <td>1</td>\n",
              "    </tr>\n",
              "    <tr>\n",
              "      <th>2</th>\n",
              "      <td>0.495216</td>\n",
              "      <td>0.499092</td>\n",
              "      <td>0.488897</td>\n",
              "      <td>0.499405</td>\n",
              "      <td>0.344399</td>\n",
              "      <td>0</td>\n",
              "      <td>0.076923</td>\n",
              "      <td>0.462511</td>\n",
              "      <td>0.008217</td>\n",
              "      <td>0</td>\n",
              "      <td>0.008112</td>\n",
              "      <td>0</td>\n",
              "      <td>0.533556</td>\n",
              "      <td>0.666667</td>\n",
              "      <td>0.8</td>\n",
              "      <td>0.517307</td>\n",
              "      <td>1</td>\n",
              "    </tr>\n",
              "    <tr>\n",
              "      <th>3</th>\n",
              "      <td>0.495216</td>\n",
              "      <td>0.499092</td>\n",
              "      <td>0.488897</td>\n",
              "      <td>0.499405</td>\n",
              "      <td>0.344399</td>\n",
              "      <td>0</td>\n",
              "      <td>0.292308</td>\n",
              "      <td>0.462511</td>\n",
              "      <td>0.008217</td>\n",
              "      <td>0</td>\n",
              "      <td>0.008112</td>\n",
              "      <td>0</td>\n",
              "      <td>0.533556</td>\n",
              "      <td>0.666667</td>\n",
              "      <td>0.8</td>\n",
              "      <td>0.517307</td>\n",
              "      <td>1</td>\n",
              "    </tr>\n",
              "    <tr>\n",
              "      <th>4</th>\n",
              "      <td>0.495216</td>\n",
              "      <td>0.499092</td>\n",
              "      <td>0.488897</td>\n",
              "      <td>0.499405</td>\n",
              "      <td>0.344399</td>\n",
              "      <td>0</td>\n",
              "      <td>0.746154</td>\n",
              "      <td>0.462511</td>\n",
              "      <td>0.008217</td>\n",
              "      <td>0</td>\n",
              "      <td>0.008112</td>\n",
              "      <td>0</td>\n",
              "      <td>0.533556</td>\n",
              "      <td>0.666667</td>\n",
              "      <td>0.2</td>\n",
              "      <td>0.517307</td>\n",
              "      <td>1</td>\n",
              "    </tr>\n",
              "  </tbody>\n",
              "</table>\n",
              "</div>\n",
              "      <button class=\"colab-df-convert\" onclick=\"convertToInteractive('df-2ec09410-776b-40c8-bc40-9e517a3c04f2')\"\n",
              "              title=\"Convert this dataframe to an interactive table.\"\n",
              "              style=\"display:none;\">\n",
              "        \n",
              "  <svg xmlns=\"http://www.w3.org/2000/svg\" height=\"24px\"viewBox=\"0 0 24 24\"\n",
              "       width=\"24px\">\n",
              "    <path d=\"M0 0h24v24H0V0z\" fill=\"none\"/>\n",
              "    <path d=\"M18.56 5.44l.94 2.06.94-2.06 2.06-.94-2.06-.94-.94-2.06-.94 2.06-2.06.94zm-11 1L8.5 8.5l.94-2.06 2.06-.94-2.06-.94L8.5 2.5l-.94 2.06-2.06.94zm10 10l.94 2.06.94-2.06 2.06-.94-2.06-.94-.94-2.06-.94 2.06-2.06.94z\"/><path d=\"M17.41 7.96l-1.37-1.37c-.4-.4-.92-.59-1.43-.59-.52 0-1.04.2-1.43.59L10.3 9.45l-7.72 7.72c-.78.78-.78 2.05 0 2.83L4 21.41c.39.39.9.59 1.41.59.51 0 1.02-.2 1.41-.59l7.78-7.78 2.81-2.81c.8-.78.8-2.07 0-2.86zM5.41 20L4 18.59l7.72-7.72 1.47 1.35L5.41 20z\"/>\n",
              "  </svg>\n",
              "      </button>\n",
              "      \n",
              "  <style>\n",
              "    .colab-df-container {\n",
              "      display:flex;\n",
              "      flex-wrap:wrap;\n",
              "      gap: 12px;\n",
              "    }\n",
              "\n",
              "    .colab-df-convert {\n",
              "      background-color: #E8F0FE;\n",
              "      border: none;\n",
              "      border-radius: 50%;\n",
              "      cursor: pointer;\n",
              "      display: none;\n",
              "      fill: #1967D2;\n",
              "      height: 32px;\n",
              "      padding: 0 0 0 0;\n",
              "      width: 32px;\n",
              "    }\n",
              "\n",
              "    .colab-df-convert:hover {\n",
              "      background-color: #E2EBFA;\n",
              "      box-shadow: 0px 1px 2px rgba(60, 64, 67, 0.3), 0px 1px 3px 1px rgba(60, 64, 67, 0.15);\n",
              "      fill: #174EA6;\n",
              "    }\n",
              "\n",
              "    [theme=dark] .colab-df-convert {\n",
              "      background-color: #3B4455;\n",
              "      fill: #D2E3FC;\n",
              "    }\n",
              "\n",
              "    [theme=dark] .colab-df-convert:hover {\n",
              "      background-color: #434B5C;\n",
              "      box-shadow: 0px 1px 3px 1px rgba(0, 0, 0, 0.15);\n",
              "      filter: drop-shadow(0px 1px 2px rgba(0, 0, 0, 0.3));\n",
              "      fill: #FFFFFF;\n",
              "    }\n",
              "  </style>\n",
              "\n",
              "      <script>\n",
              "        const buttonEl =\n",
              "          document.querySelector('#df-2ec09410-776b-40c8-bc40-9e517a3c04f2 button.colab-df-convert');\n",
              "        buttonEl.style.display =\n",
              "          google.colab.kernel.accessAllowed ? 'block' : 'none';\n",
              "\n",
              "        async function convertToInteractive(key) {\n",
              "          const element = document.querySelector('#df-2ec09410-776b-40c8-bc40-9e517a3c04f2');\n",
              "          const dataTable =\n",
              "            await google.colab.kernel.invokeFunction('convertToInteractive',\n",
              "                                                     [key], {});\n",
              "          if (!dataTable) return;\n",
              "\n",
              "          const docLinkHtml = 'Like what you see? Visit the ' +\n",
              "            '<a target=\"_blank\" href=https://colab.research.google.com/notebooks/data_table.ipynb>data table notebook</a>'\n",
              "            + ' to learn more about interactive tables.';\n",
              "          element.innerHTML = '';\n",
              "          dataTable['output_type'] = 'display_data';\n",
              "          await google.colab.output.renderOutput(dataTable, element);\n",
              "          const docLink = document.createElement('div');\n",
              "          docLink.innerHTML = docLinkHtml;\n",
              "          element.appendChild(docLink);\n",
              "        }\n",
              "      </script>\n",
              "    </div>\n",
              "  </div>\n",
              "  "
            ]
          },
          "metadata": {},
          "execution_count": 29
        }
      ]
    },
    {
      "cell_type": "code",
      "source": [
        "y.head()"
      ],
      "metadata": {
        "colab": {
          "base_uri": "https://localhost:8080/"
        },
        "id": "RF6k4G9fgYyE",
        "outputId": "62469e39-98fc-4d75-f64e-2ee3fe390f2e"
      },
      "execution_count": 30,
      "outputs": [
        {
          "output_type": "execute_result",
          "data": {
            "text/plain": [
              "0    0\n",
              "1    0\n",
              "2    0\n",
              "3    0\n",
              "4    0\n",
              "Name: label, dtype: int64"
            ]
          },
          "metadata": {},
          "execution_count": 30
        }
      ]
    },
    {
      "cell_type": "code",
      "source": [
        "# Split dataset into training set and test set\n",
        "X_train, X_test, y_train, y_test = train_test_split(X, y, test_size=0.3, random_state=1) # 70% training and 30% test"
      ],
      "metadata": {
        "id": "vmtha6xMgauY"
      },
      "execution_count": 31,
      "outputs": []
    },
    {
      "cell_type": "code",
      "source": [
        "# Check the shape of all of these\n",
        "print(\"X_train shape is : \", X_train.shape)\n",
        "print(\"X_test shape  is : \", X_test.shape)\n",
        "print(\"y_train shape is : \", y_train.shape)\n",
        "print(\"y_test shape is  : \", y_test.shape)"
      ],
      "metadata": {
        "colab": {
          "base_uri": "https://localhost:8080/"
        },
        "id": "I6EByqtWgfTc",
        "outputId": "e1d9bc08-ea7c-48c3-832f-5cccb90e14e9"
      },
      "execution_count": 32,
      "outputs": [
        {
          "output_type": "stream",
          "name": "stdout",
          "text": [
            "X_train shape is :  (280783, 17)\n",
            "X_test shape  is :  (120336, 17)\n",
            "y_train shape is :  (280783,)\n",
            "y_test shape is  :  (120336,)\n"
          ]
        }
      ]
    },
    {
      "cell_type": "markdown",
      "source": [
        "**1. Random Forest**"
      ],
      "metadata": {
        "id": "AtPXsqbSiCLv"
      }
    },
    {
      "cell_type": "code",
      "source": [
        "#Calculate start time\n",
        "start = timeit.default_timer()\n",
        "\n",
        "#Create a Gaussian Classifier\n",
        "clf=RandomForestClassifier(criterion='gini', n_estimators=100, random_state=10,n_jobs=2)\n",
        "\n",
        "#Train the model using the training sets y_pred=clf.predict(X_test)\n",
        "clf.fit(X_train,y_train)\n",
        "\n",
        "#Calculate Stop time\n",
        "stop = timeit.default_timer()\n",
        "train_time= stop - start"
      ],
      "metadata": {
        "id": "2qbI8ObKgzn1"
      },
      "execution_count": 18,
      "outputs": []
    },
    {
      "cell_type": "code",
      "source": [
        "#Calculate start time\n",
        "start = timeit.default_timer()\n",
        "\n",
        "# Predict the model\n",
        "y_pred=clf.predict(X_test)\n",
        "\n",
        "#Calculate Stop time\n",
        "stop = timeit.default_timer()\n",
        "test_time= stop - start\n"
      ],
      "metadata": {
        "id": "7BsjdKYEhXDk"
      },
      "execution_count": 19,
      "outputs": []
    },
    {
      "cell_type": "code",
      "source": [
        "print(confusion_matrix(y_test,y_pred))\n",
        "print(classification_report(y_test,y_pred))"
      ],
      "metadata": {
        "colab": {
          "base_uri": "https://localhost:8080/"
        },
        "id": "gDEN0iKihf9E",
        "outputId": "ac23ab02-bccf-4c7a-e051-3b8473b68710"
      },
      "execution_count": 20,
      "outputs": [
        {
          "output_type": "stream",
          "name": "stdout",
          "text": [
            "[[69923  3572]\n",
            " [12095 34746]]\n",
            "              precision    recall  f1-score   support\n",
            "\n",
            "           0       0.85      0.95      0.90     73495\n",
            "           1       0.91      0.74      0.82     46841\n",
            "\n",
            "    accuracy                           0.87    120336\n",
            "   macro avg       0.88      0.85      0.86    120336\n",
            "weighted avg       0.87      0.87      0.87    120336\n",
            "\n"
          ]
        }
      ]
    },
    {
      "cell_type": "code",
      "source": [
        "# Model Accuracy: how often is the classifier correct?\n",
        "print(\"Accuracy:\",metrics.accuracy_score(y_test, y_pred))\n",
        "\n",
        "# Model Precision: what percentage of positive tuples are labeled as such?\n",
        "print(\"Precision:\",metrics.precision_score(y_test, y_pred))\n",
        "\n",
        "# Model Recall: what percentage of positive tuples are labelled as such?\n",
        "print(\"Recall:\",metrics.recall_score(y_test, y_pred))\n",
        "\n",
        "#Calculate F1 Score\n",
        "print(\"F1 Score:\",metrics.f1_score(y_test, y_pred))\n",
        "\n",
        "#Calculate Mean Absolute Error\n",
        "print(\"Mean Absolute Error:\",metrics.mean_absolute_error(y_test, y_pred))\n",
        "\n",
        "# kappa\n",
        "print(\"Cohens kappa:\", metrics.cohen_kappa_score(y_test, y_pred))\n",
        "\n",
        "# ROC AUC\n",
        "print(\"ROC AUC:\", metrics.roc_auc_score(y_test, y_pred))\n",
        "\n",
        "#Train time\n",
        "print('Train Time(s): ',train_time) \n",
        "\n",
        "#Test time\n",
        "print('Test Time(s): ',test_time)"
      ],
      "metadata": {
        "colab": {
          "base_uri": "https://localhost:8080/"
        },
        "id": "E3Pk45-mh-dn",
        "outputId": "c460d324-af87-419f-b0aa-e3cfcf25483d"
      },
      "execution_count": 21,
      "outputs": [
        {
          "output_type": "stream",
          "name": "stdout",
          "text": [
            "Accuracy: 0.8698062092806808\n",
            "Precision: 0.9067801033456862\n",
            "Recall: 0.7417860421425674\n",
            "F1 Score: 0.8160264916215548\n",
            "Mean Absolute Error: 0.13019379071931925\n",
            "Cohens kappa: 0.7168356982387822\n",
            "ROC AUC: 0.8465920482159874\n",
            "Train Time(s):  53.358119461000115\n",
            "Test Time(s):  4.533775234000132\n"
          ]
        }
      ]
    },
    {
      "cell_type": "markdown",
      "source": [
        "**2. Decision Tree**"
      ],
      "metadata": {
        "id": "oXM7yW4wmaqk"
      }
    },
    {
      "cell_type": "code",
      "source": [
        "from sklearn.tree import DecisionTreeClassifier\n",
        "\n",
        "\n",
        "#Calculate start time\n",
        "start = timeit.default_timer()\n",
        "\n",
        "#Create a Gaussian Classifier\n",
        "clf=DecisionTreeClassifier(criterion=\"gini\", random_state=50)\n",
        "\n",
        "#Train the model using the training sets y_pred=clf.predict(X_test)\n",
        "clf.fit(X_train,y_train)\n",
        "\n",
        "#Calculate Stop time\n",
        "stop = timeit.default_timer()\n",
        "train_time= stop - start"
      ],
      "metadata": {
        "id": "h9v9iuKCm12f"
      },
      "execution_count": 39,
      "outputs": []
    },
    {
      "cell_type": "code",
      "source": [
        "#Calculate start time\n",
        "start = timeit.default_timer()\n",
        "\n",
        "# Predict the model\n",
        "y_pred=clf.predict(X_test)\n",
        "\n",
        "#Calculate Stop time\n",
        "stop = timeit.default_timer()\n",
        "test_time= stop - start\n"
      ],
      "metadata": {
        "id": "EcvnULD4nNDn"
      },
      "execution_count": 40,
      "outputs": []
    },
    {
      "cell_type": "code",
      "source": [
        "print(confusion_matrix(y_test,y_pred))\n",
        "print(classification_report(y_test,y_pred))"
      ],
      "metadata": {
        "colab": {
          "base_uri": "https://localhost:8080/"
        },
        "id": "s41WXLEYnPoF",
        "outputId": "1d02458e-e4fe-4ee6-bc19-bb35c9a4ad18"
      },
      "execution_count": 41,
      "outputs": [
        {
          "output_type": "stream",
          "name": "stdout",
          "text": [
            "[[69364  4131]\n",
            " [12116 34725]]\n",
            "              precision    recall  f1-score   support\n",
            "\n",
            "           0       0.85      0.94      0.90     73495\n",
            "           1       0.89      0.74      0.81     46841\n",
            "\n",
            "    accuracy                           0.86    120336\n",
            "   macro avg       0.87      0.84      0.85    120336\n",
            "weighted avg       0.87      0.86      0.86    120336\n",
            "\n"
          ]
        }
      ]
    },
    {
      "cell_type": "code",
      "source": [
        "# Model Accuracy: how often is the classifier correct?\n",
        "print(\"Accuracy:\",metrics.accuracy_score(y_test, y_pred))\n",
        "\n",
        "# Model Precision: what percentage of positive tuples are labeled as such?\n",
        "print(\"Precision:\",metrics.precision_score(y_test, y_pred))\n",
        "\n",
        "# Model Recall: what percentage of positive tuples are labelled as such?\n",
        "print(\"Recall:\",metrics.recall_score(y_test, y_pred))\n",
        "\n",
        "#Calculate F1 Score\n",
        "print(\"F1 Score:\",metrics.f1_score(y_test, y_pred))\n",
        "\n",
        "#Calculate Mean Absolute Error\n",
        "print(\"Mean Absolute Error:\",metrics.mean_absolute_error(y_test, y_pred))\n",
        "\n",
        "# kappa\n",
        "print(\"Cohens kappa:\", metrics.cohen_kappa_score(y_test, y_pred))\n",
        "\n",
        "# ROC AUC\n",
        "print(\"ROC AUC:\", metrics.roc_auc_score(y_test, y_pred))\n",
        "\n",
        "#Train time\n",
        "print('Train Time(s): ',train_time) \n",
        "\n",
        "#Test time\n",
        "print('Test Time(s): ',test_time)"
      ],
      "metadata": {
        "colab": {
          "base_uri": "https://localhost:8080/"
        },
        "id": "nCoFQeU_nSE0",
        "outputId": "18f8c9c1-8fd5-4345-b12d-4e5b8e9fc052"
      },
      "execution_count": 42,
      "outputs": [
        {
          "output_type": "stream",
          "name": "stdout",
          "text": [
            "Accuracy: 0.8649863714931525\n",
            "Precision: 0.8936843730697962\n",
            "Recall: 0.7413377169573664\n",
            "F1 Score: 0.8104134333757307\n",
            "Mean Absolute Error: 0.1350136285068475\n",
            "Cohens kappa: 0.7069839101396478\n",
            "ROC AUC: 0.8425649058288431\n",
            "Train Time(s):  2.529027636999672\n",
            "Test Time(s):  0.050669100000050094\n"
          ]
        }
      ]
    },
    {
      "cell_type": "markdown",
      "source": [
        "**3. KNN**"
      ],
      "metadata": {
        "id": "oLsFBbahurXO"
      }
    },
    {
      "cell_type": "code",
      "source": [
        "from sklearn.neighbors import KNeighborsClassifier\n",
        "\n",
        "\n",
        "#Calculate start time\n",
        "start = timeit.default_timer()\n",
        "\n",
        "# n_neighbors=3\n",
        "\n",
        "#Create a Gaussian Classifier\n",
        "clf=KNeighborsClassifier()\n",
        "\n",
        "#Train the model using the training sets y_pred=clf.predict(X_test)\n",
        "clf.fit(X_train,y_train)\n",
        "\n",
        "#Calculate Stop time\n",
        "stop = timeit.default_timer()\n",
        "train_time= stop - start"
      ],
      "metadata": {
        "id": "GrzAHBL0utn4"
      },
      "execution_count": 43,
      "outputs": []
    },
    {
      "cell_type": "code",
      "source": [
        "#Calculate start time\n",
        "start = timeit.default_timer()\n",
        "\n",
        "# Predict the model\n",
        "y_pred=clf.predict(X_test)\n",
        "\n",
        "#Calculate Stop time\n",
        "stop = timeit.default_timer()\n",
        "test_time= stop - start\n"
      ],
      "metadata": {
        "id": "bd3DfAaYvWix"
      },
      "execution_count": 44,
      "outputs": []
    },
    {
      "cell_type": "code",
      "source": [
        "print(confusion_matrix(y_test,y_pred))\n",
        "print(classification_report(y_test,y_pred))"
      ],
      "metadata": {
        "colab": {
          "base_uri": "https://localhost:8080/"
        },
        "id": "k8Ap1W91v6bO",
        "outputId": "9a16b4ba-136b-4701-e070-0d7a7ad672e4"
      },
      "execution_count": 45,
      "outputs": [
        {
          "output_type": "stream",
          "name": "stdout",
          "text": [
            "[[68291  5204]\n",
            " [14867 31974]]\n",
            "              precision    recall  f1-score   support\n",
            "\n",
            "           0       0.82      0.93      0.87     73495\n",
            "           1       0.86      0.68      0.76     46841\n",
            "\n",
            "    accuracy                           0.83    120336\n",
            "   macro avg       0.84      0.81      0.82    120336\n",
            "weighted avg       0.84      0.83      0.83    120336\n",
            "\n"
          ]
        }
      ]
    },
    {
      "cell_type": "code",
      "source": [
        "# Model Accuracy: how often is the classifier correct?\n",
        "print(\"Accuracy:\",metrics.accuracy_score(y_test, y_pred))\n",
        "\n",
        "# Model Precision: what percentage of positive tuples are labeled as such?\n",
        "print(\"Precision:\",metrics.precision_score(y_test, y_pred))\n",
        "\n",
        "# Model Recall: what percentage of positive tuples are labelled as such?\n",
        "print(\"Recall:\",metrics.recall_score(y_test, y_pred))\n",
        "\n",
        "#Calculate F1 Score\n",
        "print(\"F1 Score:\",metrics.f1_score(y_test, y_pred))\n",
        "\n",
        "#Calculate Mean Absolute Error\n",
        "print(\"Mean Absolute Error:\",metrics.mean_absolute_error(y_test, y_pred))\n",
        "\n",
        "# kappa\n",
        "print(\"Cohens kappa:\", metrics.cohen_kappa_score(y_test, y_pred))\n",
        "\n",
        "# ROC AUC\n",
        "print(\"ROC AUC:\", metrics.roc_auc_score(y_test, y_pred))\n",
        "\n",
        "#Train time\n",
        "print('Train Time(s): ',train_time) \n",
        "\n",
        "#Test time\n",
        "print('Test Time(s): ',test_time)"
      ],
      "metadata": {
        "colab": {
          "base_uri": "https://localhost:8080/"
        },
        "id": "JFgmOBtzyG6l",
        "outputId": "2685ce8d-c1c8-4806-ef7d-29384f75ca4d"
      },
      "execution_count": 46,
      "outputs": [
        {
          "output_type": "stream",
          "name": "stdout",
          "text": [
            "Accuracy: 0.8332086823560697\n",
            "Precision: 0.860024745817419\n",
            "Recall: 0.6826071176960355\n",
            "F1 Score: 0.761113557647675\n",
            "Mean Absolute Error: 0.16679131764393032\n",
            "Cohens kappa: 0.6355749447842287\n",
            "ROC AUC: 0.8058997898841427\n",
            "Train Time(s):  0.04398704599952907\n",
            "Test Time(s):  695.0578123429996\n"
          ]
        }
      ]
    },
    {
      "cell_type": "markdown",
      "source": [
        "**4. Logistic Regression**"
      ],
      "metadata": {
        "id": "4VJwtwgy7Klg"
      }
    },
    {
      "cell_type": "code",
      "source": [
        "from sklearn.linear_model import LogisticRegression\n",
        "from sklearn.pipeline import Pipeline\n",
        "from sklearn.preprocessing import StandardScaler\n",
        "from sklearn.model_selection import GridSearchCV\n",
        "from sklearn.metrics import roc_curve, roc_auc_score, classification_report, accuracy_score, confusion_matrix \n",
        "import seaborn as sns\n",
        "\n",
        "param_grid_lr = {\n",
        "    'max_iter': [20, 50, 100, 200, 500, 1000],                      \n",
        "    'solver': ['newton-cg', 'lbfgs', 'liblinear', 'sag', 'saga'],   \n",
        "    'class_weight': ['balanced']   \n",
        "}\n",
        "\n",
        "#Calculate start time\n",
        "start = timeit.default_timer()\n",
        "\n",
        "logModel_grid = GridSearchCV(estimator=LogisticRegression(random_state=1000), param_grid=param_grid_lr, verbose=1, cv=5, n_jobs=-1)\n",
        "logModel_grid.fit(X_train,y_train)\n",
        "\n",
        "\n",
        "#Calculate Stop time\n",
        "stop = timeit.default_timer()\n",
        "train_time= stop - start"
      ],
      "metadata": {
        "colab": {
          "base_uri": "https://localhost:8080/"
        },
        "id": "vMQTN2PD7R6Z",
        "outputId": "286bd711-1d7b-42f7-ffe6-a3042f32a0fa"
      },
      "execution_count": 86,
      "outputs": [
        {
          "output_type": "stream",
          "name": "stdout",
          "text": [
            "Fitting 5 folds for each of 30 candidates, totalling 150 fits\n"
          ]
        }
      ]
    },
    {
      "cell_type": "code",
      "source": [
        "#Calculate start time\n",
        "start = timeit.default_timer()\n",
        "\n",
        "# Predict the model\n",
        "y_pred=logModel_grid.predict(X_test)\n",
        "\n",
        "#Calculate Stop time\n",
        "stop = timeit.default_timer()\n",
        "test_time= stop - start"
      ],
      "metadata": {
        "id": "btkpioLX8aoM"
      },
      "execution_count": 87,
      "outputs": []
    },
    {
      "cell_type": "code",
      "source": [
        "print(confusion_matrix(y_test,y_pred))\n",
        "print(classification_report(y_test,y_pred))"
      ],
      "metadata": {
        "colab": {
          "base_uri": "https://localhost:8080/"
        },
        "id": "wCrMepXG8dLb",
        "outputId": "190dedfa-c28b-49e5-ae1a-842ffd2c9a29"
      },
      "execution_count": 88,
      "outputs": [
        {
          "output_type": "stream",
          "name": "stdout",
          "text": [
            "[[66080  7415]\n",
            " [27461 19380]]\n",
            "              precision    recall  f1-score   support\n",
            "\n",
            "           0       0.71      0.90      0.79     73495\n",
            "           1       0.72      0.41      0.53     46841\n",
            "\n",
            "    accuracy                           0.71    120336\n",
            "   macro avg       0.71      0.66      0.66    120336\n",
            "weighted avg       0.71      0.71      0.69    120336\n",
            "\n"
          ]
        }
      ]
    },
    {
      "cell_type": "code",
      "source": [
        "# Model Accuracy: how often is the classifier correct?\n",
        "print(\"Accuracy:\",metrics.accuracy_score(y_test, y_pred))\n",
        "\n",
        "# Model Precision: what percentage of positive tuples are labeled as such?\n",
        "print(\"Precision:\",metrics.precision_score(y_test, y_pred))\n",
        "\n",
        "# Model Recall: what percentage of positive tuples are labelled as such?\n",
        "print(\"Recall:\",metrics.recall_score(y_test, y_pred))\n",
        "\n",
        "#Calculate F1 Score\n",
        "print(\"F1 Score:\",metrics.f1_score(y_test, y_pred))\n",
        "\n",
        "#Calculate Mean Absolute Error\n",
        "print(\"Mean Absolute Error:\",metrics.mean_absolute_error(y_test, y_pred))\n",
        "\n",
        "# kappa\n",
        "print(\"Cohens kappa:\", metrics.cohen_kappa_score(y_test, y_pred))\n",
        "\n",
        "# ROC AUC\n",
        "print(\"ROC AUC:\", metrics.roc_auc_score(y_test, y_pred))\n",
        "\n",
        "#Train time\n",
        "print('Train Time(s): ',train_time) \n",
        "\n",
        "#Test time\n",
        "print('Test Time(s): ',test_time)"
      ],
      "metadata": {
        "colab": {
          "base_uri": "https://localhost:8080/"
        },
        "id": "pOZl7W2a8fx9",
        "outputId": "ad448efc-1eec-4534-922c-5c7afb52be0c"
      },
      "execution_count": 89,
      "outputs": [
        {
          "output_type": "stream",
          "name": "stdout",
          "text": [
            "Accuracy: 0.7101781677968355\n",
            "Precision: 0.7232692666542265\n",
            "Recall: 0.41374009948549345\n",
            "F1 Score: 0.5263729697430604\n",
            "Mean Absolute Error: 0.2898218322031645\n",
            "Cohens kappa: 0.3391692954552139\n",
            "ROC AUC: 0.6564244411979477\n",
            "Train Time(s):  412.28292220799995\n",
            "Test Time(s):  0.017896334999022656\n"
          ]
        }
      ]
    },
    {
      "cell_type": "markdown",
      "source": [
        "**5. SVM**"
      ],
      "metadata": {
        "id": "0XB780tzRu7Y"
      }
    },
    {
      "cell_type": "code",
      "source": [
        "from sklearn.svm import SVC\n",
        "\n",
        "#Calculate start time\n",
        "start = timeit.default_timer()\n",
        "\n",
        "# n_neighbors=3\n",
        "\n",
        "#Create a Gaussian Classifier\n",
        "clf=SVC()\n",
        "\n",
        "#Train the model using the training sets y_pred=clf.predict(X_test)\n",
        "clf.fit(X_train,y_train)\n",
        "\n",
        "#Calculate Stop time\n",
        "stop = timeit.default_timer()\n",
        "train_time= stop - start"
      ],
      "metadata": {
        "id": "CvrxVuaPRyaN"
      },
      "execution_count": 15,
      "outputs": []
    },
    {
      "cell_type": "code",
      "source": [
        "#Calculate start time\n",
        "start = timeit.default_timer()\n",
        "\n",
        "# Predict the model\n",
        "y_pred=clf.predict(X_test)\n",
        "\n",
        "#Calculate Stop time\n",
        "stop = timeit.default_timer()\n",
        "test_time= stop - start"
      ],
      "metadata": {
        "id": "bkXfeVIDSH48"
      },
      "execution_count": 17,
      "outputs": []
    },
    {
      "cell_type": "code",
      "source": [
        "print(confusion_matrix(y_test,y_pred))\n",
        "print(classification_report(y_test,y_pred))"
      ],
      "metadata": {
        "colab": {
          "base_uri": "https://localhost:8080/"
        },
        "id": "ZjMH-vp-SJ7j",
        "outputId": "0dc237d3-d885-4f4a-97d7-1fdb5b830c4a"
      },
      "execution_count": 18,
      "outputs": [
        {
          "output_type": "stream",
          "name": "stdout",
          "text": [
            "[[71860  1635]\n",
            " [24213 22628]]\n",
            "              precision    recall  f1-score   support\n",
            "\n",
            "           0       0.75      0.98      0.85     73495\n",
            "           1       0.93      0.48      0.64     46841\n",
            "\n",
            "    accuracy                           0.79    120336\n",
            "   macro avg       0.84      0.73      0.74    120336\n",
            "weighted avg       0.82      0.79      0.77    120336\n",
            "\n"
          ]
        }
      ]
    },
    {
      "cell_type": "code",
      "source": [
        "# Model Accuracy: how often is the classifier correct?\n",
        "print(\"Accuracy:\",metrics.accuracy_score(y_test, y_pred))\n",
        "\n",
        "# Model Precision: what percentage of positive tuples are labeled as such?\n",
        "print(\"Precision:\",metrics.precision_score(y_test, y_pred))\n",
        "\n",
        "# Model Recall: what percentage of positive tuples are labelled as such?\n",
        "print(\"Recall:\",metrics.recall_score(y_test, y_pred))\n",
        "\n",
        "#Calculate F1 Score\n",
        "print(\"F1 Score:\",metrics.f1_score(y_test, y_pred))\n",
        "\n",
        "#Calculate Mean Absolute Error\n",
        "print(\"Mean Absolute Error:\",metrics.mean_absolute_error(y_test, y_pred))\n",
        "\n",
        "# kappa\n",
        "print(\"Cohens kappa:\", metrics.cohen_kappa_score(y_test, y_pred))\n",
        "\n",
        "# ROC AUC\n",
        "print(\"ROC AUC:\", metrics.roc_auc_score(y_test, y_pred))\n",
        "\n",
        "#Train time\n",
        "print('Train Time(s): ',train_time) \n",
        "\n",
        "#Test time\n",
        "print('Test Time(s): ',test_time)"
      ],
      "metadata": {
        "colab": {
          "base_uri": "https://localhost:8080/"
        },
        "id": "GS1GUIN4SNB5",
        "outputId": "c69d4692-e933-4a82-8165-eb3a15c2134d"
      },
      "execution_count": 19,
      "outputs": [
        {
          "output_type": "stream",
          "name": "stdout",
          "text": [
            "Accuracy: 0.7852014359792581\n",
            "Precision: 0.9326134443391172\n",
            "Recall: 0.48308106146324803\n",
            "F1 Score: 0.6364761476147616\n",
            "Mean Absolute Error: 0.21479856402074193\n",
            "Cohens kappa: 0.50497143856802\n",
            "ROC AUC: 0.7304173250713751\n",
            "Train Time(s):  11982.571006619999\n",
            "Test Time(s):  958.6865445790008\n"
          ]
        }
      ]
    },
    {
      "cell_type": "markdown",
      "source": [
        "**6. Adaboost**"
      ],
      "metadata": {
        "id": "QnAzau7HfbuE"
      }
    },
    {
      "cell_type": "code",
      "source": [
        "from sklearn.ensemble import AdaBoostClassifier\n",
        "\n",
        "\n",
        "#Calculate start time\n",
        "start = timeit.default_timer()\n",
        "\n",
        "# n_neighbors=3\n",
        "\n",
        "#Create a Gaussian Classifier\n",
        "clf=AdaBoostClassifier(n_estimators=50,learning_rate=1, random_state=10)\n",
        "\n",
        "#Train the model using the training sets y_pred=clf.predict(X_test)\n",
        "clf.fit(X_train,y_train)\n",
        "\n",
        "#Calculate Stop time\n",
        "stop = timeit.default_timer()\n",
        "train_time= stop - start"
      ],
      "metadata": {
        "id": "mJ9cSyGBfeiM"
      },
      "execution_count": 34,
      "outputs": []
    },
    {
      "cell_type": "code",
      "source": [
        "#Calculate start time\n",
        "start = timeit.default_timer()\n",
        "\n",
        "# Predict the model\n",
        "y_pred=clf.predict(X_test)\n",
        "\n",
        "#Calculate Stop time\n",
        "stop = timeit.default_timer()\n",
        "test_time= stop - start"
      ],
      "metadata": {
        "id": "8w69ctwPfsj9"
      },
      "execution_count": 35,
      "outputs": []
    },
    {
      "cell_type": "code",
      "source": [
        "print(confusion_matrix(y_test,y_pred))\n",
        "print(classification_report(y_test,y_pred))"
      ],
      "metadata": {
        "colab": {
          "base_uri": "https://localhost:8080/"
        },
        "id": "sg9mnyxofvFo",
        "outputId": "14e07bbc-4b1e-4cea-c41f-05684c87a60e"
      },
      "execution_count": 36,
      "outputs": [
        {
          "output_type": "stream",
          "name": "stdout",
          "text": [
            "[[70569  2926]\n",
            " [21168 25673]]\n",
            "              precision    recall  f1-score   support\n",
            "\n",
            "           0       0.77      0.96      0.85     73495\n",
            "           1       0.90      0.55      0.68     46841\n",
            "\n",
            "    accuracy                           0.80    120336\n",
            "   macro avg       0.83      0.75      0.77    120336\n",
            "weighted avg       0.82      0.80      0.79    120336\n",
            "\n"
          ]
        }
      ]
    },
    {
      "cell_type": "code",
      "source": [
        "# Model Accuracy: how often is the classifier correct?\n",
        "print(\"Accuracy:\",metrics.accuracy_score(y_test, y_pred))\n",
        "\n",
        "# Model Precision: what percentage of positive tuples are labeled as such?\n",
        "print(\"Precision:\",metrics.precision_score(y_test, y_pred))\n",
        "\n",
        "# Model Recall: what percentage of positive tuples are labelled as such?\n",
        "print(\"Recall:\",metrics.recall_score(y_test, y_pred))\n",
        "\n",
        "#Calculate F1 Score\n",
        "print(\"F1 Score:\",metrics.f1_score(y_test, y_pred))\n",
        "\n",
        "#Calculate Mean Absolute Error\n",
        "print(\"Mean Absolute Error:\",metrics.mean_absolute_error(y_test, y_pred))\n",
        "\n",
        "# kappa\n",
        "print(\"Cohens kappa:\", metrics.cohen_kappa_score(y_test, y_pred))\n",
        "\n",
        "# ROC AUC\n",
        "print(\"ROC AUC:\", metrics.roc_auc_score(y_test, y_pred))\n",
        "\n",
        "#Train time\n",
        "print('Train Time(s): ',train_time) \n",
        "\n",
        "#Test time\n",
        "print('Test Time(s): ',test_time)"
      ],
      "metadata": {
        "colab": {
          "base_uri": "https://localhost:8080/"
        },
        "id": "hq7BztAWfyns",
        "outputId": "142024b1-80ba-4cd2-a2fa-a894f56ccea3"
      },
      "execution_count": 45,
      "outputs": [
        {
          "output_type": "stream",
          "name": "stdout",
          "text": [
            "Accuracy: 0.7997772902539556\n",
            "Precision: 0.8976887303751879\n",
            "Recall: 0.5480882133173929\n",
            "F1 Score: 0.6806203605514315\n",
            "Mean Absolute Error: 0.20022270974604442\n",
            "Cohens kappa: 0.5468972594661179\n",
            "ROC AUC: 0.7541379905963793\n",
            "Train Time(s):  8.968062264000764\n",
            "Test Time(s):  0.8733976540024742\n"
          ]
        }
      ]
    },
    {
      "cell_type": "markdown",
      "source": [
        "**Naive Bayes**"
      ],
      "metadata": {
        "id": "RXx11le5rFyL"
      }
    },
    {
      "cell_type": "code",
      "source": [
        "from sklearn.naive_bayes import GaussianNB\n",
        "\n",
        "#Calculate start time\n",
        "start = timeit.default_timer()\n",
        "\n",
        "# n_neighbors=3\n",
        "\n",
        "#Create a Gaussian Classifier\n",
        "clf=GaussianNB()\n",
        "\n",
        "#Train the model using the training sets y_pred=clf.predict(X_test)\n",
        "clf.fit(X_train,y_train)\n",
        "\n",
        "#Calculate Stop time\n",
        "stop = timeit.default_timer()\n",
        "train_time= stop - start"
      ],
      "metadata": {
        "id": "Dr33RswhrIkc"
      },
      "execution_count": 60,
      "outputs": []
    },
    {
      "cell_type": "code",
      "source": [
        "#Calculate start time\n",
        "start = timeit.default_timer()\n",
        "\n",
        "# Predict the model\n",
        "y_pred=clf.predict(X_test)\n",
        "\n",
        "#Calculate Stop time\n",
        "stop = timeit.default_timer()\n",
        "test_time= stop - start"
      ],
      "metadata": {
        "id": "5LECfj5nrZya"
      },
      "execution_count": 61,
      "outputs": []
    },
    {
      "cell_type": "code",
      "source": [
        "print(confusion_matrix(y_test,y_pred))\n",
        "print(classification_report(y_test,y_pred))"
      ],
      "metadata": {
        "colab": {
          "base_uri": "https://localhost:8080/"
        },
        "id": "edAgNJPsrbal",
        "outputId": "2c785453-331d-4800-99f0-f3759752a615"
      },
      "execution_count": 62,
      "outputs": [
        {
          "output_type": "stream",
          "name": "stdout",
          "text": [
            "[[68740  4755]\n",
            " [31360 15481]]\n",
            "              precision    recall  f1-score   support\n",
            "\n",
            "           0       0.69      0.94      0.79     73495\n",
            "           1       0.77      0.33      0.46     46841\n",
            "\n",
            "    accuracy                           0.70    120336\n",
            "   macro avg       0.73      0.63      0.63    120336\n",
            "weighted avg       0.72      0.70      0.66    120336\n",
            "\n"
          ]
        }
      ]
    },
    {
      "cell_type": "code",
      "source": [
        "# Model Accuracy: how often is the classifier correct?\n",
        "print(\"Accuracy:\",metrics.accuracy_score(y_test, y_pred))\n",
        "\n",
        "# Model Precision: what percentage of positive tuples are labeled as such?\n",
        "print(\"Precision:\",metrics.precision_score(y_test, y_pred))\n",
        "\n",
        "# Model Recall: what percentage of positive tuples are labelled as such?\n",
        "print(\"Recall:\",metrics.recall_score(y_test, y_pred))\n",
        "\n",
        "#Calculate F1 Score\n",
        "print(\"F1 Score:\",metrics.f1_score(y_test, y_pred))\n",
        "\n",
        "#Calculate Mean Absolute Error\n",
        "print(\"Mean Absolute Error:\",metrics.mean_absolute_error(y_test, y_pred))\n",
        "\n",
        "# kappa\n",
        "print(\"Cohens kappa:\", metrics.cohen_kappa_score(y_test, y_pred))\n",
        "\n",
        "# ROC AUC\n",
        "print(\"ROC AUC:\", metrics.roc_auc_score(y_test, y_pred))\n",
        "\n",
        "#Train time\n",
        "print('Train Time(s): ',train_time) \n",
        "\n",
        "#Test time\n",
        "print('Test Time(s): ',test_time)"
      ],
      "metadata": {
        "colab": {
          "base_uri": "https://localhost:8080/"
        },
        "id": "pPc3O_ILrcCu",
        "outputId": "6a21b326-6e88-4ebe-cc4c-829612ea163a"
      },
      "execution_count": 64,
      "outputs": [
        {
          "output_type": "stream",
          "name": "stdout",
          "text": [
            "Accuracy: 0.6998819970748571\n",
            "Precision: 0.765022731765171\n",
            "Recall: 0.330501056766508\n",
            "F1 Score: 0.46158892019619235\n",
            "Mean Absolute Error: 0.30011800292514296\n",
            "Cohens kappa: 0.2963221681287075\n",
            "ROC AUC: 0.632901388986016\n",
            "Train Time(s):  0.11553382499914733\n",
            "Test Time(s):  0.026248005997331347\n"
          ]
        }
      ]
    },
    {
      "cell_type": "markdown",
      "source": [
        "**8. MLP**"
      ],
      "metadata": {
        "id": "EfOlmlLB-nSe"
      }
    },
    {
      "cell_type": "code",
      "source": [
        "from sklearn.neural_network import MLPClassifier\n",
        "from sklearn.metrics import confusion_matrix, zero_one_loss\n",
        "from sklearn.metrics import accuracy_score\n",
        "\n",
        "\n",
        "\n",
        "#Calculate start time\n",
        "start = timeit.default_timer()\n",
        "\n",
        "# n_neighbors=3\n",
        "\n",
        "#Create a Gaussian Classifier\n",
        "clf=MLPClassifier(random_state=17)\n",
        "\n",
        "#Train the model using the training sets y_pred=clf.predict(X_test)\n",
        "clf.fit(X_train,y_train)\n",
        "\n",
        "#Calculate Stop time\n",
        "stop = timeit.default_timer()\n",
        "train_time= stop - start"
      ],
      "metadata": {
        "id": "5a2ZoHzr-pYK"
      },
      "execution_count": 66,
      "outputs": []
    },
    {
      "cell_type": "code",
      "source": [
        "#Calculate start time\n",
        "start = timeit.default_timer()\n",
        "\n",
        "# Predict the model\n",
        "y_pred=clf.predict(X_test)\n",
        "\n",
        "#Calculate Stop time\n",
        "stop = timeit.default_timer()\n",
        "test_time= stop - start"
      ],
      "metadata": {
        "id": "i-4qbj1f-9UX"
      },
      "execution_count": 67,
      "outputs": []
    },
    {
      "cell_type": "code",
      "source": [
        "print(confusion_matrix(y_test,y_pred))\n",
        "print(classification_report(y_test,y_pred))"
      ],
      "metadata": {
        "colab": {
          "base_uri": "https://localhost:8080/"
        },
        "id": "DgZsB3fJ--bf",
        "outputId": "66b16afb-48db-41bd-f1c7-a79d29c4e9b8"
      },
      "execution_count": 68,
      "outputs": [
        {
          "output_type": "stream",
          "name": "stdout",
          "text": [
            "[[71004  2491]\n",
            " [20987 25854]]\n",
            "              precision    recall  f1-score   support\n",
            "\n",
            "           0       0.77      0.97      0.86     73495\n",
            "           1       0.91      0.55      0.69     46841\n",
            "\n",
            "    accuracy                           0.80    120336\n",
            "   macro avg       0.84      0.76      0.77    120336\n",
            "weighted avg       0.83      0.80      0.79    120336\n",
            "\n"
          ]
        }
      ]
    },
    {
      "cell_type": "code",
      "source": [
        "# Model Accuracy: how often is the classifier correct?\n",
        "print(\"Accuracy:\",metrics.accuracy_score(y_test, y_pred))\n",
        "\n",
        "# Model Precision: what percentage of positive tuples are labeled as such?\n",
        "print(\"Precision:\",metrics.precision_score(y_test, y_pred))\n",
        "\n",
        "# Model Recall: what percentage of positive tuples are labelled as such?\n",
        "print(\"Recall:\",metrics.recall_score(y_test, y_pred))\n",
        "\n",
        "#Calculate F1 Score\n",
        "print(\"F1 Score:\",metrics.f1_score(y_test, y_pred))\n",
        "\n",
        "#Calculate Mean Absolute Error\n",
        "print(\"Mean Absolute Error:\",metrics.mean_absolute_error(y_test, y_pred))\n",
        "\n",
        "# kappa\n",
        "print(\"Cohens kappa:\", metrics.cohen_kappa_score(y_test, y_pred))\n",
        "\n",
        "# ROC AUC\n",
        "print(\"ROC AUC:\", metrics.roc_auc_score(y_test, y_pred))\n",
        "\n",
        "#Train time\n",
        "print('Train Time(s): ',train_time) \n",
        "\n",
        "#Test time\n",
        "print('Test Time(s): ',test_time)"
      ],
      "metadata": {
        "colab": {
          "base_uri": "https://localhost:8080/"
        },
        "id": "tdwWKcPr_CdX",
        "outputId": "7d40ea4d-f53a-4f63-e012-1a0bb705d56e"
      },
      "execution_count": 69,
      "outputs": [
        {
          "output_type": "stream",
          "name": "stdout",
          "text": [
            "Accuracy: 0.8048962903869167\n",
            "Precision: 0.9121185394249427\n",
            "Recall: 0.5519523494374586\n",
            "F1 Score: 0.6877344186417683\n",
            "Mean Absolute Error: 0.19510370961308338\n",
            "Cohens kappa: 0.5580139006166511\n",
            "ROC AUC: 0.7590294436485884\n",
            "Train Time(s):  156.58181299900025\n",
            "Test Time(s):  0.1123139839983196\n"
          ]
        }
      ]
    }
  ]
}